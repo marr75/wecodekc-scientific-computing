{
  "nbformat": 4,
  "nbformat_minor": 0,
  "metadata": {
    "colab": {
      "provenance": [],
      "authorship_tag": "ABX9TyPc7g/jonivrOowRApCTFbR",
      "include_colab_link": true
    },
    "kernelspec": {
      "name": "python3",
      "display_name": "Python 3"
    },
    "language_info": {
      "name": "python"
    }
  },
  "cells": [
    {
      "cell_type": "markdown",
      "metadata": {
        "id": "view-in-github",
        "colab_type": "text"
      },
      "source": [
        "<a href=\"https://colab.research.google.com/github/marr75/wecodekc-scientific-computing/blob/main/coding-with-ai.ipynb\" target=\"_parent\"><img src=\"https://colab.research.google.com/assets/colab-badge.svg\" alt=\"Open In Colab\"/></a>"
      ]
    },
    {
      "cell_type": "markdown",
      "source": [
        "# Section 1: Introduction to AI and LLM Models\n",
        "\n",
        "## Important links:\n",
        "- [ChatGPT](https://chat.openai.com)\n",
        "- [Colab](https://colab.research.google.com/)\n",
        "- [WizardCoder](https://huggingface.co/WizardLM/WizardCoder-Python-34B-V1.0)\n",
        "- [AppyPie](https://www.appypie.com/)\n",
        "\n",
        "## Warm-up: Let's Chat with ChatGPT\n",
        "Navigate to ChatGPT, sign in, and let's get chatting!"
      ],
      "metadata": {
        "id": "ki0mwtrmBevE"
      }
    },
    {
      "cell_type": "markdown",
      "source": [
        "## Key terms\n",
        "\n",
        "- Neural Networks:\n",
        "   - **Simple Explanation:**\n",
        "     - A neural network is like a software brain made of tiny parts called neurons. These neurons can work together to solve problems or make decisions, just like how different parts of our brain work together when we think!\n",
        "   - **Why It's Important:**\n",
        "     - Neural networks can process information and learn, making them very versatile and useful in many areas of science and technology, like understanding languages, recognizing images, and playing games.\n",
        "\n",
        "- Training:\n",
        "   - **Simple Explanation:**\n",
        "     - Training a neural network is similar to teaching a dog new tricks using commands and rewards. We give the network many examples and let it learn from them, adjusting its neurons, so it gets better at the tasks, just like a dog gets better at doing tricks with practice!\n",
        "   - **Why It's Important:**\n",
        "     - Training helps the neural network to improve and become more accurate in doing tasks, allowing it to be a helpful tool in solving a variety of problems in the real world.\n",
        "\n",
        "- Parameters (Weights and Biases):\n",
        "   - **Simple Explanation:**\n",
        "     - Parameters are like the settings in a computer brain that help it make decisions. Imagine you're trying to balance on one foot; you adjust your weight and position to stay balanced—that's like what the parameters do! \"Weights\" are how much importance the computer brain gives to different pieces of information, and \"biases\" help it make decisions even when it's unsure.\n",
        "   - **Why It's Important:**\n",
        "     - Parameters help the computer brain make more complex and accurate decisions. By adjusting the weights and biases, we can make the computer brain smarter and better at solving problems!\n",
        "\n",
        "- Transformer Architecture:\n",
        "   - **Simple Explanation:**\n",
        "     - Imagine you have a super-robot that can look at many things at once instead of one thing at a time—that's what the transformer architecture does! It can understand lots of pieces of information at the same time (this is called \"parallelization\") and knows where each piece is located (using something called \"positional encoding\"). It’s not just good at understanding words; it’s also great at understanding pictures, sounds, and videos!\n",
        "   - **Why It's Important:**\n",
        "     - Because it can understand many things at once and is good with different kinds of information, the transformer architecture is a powerful tool in creating smart computer brains (like GPT) that can help us understand and create in many different areas like art, music, and science.\n",
        "\n",
        "\n",
        "- Attention Mechanism:\n",
        "   - **Simple Explanation:**\n",
        "     - It's like when you pay more attention to your teacher's voice in a noisy room. This helps the computer focus on the important parts of the information it's getting.\n",
        "   - **Why It's Important:**\n",
        "     - It helps computers sort through a lot of information and focus on what's important to understand and respond accurately.\n",
        "\n",
        "- Generative Pretrained Transformer (GPT):\n",
        "   - **Simple Explanation:**\n",
        "     - Imagine GPT as a computer brain that loves to read and write! It has read lots of books, websites, and articles and remembers what it learned. When you give it a piece of writing, it tries to continue the writing in a way that makes sense based on what it has learned.\n",
        "   - **Why It's Important:**\n",
        "     - GPT can understand and create human-like text. This means it can help us write, answer our questions, and even chat with us, making it a useful tool for learning and creating.\n",
        "\n",
        "- NVIDIA Volta (Specifically A100):\n",
        "   - **Simple Explanation:**\n",
        "     - Think of NVIDIA Volta like a super-powered engine for a computer! The A100 model has a huge \"memory trunk\" of 40-80GB to store and process lots of information really quickly. It's like having a giant, fast brain that can think about tons of things at once! In comparison, a high-end gaming graphics card, which is like a smaller engine, only has a \"memory trunk\" of about 8-12GB.\n",
        "   - **Why It's Important:**\n",
        "     - Having a big \"memory trunk\" lets computers think about and understand really big and complex ideas, like those in huge AI models. This helps scientists and researchers solve big problems and make new discoveries!\n"
      ],
      "metadata": {
        "id": "Ivpc88BvG_b5"
      }
    },
    {
      "cell_type": "markdown",
      "source": [
        "[AI Timeline](https://time.graphics/line/790163)\n",
        "\n",
        "GPT3 Costs: ~$5M and 355 \"GPU Years\"\n",
        "\n",
        "GPT4 Costs: ~$200M and 14,000 \"GPU Years\""
      ],
      "metadata": {
        "id": "H-XSSKoPHLmU"
      }
    },
    {
      "cell_type": "markdown",
      "source": [
        "# Section 2: Coding with AI/LLM Models\n",
        "\n",
        "LLMs don't just chat! They're great at writing (and helping you write) code.\n",
        "\n",
        "They're particularly good at understanding, writing, and refactoring python code (because of it's similarities to English). They can perform well on most of the other popular programming languages, too.\n",
        "\n",
        "We'll take a look at:\n",
        "- ChatGPT\n",
        "- GitHub Copilot\n",
        "- WizardCoder\n",
        "\n",
        "Then we'll look at \"AppyPie\". A new kind of platform that uses AI to generate entire applications from a description."
      ],
      "metadata": {
        "id": "8WYQtSW7IbYv"
      }
    },
    {
      "cell_type": "markdown",
      "source": [
        "# Section 3: Solving code problems with ChatGPT Free\n",
        "\n",
        "We're going to get ChatGPT to help us write python code that will find prime numbers efficiently.\n",
        "\n",
        "We want a method named `sieve_of_eratosthenes` that will take an upper-bound (the highest number to check) and return all numbers that are prime below that number (from 1 and up).\n",
        "\n",
        "We'll set up a test to make sure the code the AI helps us create is right."
      ],
      "metadata": {
        "id": "-JaNHmnWLkMm"
      }
    },
    {
      "cell_type": "code",
      "source": [
        "def test_sieve_of_eratosthenes():\n",
        "    assert sieve_of_eratosthenes(10) == [2, 3, 5, 7], \"Test Case 1 Failed\"\n",
        "    assert sieve_of_eratosthenes(20) == [2, 3, 5, 7, 11, 13, 17, 19], \"Test Case 2 Failed\"\n",
        "    assert sieve_of_eratosthenes(2) == [2], \"Test Case 3 Failed\"\n",
        "    assert sieve_of_eratosthenes(1) == [], \"Test Case 4 Failed\"\n",
        "    assert sieve_of_eratosthenes(30) == [2, 3, 5, 7, 11, 13, 17, 19, 23, 29], \"Test Case 5 Failed\"\n",
        "    print(\"All Test Cases Pass\")\n",
        "\n",
        "def sieve_of_eratosthenes(upper_bound):\n",
        "    # Implementation of the method here\n",
        "    pass\n",
        "\n",
        "test_sieve_of_eratosthenes()\n"
      ],
      "metadata": {
        "id": "jvf0AbX2Mu6f"
      },
      "execution_count": null,
      "outputs": []
    },
    {
      "cell_type": "markdown",
      "source": [
        "# Section 4: Creating python programs\n",
        "\n",
        "Here are 10 ideas for python programs you can make during the next 30 minutes with the help of ChatGPT, WizardCoder, and the volunteers here.\n",
        "\n",
        "Pair up with someone if you would like, but try to create program within the next cell(s) that does one of the things below.\n",
        "\n",
        "1. Palindrome Checker\n",
        "\n",
        "    Create a Python script that checks if a given word or phrase is a palindrome and returns the result to the user.\n",
        "\n",
        "2. Simple Calculator\n",
        "\n",
        "    Develop a calculator that can perform basic arithmetic operations like addition, subtraction, multiplication, and division. Users should be able to input two numbers and select an operation.\n",
        "\n",
        "3. Prime Number Finder\n",
        "\n",
        "    Write a script that finds all prime numbers up to a given number (can use the sieve_of_eratosthenes function developed earlier).\n",
        "\n",
        "4. Hangman Game\n",
        "\n",
        "    Develop a simple text-based Hangman game where users can guess letters to figure out a hidden word.\n",
        "\n",
        "5. Sorting Visualizer\n",
        "\n",
        "    Create a visual representation of various sorting algorithms (like bubble sort, insertion sort) using plots to show how the elements are sorted step by step.\n",
        "\n",
        "6. Fibonacci Sequence Generator\n",
        "\n",
        "    Develop a script that generates the Fibonacci sequence up to a user-defined number.\n",
        "\n",
        "7. To-Do List\n",
        "\n",
        "    Build a simple To-Do list where users can add tasks, mark them as done, and delete them.\n",
        "\n",
        "8. Number Guessing Game\n",
        "\n",
        "    Write a number guessing game where the computer randomly selects a number within a range and the user has to guess it, receiving hints if the guessed number is too high or too low.\n",
        "\n",
        "9. Simple Cipher\n",
        "\n",
        "    Create a script that can encode and decode messages using a simple substitution cipher, where each letter in the plaintext is replaced with a letter with a fixed relationship to it.\n",
        "\n",
        "10. Geometry Area Calculator\n",
        "\n",
        "    Develop a script that calculates the area of different geometric shapes, allowing users to input necessary dimensions and choose the shape they want to calculate the area for.\n",
        "\n",
        "If you finish early, see how many of the programs you can finish."
      ],
      "metadata": {
        "id": "wqq8xxEcMz1P"
      }
    },
    {
      "cell_type": "code",
      "source": [
        "# Your program here\n",
        "\n",
        "\n"
      ],
      "metadata": {
        "id": "AAxjlBM6PRWU"
      },
      "execution_count": 9,
      "outputs": []
    },
    {
      "cell_type": "markdown",
      "source": [
        "# Section 5: Discussion\n",
        "\n",
        "- The potential impacts of AI on software development and other technology jobs\n",
        "- What are your thoughts on using AI in development?\n",
        "- How do you see this impacting your career?\n",
        "- What are your views on the risks and benefits of using AI in coding and development?"
      ],
      "metadata": {
        "id": "FAu755ywPTbj"
      }
    },
    {
      "cell_type": "markdown",
      "source": [
        "# Section 6: Closing remarks and Q&A"
      ],
      "metadata": {
        "id": "B_pkCqCwPyJc"
      }
    },
    {
      "cell_type": "code",
      "source": [],
      "metadata": {
        "id": "aY3Idn62P6Bn"
      },
      "execution_count": null,
      "outputs": []
    }
  ]
}