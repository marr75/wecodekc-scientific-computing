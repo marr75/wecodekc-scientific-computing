{
 "cells": [
  {
   "cell_type": "markdown",
   "id": "6756e632",
   "metadata": {},
   "source": [
    "# Section 2: Applying Neural Networks to Physical Laws with FastAI\n",
    "\n",
    "In the previous section, we learned the basics of PyTorch. Now, we will use FastAI, a library that simplifies training neural networks using high-level abstractions. In this section, we'll teach a neural network to understand and predict outcomes based on the Ideal Gas Law, a fundamental equation in chemistry and physics."
   ]
  },
  {
   "cell_type": "markdown",
   "id": "e2e1c7cd",
   "metadata": {},
   "source": [
    "## Environment Setup\n",
    "\n",
    "Ensure your Google Colab environment is set for this section by installing FastAI."
   ]
  },
  {
   "cell_type": "code",
   "execution_count": null,
   "id": "1e701b8f",
   "metadata": {},
   "outputs": [],
   "source": [
    "!pip install fastai --upgrade"
   ]
  },
  {
   "cell_type": "code",
   "execution_count": null,
   "id": "809b422f",
   "metadata": {},
   "outputs": [],
   "source": [
    "from fastai.tabular.all import TabularDataLoaders, tabular_learner, Normalize, rmse\n",
    "from fastai.callback import tracker as cb_tracker\n",
    "from fastai.callback.progress import ShowGraphCallback\n",
    "import numpy as np\n",
    "import pandas as pd\n",
    "from IPython.display import display"
   ]
  },
  {
   "cell_type": "markdown",
   "id": "c64ef67a",
   "metadata": {},
   "source": [
    "## Generating Synthetic Data for the Ideal Gas Law\n",
    "\n",
    "To apply what we've learned to real-world scenarios, we'll create synthetic data based on the Ideal Gas Law: \\( PV = nRT \\). Here, we treat Pressure (P), Volume (V), and Amount of substance (n) as inputs and calculate Temperature (T) as the output. This simulated dataset will help us train our model."
   ]
  },
  {
   "cell_type": "code",
   "execution_count": null,
   "id": "e2ccdb61",
   "metadata": {},
   "outputs": [],
   "source": [
    "# Constants\n",
    "R = 8.314  # Ideal Gas Constant in J/(mol*K)\n",
    "\n",
    "# Generate random data for Pressure (P), Volume (V), and Amount of substance (n)\n",
    "num_samples = 1000\n",
    "P = np.random.uniform(1, 100, num_samples)  # Pressure in atmospheres\n",
    "V = np.random.uniform(1, 100, num_samples)  # Volume in liters\n",
    "n = np.random.uniform(0.1, 5, num_samples)  # Amount of substance in moles\n",
    "\n",
    "# Calculate Temperature (T) using the Ideal Gas Law: T = PV / (nR)\n",
    "T = (P * V) / (n * R)\n",
    "\n",
    "# Convert data into a Pandas DataFrame\n",
    "df = pd.DataFrame({\"Pressure\": P, \"Volume\": V, \"Amount\": n, \"Temperature\": T})"
   ]
  },
  {
   "cell_type": "code",
   "execution_count": null,
   "id": "bbdc158f",
   "metadata": {},
   "outputs": [],
   "source": [
    "# Let's take a look at the first few rows and some summary stats of the DataFrame\n",
    "display(df.head(), \"\", df.describe())"
   ]
  },
  {
   "cell_type": "code",
   "execution_count": null,
   "id": "187d4edf",
   "metadata": {},
   "outputs": [],
   "source": [
    "# Convert DataFrame to FastAI DataLoaders\n",
    "dls = TabularDataLoaders.from_df(\n",
    "    df,\n",
    "    path=\".\",\n",
    "    y_names=[\"Temperature\"],\n",
    "    cat_names=None,\n",
    "    cont_names=[\"Pressure\", \"Volume\", \"Amount\"],\n",
    "    procs=[Normalize],\n",
    ")"
   ]
  },
  {
   "cell_type": "markdown",
   "id": "0356a463",
   "metadata": {},
   "source": [
    "## Defining the Neural Network Model\n",
    "\n",
    "Using FastAI's `tabular_learner`, we will create a neural network model. This function allows us to specify several important settings:\n",
    "\n",
    "- **y_range**: This parameter sets the range of the output values (Temperature in this case). We specify `[0,600]` because we expect our calculated temperatures to fall within this range based on the input data. Setting this range helps the model focus its learning on a specific interval of values, improving accuracy.\n",
    "\n",
    "- **layers**: This parameter defines the structure of the neural network in terms of hidden layers and the number of neurons in each layer. Here, `[200,100]` means the first hidden layer has 200 neurons, and the second has 100 neurons. More neurons and layers can model more complex relationships but may require more data and training time.\n",
    "\n",
    "- **metrics**: These are functions used to evaluate the model's performance. We use `rmse` (root mean squared error), which measures the average magnitude of the errors between predicted values and actual values. Lower values of RMSE indicate better performance, as it means the predictions are closer to the actual values."
   ]
  },
  {
   "cell_type": "code",
   "execution_count": null,
   "id": "8cc6bb39",
   "metadata": {},
   "outputs": [],
   "source": [
    "learn = tabular_learner(dls, y_range=(0, 7000), layers=[8, 8, 8], metrics=rmse)"
   ]
  },
  {
   "cell_type": "markdown",
   "id": "e6562cce",
   "metadata": {},
   "source": [
    "## Training the Model\n",
    "\n",
    "Now that our model is set up, it's time to train it. Training involves showing the model the data, allowing it to make predictions, and adjusting its parameters to improve those predictions over time. We use the `fit_one_cycle` method, which is a powerful technique to speed up training and improve model performance."
   ]
  },
  {
   "cell_type": "code",
   "execution_count": null,
   "id": "248589bb",
   "metadata": {
    "lines_to_next_cell": 0
   },
   "outputs": [],
   "source": [
    "# Train the model for 5 epochs using a learning rate of 0.01"
   ]
  },
  {
   "cell_type": "code",
   "execution_count": null,
   "id": "6af67286",
   "metadata": {},
   "outputs": [],
   "source": [
    "# Setup learning rate scheduler\n",
    "lr_scheduler = cb_tracker.ReduceLROnPlateau(factor=10, patience=3)\n",
    "early_stopping = cb_tracker.EarlyStoppingCallback(patience=5)\n",
    "progress_graph = ShowGraphCallback()\n",
    "\n",
    "# Train the model for 1000 epochs, using the learning rate scheduler\n",
    "epochs = 10\n",
    "initial_learning_rate = 1e-1\n",
    "learn.fit_one_cycle(10, initial_learning_rate, cbs=[lr_scheduler, early_stopping, progress_graph])"
   ]
  },
  {
   "cell_type": "markdown",
   "id": "514005da",
   "metadata": {},
   "source": [
    "## Evaluating the Model\n",
    "\n",
    "After training, we'll evaluate how well our model is performing by looking at its predictions on the data. FastAI provides an easy method to display the results, which includes the input values, the true outputs, and the model's predictions."
   ]
  },
  {
   "cell_type": "code",
   "execution_count": null,
   "id": "ccdc0d25",
   "metadata": {},
   "outputs": [],
   "source": [
    "# Show results from the model's predictions, displaying actual and predicted values\n",
    "learn.show_results(max_n=10)  # Display results for 10 examples"
   ]
  },
  {
   "cell_type": "markdown",
   "id": "a9f94e35",
   "metadata": {},
   "source": [
    "# Optimization Challenge\n",
    "\n",
    "Now that we've seen the baseline model in action, it's time for a challenge! Can you improve the model's performance? Here are a few areas you might consider exploring:\n",
    "\n",
    "1. **Model Architecture**: Adjust the number of layers and the number of neurons in each layer. Does increasing or decreasing these improve performance?\n",
    "2. **Learning Rate**: Experiment with different learning rates. What happens if you increase or decrease it?\n",
    "3. **Epochs**: Change the number of epochs. Does training for more or fewer epochs affect the outcome?\n",
    "4. **Learning Rate Scheduler**: Adjust the parameters of the learning rate scheduler. Can you find a better combination of `factor` and `patience`?\n",
    "5. **Early Stopping**: Modify the `patience` of the early stopping callback. How does this change the training dynamics?\n",
    "6. **Batch Size**: Adjust the batch size in the DataLoader. Larger or smaller batches may yield different results.\n",
    "\n",
    "Document your experiments and results. Which changes had the most significant impact and why do you think that is?"
   ]
  },
  {
   "cell_type": "code",
   "execution_count": null,
   "id": "b355c902",
   "metadata": {},
   "outputs": [],
   "source": [
    "# Define the model with adjustable parameters\n",
    "layers = [8, 8, 8]  # Consider changing the structure here\n",
    "learning_rate = 0.01  # Experiment with different learning rates\n",
    "num_epochs = 10  # Modify the number of epochs\n",
    "\n",
    "# Create the learner\n",
    "learn = tabular_learner(dls, y_range=(0, 7000), layers=layers, metrics=rmse)\n",
    "\n",
    "# Define callbacks for learning rate scheduling and early stopping\n",
    "lr_scheduler = cb_tracker.ReduceLROnPlateau(factor=10, patience=3)\n",
    "early_stopping = cb_tracker.EarlyStoppingCallback(patience=5)\n",
    "progress_graph = ShowGraphCallback()\n",
    "\n",
    "# Train the model with configurable parameters\n",
    "learn.fit_one_cycle(num_epochs, learning_rate, cbs=[lr_scheduler, early_stopping, progress_graph])\n",
    "learn.show_results(max_n=10)  # Display results for 10 examples"
   ]
  },
  {
   "cell_type": "markdown",
   "id": "727e4b57",
   "metadata": {},
   "source": [
    "# Bonus Challenge: Model a New Physical Equation\n",
    "\n",
    "Now that you've experimented with optimizing a neural network for the Ideal Gas Law, let's take it a step further. Can you apply what you've learned to model a different physical equation? Here are a few suggestions, but feel free to choose any other physical equation that interests you:\n",
    "\n",
    "- **Newton's Second Law of Motion**: F = ma (Force = mass x acceleration)\n",
    "- **Ohm's Law**: V = IR (Voltage = Current x Resistance)\n",
    "- **Hooke's Law**: F = kx (Force = spring constant x displacement)\n",
    "\n",
    "Your task is to:\n",
    "1. Choose a physical equation to model.\n",
    "2. Generate synthetic data that represents the equation.\n",
    "3. Define and train a neural network to learn the relationship described by your chosen equation.\n",
    "\n",
    "Feel free to use resources like ChatGPT or DeepSeek's Coder to help brainstorm and code your synthetic data generation. This challenge will test your ability to apply machine learning concepts to real-world physics problems creatively.\n",
    "\n",
    "Document your process, the challenges you face, and how you overcome them. How well does your model learn the physics equation? What insights can you draw from this exercise?"
   ]
  }
 ],
 "metadata": {
  "jupytext": {
   "cell_metadata_filter": "-all",
   "main_language": "python",
   "notebook_metadata_filter": "-all"
  }
 },
 "nbformat": 4,
 "nbformat_minor": 5
}
