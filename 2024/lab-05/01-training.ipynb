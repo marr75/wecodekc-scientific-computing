{
 "cells": [
  {
   "cell_type": "markdown",
   "id": "ebbec14a",
   "metadata": {},
   "source": [
    "# Lab 5: Training a PyTorch Neural Network\n",
    "\n",
    "Welcome to Lab 5! Today, we'll learn about training a neural network using PyTorch. In this lab, we'll cover the\n",
    "basic elements of a PyTorch model, its important methods, the hyperparameters of the model, and some strategies for\n",
    "controlling training.\n",
    "\n",
    "Let's start by installing the necessary libraries."
   ]
  },
  {
   "cell_type": "markdown",
   "id": "1ad7a2f8",
   "metadata": {},
   "source": [
    "## Selecting a T4 GPU as the Runtime\n",
    "\n",
    "Before we begin, make sure you have a GPU runtime selected in Google Colab. Using a GPU will significantly speed up\n",
    "the training process. Follow these steps to select a T4 GPU:\n",
    "\n",
    "1. **Navigate to Runtime Settings:**\n",
    "   - At the top menu, click on `Runtime`.\n",
    "   - Select `Change runtime type`.\n",
    "\n",
    "2. **Select GPU:**\n",
    "   - In the pop-up window, find the `Hardware accelerator` section.\n",
    "   - Select the 'T4 GPU' radio button.\n",
    "\n",
    "3. **Save Settings:**\n",
    "   - Click `Save`.\n",
    "\n",
    "Your Google Colab environment will now restart with GPU acceleration enabled."
   ]
  },
  {
   "cell_type": "markdown",
   "id": "979e0e36",
   "metadata": {},
   "source": [
    "## Install Necessary Libraries\n",
    "\n",
    "We're using Google Colab, which already has most libraries installed. However, we'll need to ensure we have the\n",
    "latest versions of some important libraries."
   ]
  },
  {
   "cell_type": "code",
   "execution_count": null,
   "id": "ea48f771",
   "metadata": {},
   "outputs": [],
   "source": [
    "!pip install plotly pandas torch --upgrade"
   ]
  },
  {
   "cell_type": "markdown",
   "id": "d68902d4",
   "metadata": {},
   "source": [
    "Great! Now that we have the necessary libraries installed, let's dive into the basic elements of a PyTorch model."
   ]
  },
  {
   "cell_type": "markdown",
   "id": "aee5ada5",
   "metadata": {},
   "source": [
    "## Basic Elements of a PyTorch Model\n",
    "\n",
    "We'll start by importing the necessary libraries and defining a simple neural network model to predict the distance\n",
    "between two points using the Pythagorean theorem."
   ]
  },
  {
   "cell_type": "markdown",
   "id": "9a41d85b",
   "metadata": {},
   "source": [
    "### Importing Libraries"
   ]
  },
  {
   "cell_type": "code",
   "execution_count": null,
   "id": "28989f92",
   "metadata": {
    "lines_to_next_cell": 2
   },
   "outputs": [],
   "source": [
    "# First, let's import the libraries we'll need.\n",
    "import numpy as np\n",
    "import pandas as pd\n",
    "import plotly.express as px\n",
    "import torch\n",
    "import torch.nn as nn\n",
    "import torch.optim as optim\n",
    "from IPython.display import display"
   ]
  },
  {
   "cell_type": "markdown",
   "id": "de368cb7",
   "metadata": {},
   "source": [
    "### Defining the Pythagorean Theorem Model\n",
    "In PyTorch, we define a neural network by creating a class that inherits from `torch.nn.Module`. This class must\n",
    "have two methods: `__init__` and `forward`."
   ]
  },
  {
   "cell_type": "code",
   "execution_count": null,
   "id": "d4e5c488",
   "metadata": {},
   "outputs": [],
   "source": [
    "# Check if GPU is available\n",
    "device = torch.device(\"cuda\" if torch.cuda.is_available() else \"cpu\")\n",
    "print(f\"Using device: {device}\")"
   ]
  },
  {
   "cell_type": "code",
   "execution_count": null,
   "id": "2c6050ef",
   "metadata": {},
   "outputs": [],
   "source": [
    "class PythagoreanModel(nn.Module):\n",
    "    def __init__(self) -> None:\n",
    "        \"\"\"\n",
    "        Initializes the layers of the neural network.\n",
    "        \"\"\"\n",
    "        super().__init__()\n",
    "        self.hidden = nn.Linear(in_features=2, out_features=12)  # Two inputs (x, y) and hidden layer with 10 neurons\n",
    "        self.output = nn.Linear(in_features=12, out_features=1)  # Output layer with one neuron\n",
    "\n",
    "    def forward(self, x: torch.Tensor) -> torch.Tensor:\n",
    "        \"\"\"\n",
    "        Defines the forward pass of the network.\n",
    "\n",
    "        Args:\n",
    "            x (torch.Tensor): Input tensor of shape (batch_size, 2).\n",
    "\n",
    "        Returns:\n",
    "            torch.Tensor: Output tensor of shape (batch_size, 1).\n",
    "        \"\"\"\n",
    "        x = torch.relu(self.hidden(x))  # Apply ReLU activation\n",
    "        x = self.output(x)\n",
    "        return x"
   ]
  },
  {
   "cell_type": "markdown",
   "id": "09d6a6e9",
   "metadata": {},
   "source": [
    "In this example, we define a simple neural network with one hidden layer to predict the distance between two points."
   ]
  },
  {
   "cell_type": "markdown",
   "id": "509118a1",
   "metadata": {},
   "source": [
    "### Instantiating the Model\n",
    "Now, let's create an instance of our `PythagoreanModel` model. This is like creating our own little mathematical\n",
    "wizard who will learn to calculate the distance between two points."
   ]
  },
  {
   "cell_type": "code",
   "execution_count": null,
   "id": "c1caaec2",
   "metadata": {},
   "outputs": [],
   "source": [
    "model = PythagoreanModel().to(device)"
   ]
  },
  {
   "cell_type": "markdown",
   "id": "bea992bc",
   "metadata": {},
   "source": [
    "Let's take a look at our model."
   ]
  },
  {
   "cell_type": "code",
   "execution_count": null,
   "id": "896bb92e",
   "metadata": {},
   "outputs": [],
   "source": [
    "display(model)"
   ]
  },
  {
   "cell_type": "markdown",
   "id": "11184a78",
   "metadata": {},
   "source": [
    "### Defining the Loss Function and Optimizer\n",
    "We need to tell our wizard how to measure its mistakes (loss function) and how to improve (optimizer).\n",
    "\n",
    "**Mean Squared Error (MSE) Loss:** This loss function measures how far off our predictions are from the actual\n",
    "distances. It takes the difference between the predicted and actual values, squares it to make sure it's positive,\n",
    "and then averages these squared differences. The smaller this number, the better our model is performing.\n",
    "\n",
    "**Adam Optimizer:** This optimizer helps our model learn and improve its predictions. It's like a smart guide that\n",
    "adjusts the model's parameters (weights) to minimize the loss. Adam is a popular choice because it's efficient and\n",
    "adapts the learning rate during training, making the learning process smoother."
   ]
  },
  {
   "cell_type": "code",
   "execution_count": null,
   "id": "b5589ecb",
   "metadata": {},
   "outputs": [],
   "source": [
    "loss_function = nn.MSELoss()\n",
    "optimizer = optim.Adam(params=model.parameters(), lr=0.001)"
   ]
  },
  {
   "cell_type": "markdown",
   "id": "d83f2324",
   "metadata": {},
   "source": [
    "Now that we have our model, loss function, and optimizer defined, let's create some synthetic data to train our model."
   ]
  },
  {
   "cell_type": "markdown",
   "id": "96ef527a",
   "metadata": {},
   "source": [
    "### Creating Synthetic Data\n",
    "Let's generate some synthetic data points to train our model. These data points will follow the Pythagorean theorem:\n",
    "\n",
    "Given coordinates (a, b), the target will be the distance c, computed as `c = sqrt(a^2 + b^2)`.\n",
    "\n",
    "Imagine we're teaching our wizard to measure the distance between two points on a map!"
   ]
  },
  {
   "cell_type": "code",
   "execution_count": null,
   "id": "5516d83c",
   "metadata": {},
   "outputs": [],
   "source": [
    "# Generate random (a, b) pairs\n",
    "num_samples = 1000\n",
    "a = np.random.uniform(low=-100, high=100, size=num_samples)  # Random values between -10 and 10\n",
    "b = np.random.uniform(low=-100, high=100, size=num_samples)  # Random values between -10 and 10\n",
    "c = np.sqrt(a**2 + b**2)  # Solution to the Pythagorean theorem\n",
    "\n",
    "# Convert to PyTorch tensors\n",
    "input_data = np.column_stack((a, b))  # Combine (a, b) pairs\n",
    "# Our input AKA (a, b) pairs, shaped for PyTorch learning\n",
    "inputs = torch.tensor(data=input_data, dtype=torch.float32).to(device)\n",
    "# Our target AKA the distance, shaped for PyTorch learning\n",
    "targets = torch.tensor(data=c, dtype=torch.float32).to(device).view(-1, 1)"
   ]
  },
  {
   "cell_type": "markdown",
   "id": "659cbd9a",
   "metadata": {},
   "source": [
    "Let's take a look"
   ]
  },
  {
   "cell_type": "code",
   "execution_count": null,
   "id": "cad00619",
   "metadata": {},
   "outputs": [],
   "source": [
    "df = pd.DataFrame(data={\"a\": a, \"b\": b, \"c\": c})\n",
    "fig = px.scatter_3d(df, x=\"a\", y=\"b\", z=\"c\", title=\"Pythagorean Theorem\")\n",
    "fig.update_traces(marker=dict(size=3))\n",
    "fig.show()"
   ]
  },
  {
   "cell_type": "markdown",
   "id": "dfcebc14",
   "metadata": {},
   "source": [
    "We've now created synthetic data following the Pythagorean theorem. Next, we will define a simple training loop to\n",
    "train our model on this data."
   ]
  },
  {
   "cell_type": "markdown",
   "id": "87951f4c",
   "metadata": {},
   "source": [
    "### Training the Model\n",
    "Now that we have our data and model ready, let's define a training loop. This loop will teach our model to predict\n",
    "the distance between two points. After each step, we'll see how our model improves."
   ]
  },
  {
   "cell_type": "code",
   "execution_count": null,
   "id": "dabd6221",
   "metadata": {},
   "outputs": [],
   "source": [
    "# Set the number of epochs (how many times we will go through the entire dataset)\n",
    "num_epochs = 10000\n",
    "\n",
    "# Loop over the dataset multiple times\n",
    "for epoch in range(num_epochs):\n",
    "    # Zero the parameter gradients\n",
    "    optimizer.zero_grad()\n",
    "    # Forward pass: compute predicted y by passing x to the model\n",
    "    predictions = model(inputs)\n",
    "    # Compute and print loss\n",
    "    loss = loss_function(predictions, targets)\n",
    "    # Backward pass: compute gradient of the loss with respect to model parameters\n",
    "    loss.backward()\n",
    "    # Update model parameters\n",
    "    optimizer.step()\n",
    "    # Print statistics every 1000 epochs\n",
    "    if (epoch + 1) % 1000 == 0:\n",
    "        print(f\"Epoch [{epoch + 1}/{num_epochs}], Loss: {loss.item():.4f}\")"
   ]
  },
  {
   "cell_type": "markdown",
   "id": "c722e720",
   "metadata": {},
   "source": [
    "Let's inspect our model's parameters and predictions."
   ]
  },
  {
   "cell_type": "code",
   "execution_count": null,
   "id": "ddf5cde2",
   "metadata": {},
   "outputs": [],
   "source": [
    "# Inspect model parameters\n",
    "for name, param in model.named_parameters():\n",
    "    print(f\"{name}: {param.data.cpu().numpy()}\")"
   ]
  },
  {
   "cell_type": "markdown",
   "id": "acbff6c3",
   "metadata": {},
   "source": [
    "### Explanation of Weights and Biases\n",
    "\n",
    "The weights and biases are the parameters our model adjusts during training. We've looked at these before, but as a\n",
    "reminder:\n",
    "\n",
    "- **Weights**: These determine the influence of each input feature on the output. They are adjusted during training\n",
    "to minimize the loss.\n",
    "- **Biases**: These are additional parameters that allow the model to fit the data better by shifting the activation\n",
    "function.\n",
    "\n",
    "We'll map these values to a drawing on the board to visualize how the model uses these parameters to make predictions."
   ]
  },
  {
   "cell_type": "code",
   "execution_count": null,
   "id": "67ddc01b",
   "metadata": {},
   "outputs": [],
   "source": [
    "# Inspect some predictions\n",
    "with torch.no_grad():\n",
    "    sample_inputs = inputs[:5]\n",
    "    sample_targets = targets[:5]\n",
    "    sample_predictions = model(sample_inputs)\n",
    "    print(\"Predictions from the model:\")\n",
    "    for i in range(5):\n",
    "        input_description = f\"({sample_inputs[i][0].item():.2f}, {sample_inputs[i][1].item():.2f})\"\n",
    "        target_description = f\"{sample_targets[i].item():.2f}\"\n",
    "        prediction_description = f\"{sample_predictions[i].item():.2f}\"\n",
    "        print(f\"Input: {input_description}, Target: {target_description}, Prediction: {prediction_description}\")"
   ]
  },
  {
   "cell_type": "markdown",
   "id": "0e488654",
   "metadata": {},
   "source": [
    "In this section, we've trained our model to predict distances using the Pythagorean theorem. We can see how the\n",
    "model's predictions compare to the actual distances."
   ]
  },
  {
   "cell_type": "markdown",
   "id": "c49de249",
   "metadata": {},
   "source": [
    "### Saving the Model\n",
    "Now that our model is trained, we can save it to a file so that we can load it later without retraining. This is useful if you want to reuse the model for predictions or further training."
   ]
  },
  {
   "cell_type": "code",
   "execution_count": null,
   "id": "5e7e5630",
   "metadata": {},
   "outputs": [],
   "source": [
    "# Save the model to a file\n",
    "model_save_path = \"pythagorean_model.pth\"\n",
    "torch.save(model.state_dict(), model_save_path)"
   ]
  },
  {
   "cell_type": "markdown",
   "id": "13ebb9eb",
   "metadata": {},
   "source": [
    "### Deleting the Model\n",
    "To demonstrate loading the model, let's first delete our current model instance."
   ]
  },
  {
   "cell_type": "code",
   "execution_count": null,
   "id": "bd9cc318",
   "metadata": {},
   "outputs": [],
   "source": [
    "del model"
   ]
  },
  {
   "cell_type": "markdown",
   "id": "06c095fa",
   "metadata": {},
   "source": [
    "### Loading the Model\n",
    "Now, we'll create a new instance of our model and load the saved parameters."
   ]
  },
  {
   "cell_type": "code",
   "execution_count": null,
   "id": "917a742d",
   "metadata": {},
   "outputs": [],
   "source": [
    "# Create a new instance of the model\n",
    "loaded_model = PythagoreanModel().to(device)\n",
    "\n",
    "# Load the saved model parameters\n",
    "loaded_model.load_state_dict(torch.load(model_save_path))\n",
    "\n",
    "# Set the model to evaluation mode\n",
    "loaded_model.eval()"
   ]
  },
  {
   "cell_type": "markdown",
   "id": "ca398e12",
   "metadata": {},
   "source": [
    "### Verifying the Loaded Model\n",
    "To ensure our model was loaded correctly, we'll predict the same items again and check if the predictions match."
   ]
  },
  {
   "cell_type": "code",
   "execution_count": null,
   "id": "374a1cee",
   "metadata": {},
   "outputs": [],
   "source": [
    "# Inspect some predictions\n",
    "with torch.no_grad():\n",
    "    sample_inputs = inputs[:5]\n",
    "    sample_targets = targets[:5]\n",
    "    sample_predictions = loaded_model(sample_inputs)\n",
    "    print(\"Predictions from the loaded model:\")\n",
    "    for i in range(5):\n",
    "        input_description = f\"({sample_inputs[i][0].item():.2f}, {sample_inputs[i][1].item():.2f})\"\n",
    "        target_description = f\"{sample_targets[i].item():.2f}\"\n",
    "        prediction_description = f\"{sample_predictions[i].item():.2f}\"\n",
    "        print(f\"Input: {input_description}, Target: {target_description}, Prediction: {prediction_description}\")"
   ]
  },
  {
   "cell_type": "markdown",
   "id": "8d35c450",
   "metadata": {},
   "source": [
    "As you can see, the predictions from the loaded model match the previous predictions, proving that we successfully\n",
    "saved and loaded the model."
   ]
  },
  {
   "cell_type": "markdown",
   "id": "46f668a5",
   "metadata": {},
   "source": [
    "## Hyperparameters and Strategies for Managing Them\n",
    "\n",
    "Hyperparameters are the settings that you configure before training a model. They can significantly affect the\n",
    "model's performance and training time.\n",
    "\n",
    "Here are some important hyperparameters and strategies for managing them:\n",
    "\n",
    "- **Learning Rate**: Controls how much the model's parameters are adjusted with respect to the loss gradient. A\n",
    "smaller learning rate can make training slower but more stable, while a larger learning rate can speed up training\n",
    "but might overshoot the optimal solution.\n",
    "\n",
    "- **Batch Size**: The number of samples processed before the model is updated. Smaller batch sizes can make training\n",
    "more stable, while larger batch sizes can speed up training.\n",
    "\n",
    "- **Number of Epochs**: The number of times the entire training dataset is passed through the model. More epochs can\n",
    "lead to better performance but can also cause overfitting if too many are used.\n",
    "\n",
    "### Smart Strategies\n",
    "\n",
    "- **Learning Rate Scheduling**: Adjusting the learning rate during training. For example, starting with a higher\n",
    "learning rate and gradually decreasing it can help the model converge faster and more accurately.\n",
    "\n",
    "- **Early Stopping**: Monitoring the model's performance on a validation set and stopping training when performance\n",
    "stops improving. This helps prevent overfitting.\n",
    "\n",
    "- **Regularization Techniques**: Methods like dropout (randomly turning off neurons during training) and weight decay\n",
    "(adding a penalty for large weights) can help the model generalize better and reduce overfitting.\n",
    "\n",
    "These strategies help manage hyperparameters effectively and improve the model's performance and training efficiency."
   ]
  },
  {
   "cell_type": "markdown",
   "id": "25719fc0",
   "metadata": {},
   "source": [
    "### Learning Rate Scheduling and Early Stopping\n",
    "Now, let's add a learning rate scheduler and early stopping to our training loop.\n",
    "\n",
    "**Learning Rate Scheduler**: We'll use `ReduceLROnPlateau`, which reduces the learning rate when a metric has stopped improving. This is a smart way to adjust the learning rate during training.\n",
    "\n",
    "**Early Stopping**: We'll implement a simple early stopping mechanism that stops training if the validation loss doesn't improve for a specified number of epochs."
   ]
  },
  {
   "cell_type": "code",
   "execution_count": null,
   "id": "80a4f736",
   "metadata": {},
   "outputs": [],
   "source": [
    "# Redefine model, loss function, and optimizer\n",
    "smart_model = PythagoreanModel().to(device)\n",
    "loss_function = nn.MSELoss()\n",
    "optimizer = optim.Adam(params=smart_model.parameters(), lr=0.1)\n",
    "\n",
    "# Define learning rate scheduler\n",
    "scheduler = optim.lr_scheduler.ReduceLROnPlateau(optimizer, mode=\"min\", factor=0.1, patience=100)\n",
    "\n",
    "# Early stopping parameters\n",
    "early_stopping_patience = 1200\n",
    "best_loss = float(\"inf\")\n",
    "epochs_no_improve = 0\n",
    "\n",
    "# Set number of epochs\n",
    "num_epochs = 10000\n",
    "\n",
    "# Training loop with early stopping and learning rate scheduling\n",
    "for epoch in range(num_epochs):\n",
    "    # Zero the parameter gradients\n",
    "    optimizer.zero_grad()\n",
    "    # Forward pass: compute predicted y by passing x to the model\n",
    "    predictions = smart_model(inputs)\n",
    "    # Compute and print loss\n",
    "    loss = loss_function(predictions, targets)\n",
    "    # Backward pass: compute gradient of the loss with respect to model parameters\n",
    "    loss.backward()\n",
    "    # Update model parameters\n",
    "    optimizer.step()\n",
    "    # Learning rate scheduling\n",
    "    scheduler.step(loss)\n",
    "    # Check for early stopping\n",
    "    if loss.item() < best_loss:\n",
    "        best_loss = loss.item()\n",
    "        epochs_no_improve = 0\n",
    "    else:\n",
    "        epochs_no_improve += 1\n",
    "    if epochs_no_improve >= early_stopping_patience:\n",
    "        print(f\"Early stopping triggered at epoch {epoch + 1}\")\n",
    "        break\n",
    "    # Print statistics every 1000 epochs\n",
    "    if (epoch + 1) % 1000 == 0:\n",
    "        print(f\"Epoch [{epoch + 1}/{num_epochs}], Loss: {loss.item():.12f}\")"
   ]
  },
  {
   "cell_type": "markdown",
   "id": "3b20a5cb",
   "metadata": {},
   "source": [
    "Let's inspect our model's parameters and predictions again to ensure everything is working correctly."
   ]
  },
  {
   "cell_type": "code",
   "execution_count": null,
   "id": "73e0448a",
   "metadata": {},
   "outputs": [],
   "source": [
    "# Inspect model parameters\n",
    "for name, param in smart_model.named_parameters():\n",
    "    print(f\"{name}: {param.data}\")"
   ]
  },
  {
   "cell_type": "markdown",
   "id": "48de4a30",
   "metadata": {},
   "source": [
    "### Explanation of Weights and Biases\n",
    "\n",
    "The weights and biases are the parameters our model adjusts during training. We've looked at these before, but as a\n",
    "reminder:\n",
    "\n",
    "- **Weights**: These determine the influence of each input feature on the output. They are adjusted during training\n",
    "to minimize the loss.\n",
    "- **Biases**: These are additional parameters that allow the model to fit the data better by shifting the activation\n",
    "function.\n",
    "\n",
    "We'll map these values to a drawing on the board to visualize how the model uses these parameters to make predictions."
   ]
  },
  {
   "cell_type": "code",
   "execution_count": null,
   "id": "b6e351ed",
   "metadata": {},
   "outputs": [],
   "source": [
    "# Inspect some predictions\n",
    "with torch.no_grad():\n",
    "    sample_inputs = inputs[:5]\n",
    "    sample_targets = targets[:5]\n",
    "    sample_predictions = smart_model(sample_inputs)\n",
    "    print(\"Predictions from the smart model:\")\n",
    "    for i in range(5):\n",
    "        input_description = f\"({sample_inputs[i][0].item():.2f}, {sample_inputs[i][1].item():.2f})\"\n",
    "        target_description = f\"{sample_targets[i].item():.2f}\"\n",
    "        prediction_description = f\"{sample_predictions[i].item():.2f}\"\n",
    "        print(f\"Input: {input_description}, Target: {target_description}, Prediction: {prediction_description}\")"
   ]
  },
  {
   "cell_type": "markdown",
   "id": "3b10df28",
   "metadata": {},
   "source": [
    "In this section, we've added a learning rate scheduler and early stopping to our training loop. These smart\n",
    "strategies help improve the efficiency and performance of our model's training process."
   ]
  }
 ],
 "metadata": {
  "jupytext": {
   "cell_metadata_filter": "-all",
   "main_language": "python",
   "notebook_metadata_filter": "-all"
  }
 },
 "nbformat": 4,
 "nbformat_minor": 5
}
