{
 "cells": [
  {
   "cell_type": "markdown",
   "id": "57ef91b6",
   "metadata": {},
   "source": [
    "# Introduction to Unsupervised Learning\n",
    "In this notebook, we will explore how to use unsupervised learning algorithms to cluster and explore data.\n",
    "Unsupervised learning is a type of machine learning that involves training models on data that does not have any\n",
    "labels. The goal of unsupervised learning is to find patterns and relationships in the data without any prior\n",
    "knowledge of the output. Unsupervised learning is often cheaper and easier to implement than supervised learning\n",
    "because it does not require labeled data."
   ]
  },
  {
   "cell_type": "markdown",
   "id": "43f21c52",
   "metadata": {},
   "source": [
    "## Pre-questions\n",
    "- Can you think of some reasons why unsupervised learning could be powerful?\n",
    "- What could you do with unsupervised learning that you couldn't do with supervised learning?\n",
    "- What are some possible applications of unsupervised learning?"
   ]
  },
  {
   "cell_type": "markdown",
   "id": "8a4c7444",
   "metadata": {},
   "source": [
    "## Installing Libraries\n",
    "We will need the following libraries for this notebook:\n",
    "- sentence-transformers: A library for computing sentence embeddings\n",
    "- umap-learn: A library for dimensionality reduction\n",
    "- plotly: A library for creating interactive plots"
   ]
  },
  {
   "cell_type": "code",
   "execution_count": null,
   "id": "55f9dd53",
   "metadata": {},
   "outputs": [],
   "source": [
    "!pip install sentence-transformers umap-learn plotly tqdm wikipedia -q --upgrade\n",
    "!wget -q https://raw.githubusercontent.com/marr75/wecodekc-scientific-computing/main/2024/lab-02/lab_utilities.py\n",
    "!wget -q https://raw.githubusercontent.com/marr75/wecodekc-scientific-computing/main/2024/lab-02/word_list.py\n",
    "!wget -q https://raw.githubusercontent.com/marr75/wecodekc-scientific-computing/main/2024/lab-02/summaries.pkl"
   ]
  },
  {
   "cell_type": "code",
   "execution_count": null,
   "id": "0ca6f2eb",
   "metadata": {},
   "outputs": [],
   "source": [
    "import wikipedia\n",
    "from sklearn.cluster import KMeans\n",
    "from IPython.display import display\n",
    "\n",
    "from lab_utilities import (\n",
    "    EmbeddedText,\n",
    "    safe_summary,\n",
    "    make_dataframe_from_text,\n",
    "    plot_embeddings,\n",
    "    get_summaries_from_word_list,\n",
    "    save_emergency_summaries,\n",
    ")\n",
    "import word_list"
   ]
  },
  {
   "cell_type": "markdown",
   "id": "232380bd",
   "metadata": {},
   "source": [
    "## Data Source: Wikipedia\n",
    "We will use the Wikipedia API to get the summary of a topic. Let's start by getting the summary of the topic \"Transfer\n",
    "learning\". We will next grab hundreds of summaries from wikipedia and use them to explore unsupervised learning."
   ]
  },
  {
   "cell_type": "code",
   "execution_count": null,
   "id": "9c38cb31",
   "metadata": {},
   "outputs": [],
   "source": [
    "summary = wikipedia.summary(\"Transfer learning\")\n",
    "display(summary)"
   ]
  },
  {
   "cell_type": "markdown",
   "id": "e2dd59ed",
   "metadata": {},
   "source": [
    "## Warm-up: Add a couple of your own topics\n",
    "Add a couple of your own topics to the word list and get their summaries. You can use the `safe_summary` function to\n",
    "get the summary of a topic. If the summary is not available, the function will print a helpful message and return\n",
    "`None`."
   ]
  },
  {
   "cell_type": "code",
   "execution_count": null,
   "id": "0ff6378c",
   "metadata": {},
   "outputs": [],
   "source": [
    "# Add your own topics here. Use these example method calls to get the summaries.\n",
    "display(wikipedia.search(\"Mario Kart\"))\n",
    "display(wikipedia.summary(\"Mario Kart\", auto_suggest=False))\n",
    "my_summaries = [\n",
    "    # (\"Mario Kart\", safe_summary(\"Mario Kart\")),\n",
    "]"
   ]
  },
  {
   "cell_type": "code",
   "execution_count": null,
   "id": "1333f5c4",
   "metadata": {},
   "outputs": [],
   "source": [
    "summaries = get_summaries_from_word_list(word_list.all_words, emergency=True)\n",
    "titles = [title for title, _ in summaries]\n",
    "summaries = [summary for _, summary in summaries]\n",
    "display(summaries[:5])"
   ]
  },
  {
   "cell_type": "markdown",
   "id": "2732b2f4",
   "metadata": {},
   "source": [
    "## Dimensionality Reduction (UMAP)\n",
    "Dimensionality reduction is a technique used to reduce the number of dimensions in a dataset while preserving the\n",
    "structure of the data. In this section, we will use the UMAP algorithm to reduce the dimensionality of the embeddings\n",
    "of the summaries we collected from Wikipedia."
   ]
  },
  {
   "cell_type": "code",
   "execution_count": null,
   "id": "c89eded8",
   "metadata": {},
   "outputs": [],
   "source": [
    "embedded_words = EmbeddedText.from_text(titles, summaries)\n",
    "display(embedded_words[0])\n",
    "embedded_df = make_dataframe_from_text(embedded_words)"
   ]
  },
  {
   "cell_type": "code",
   "execution_count": null,
   "id": "152f41e3",
   "metadata": {},
   "outputs": [],
   "source": [
    "plot_embeddings(embedded_df)"
   ]
  },
  {
   "cell_type": "markdown",
   "id": "3faf5e74",
   "metadata": {},
   "source": [
    "## Check our understanding: Visualizing Word Embeddings in 2D\n",
    "The plot above shows the word embeddings of the summaries we collected from Wikipedia. Each point represents a\n",
    "summary, and the distance between points represents the similarity between the summaries.\n",
    "Questions:\n",
    "- What do you observe from the plot?\n",
    "- Are there any clusters of summaries?\n",
    "- Are there any summaries that are far apart from the rest?"
   ]
  },
  {
   "cell_type": "markdown",
   "id": "5539037e",
   "metadata": {},
   "source": [
    "## Clustering\n",
    "Clustering is a type of unsupervised learning that involves grouping similar data points together. In this section,\n",
    "we will use the KMeans algorithm to cluster the summaries we collected from Wikipedia."
   ]
  },
  {
   "cell_type": "code",
   "execution_count": null,
   "id": "9b67bbd1",
   "metadata": {},
   "outputs": [],
   "source": [
    "kmeans = KMeans(n_clusters=8, random_state=42)\n",
    "embedded_df[\"cluster\"] = kmeans.fit_predict(embedded_df[[\"x\", \"y\"]])\n",
    "plot_embeddings(embedded_df, with_cluster=True)"
   ]
  },
  {
   "cell_type": "markdown",
   "id": "0cbcf60a",
   "metadata": {},
   "source": [
    "## Check our understanding: Clustering\n",
    "Questions:\n",
    "- Are the clusters meaningful?\n",
    "- How many clusters do you see?\n",
    "- What are some of the topics in each cluster?\n",
    "- Did we do anything to let the computer know what the documents were about?\n",
    "- How could this be useful?"
   ]
  }
 ],
 "metadata": {
  "jupytext": {
   "cell_metadata_filter": "-all",
   "main_language": "python",
   "notebook_metadata_filter": "-all"
  }
 },
 "nbformat": 4,
 "nbformat_minor": 5
}
