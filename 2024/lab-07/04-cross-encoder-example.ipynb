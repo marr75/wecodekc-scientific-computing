{
 "cells": [
  {
   "cell_type": "code",
   "execution_count": null,
   "id": "6ddf13bc",
   "metadata": {},
   "outputs": [],
   "source": [
    "!pip install sentence-transformers --upgrade -q"
   ]
  },
  {
   "cell_type": "code",
   "execution_count": null,
   "id": "77cf53f9",
   "metadata": {},
   "outputs": [],
   "source": [
    "from sentence_transformers import CrossEncoder, SentenceTransformer\n",
    "from sentence_transformers.util import cos_sim"
   ]
  },
  {
   "cell_type": "code",
   "execution_count": null,
   "id": "d8ad31c0",
   "metadata": {},
   "outputs": [],
   "source": [
    "# Example query and documents\n",
    "query = \"Who wrote 'To Kill a Mockingbird' and what themes does it deal with?\"\n",
    "passages = [\n",
    "    \"To Kill a Mockingbird was written by Harper Lee.\",\n",
    "    \"Harper Lee, an American novelist, authored the classic To Kill a Mockingbird.\",\n",
    "    \"The author of To Kill a Mockingbird is Harper Lee, known for her vivid storytelling.\",\n",
    "    \"Harper Lee's most famous work, To Kill a Mockingbird, remains a seminal piece of literature.\",\n",
    "    \"Renowned author Harper Lee wrote To Kill a Mockingbird, which tackles racial issues.\",\n",
    "    \"The book To Kill a Mockingbird, penned by Harper Lee, has been celebrated for its social impact.\",\n",
    "    \"Harper Lee grew up in Monroeville, Alabama.\",\n",
    "    \"In 2007, Harper Lee received the Presidential Medal of Freedom.\",\n",
    "    \"Harper Lee was known for her reclusive nature despite her fame.\",\n",
    "    \"Lee's second novel, published decades later, also drew significant attention.\",\n",
    "    \"Harper Lee maintained a close friendship with fellow writer Truman Capote.\",\n",
    "    \"Monroeville, Alabama, honors Harper Lee's legacy with an annual literary festival.\",\n",
    "    \"To Kill a Mockingbird explores themes of racial injustice and moral growth.\",\n",
    "    \"Set in the 1930s South, To Kill a Mockingbird follows the Finch family.\",\n",
    "    \"The novel's central character, Scout, navigates complex social issues.\",\n",
    "    \"Atticus Finch, a lawyer, defends a black man accused of a serious crime.\",\n",
    "    \"To Kill a Mockingbird is widely studied in American schools for its profound themes.\",\n",
    "    \"The courtroom scenes in To Kill a Mockingbird highlight deep-seated prejudices.\",\n",
    "    \"The Great Gatsby captures the excesses of the Jazz Age through the eyes of Nick Carraway.\",\n",
    "    \"Moby-Dick's narrative follows Captain Ahab's relentless pursuit of the white whale.\",\n",
    "    \"Beloved is a powerful story about the lasting scars of slavery on an escaped slave.\",\n",
    "    \"The Grapes of Wrath depicts the struggles of the Joad family during the Great Depression.\",\n",
    "    \"Of Mice and Men explores the friendship and dreams of two displaced ranch workers.\",\n",
    "    \"Catch-22 is a satirical novel highlighting the absurdities of war and bureaucracy.\",\n",
    "]"
   ]
  },
  {
   "cell_type": "code",
   "execution_count": null,
   "id": "51952726",
   "metadata": {},
   "outputs": [],
   "source": [
    "# Load the model\n",
    "reranker = CrossEncoder(\"mixedbread-ai/mxbai-rerank-base-v1\")"
   ]
  },
  {
   "cell_type": "markdown",
   "id": "49124788",
   "metadata": {},
   "source": [
    "CrossEncoders have 2 primary methods\n",
    "## `.predict`\n",
    "**Signature**: `predict(self, sentences: List[Tuple[str, str]], batch_size: int = 32, show_progress_bar: bool = None) -> List[float]`\n",
    "\n",
    "**Returns**: A list of relevance scores for each sentence pair.\n",
    "\n",
    "**Usage**:\n",
    "```python\n",
    "# Get the relevance scores for each passage\n",
    "scores = reranker.predict([(query, passage) for passage in passages])\n",
    "```\n",
    "## `.rank`\n",
    "**Signature**: `rank(self, query: str, documents: List[str], top_k: int = None, return_documents: bool = False) -> Union[List[int], List[str]]`\n",
    "\n",
    "**Returns**: A list of indices or documents ranked by relevance.\n",
    "\n",
    "**Usage**:\n",
    "```python\n",
    "# Get the ranked passages\n",
    "ranked_passages = reranker.rank(query, passages, return_documents=True)\n",
    "```"
   ]
  },
  {
   "cell_type": "code",
   "execution_count": null,
   "id": "ff0925ba",
   "metadata": {},
   "outputs": [],
   "source": [
    "# Get the scores\n",
    "reranked_results = reranker.rank(query, passages, return_documents=True)\n",
    "reranked_results"
   ]
  },
  {
   "cell_type": "code",
   "execution_count": null,
   "id": "864499bf",
   "metadata": {},
   "outputs": [],
   "source": [
    "# Load the embedding model to compare\n",
    "embedder = SentenceTransformer(\n",
    "    \"mixedbread-ai/mxbai-embed-large-v1\",\n",
    "    prompts={\"query\": \"Represent this sentence for searching relevant passages: \", \"passage\": \"\"},\n",
    ")"
   ]
  },
  {
   "cell_type": "code",
   "execution_count": null,
   "id": "b48f72f2",
   "metadata": {},
   "outputs": [],
   "source": [
    "# Get the scores from the embeddings to compare\n",
    "query_embeddings = embedder.encode(query, prompt_name=\"query\")\n",
    "passage_embeddings = embedder.encode(passages, prompt_name=\"passage\")\n",
    "similarities = cos_sim(query_embeddings, passage_embeddings).tolist()[0]\n",
    "mapped_results = sorted(\n",
    "    [\n",
    "        {\"corpus_id\": corpus_id, \"score\": similarity, \"text\": passage}\n",
    "        for corpus_id, (similarity, passage) in enumerate(zip(similarities, passages))\n",
    "    ],\n",
    "    key=lambda x: x[\"score\"],\n",
    "    reverse=True,\n",
    ")\n",
    "mapped_results"
   ]
  }
 ],
 "metadata": {
  "jupytext": {
   "cell_metadata_filter": "-all",
   "main_language": "python",
   "notebook_metadata_filter": "-all"
  }
 },
 "nbformat": 4,
 "nbformat_minor": 5
}
