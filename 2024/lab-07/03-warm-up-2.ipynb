{
 "cells": [
  {
   "cell_type": "code",
   "execution_count": null,
   "id": "39a34f15",
   "metadata": {},
   "outputs": [],
   "source": [
    "!pip install sentence-transformers --upgrade -q"
   ]
  },
  {
   "cell_type": "code",
   "execution_count": null,
   "id": "43b08a4c",
   "metadata": {},
   "outputs": [],
   "source": [
    "import sentence_transformers"
   ]
  },
  {
   "cell_type": "code",
   "execution_count": null,
   "id": "1cdb0e3e",
   "metadata": {},
   "outputs": [],
   "source": [
    "# Load the pre-trained model\n",
    "reranker = sentence_transformers.CrossEncoder(\"mixedbread-ai/mxbai-rerank-xsmall-v1\")"
   ]
  },
  {
   "cell_type": "code",
   "execution_count": null,
   "id": "f5900987",
   "metadata": {
    "lines_to_next_cell": 2
   },
   "outputs": [],
   "source": [
    "# Examine the internals of the model\n",
    "# The \"model\" of a cross encoder is on the \"model\" attribute, create a variable for it here\n",
    "\n",
    "\n",
    "# The tokenizer is on the \"tokenizer\" attribute, create a variable for it here"
   ]
  },
  {
   "cell_type": "code",
   "execution_count": null,
   "id": "3875b251",
   "metadata": {
    "lines_to_next_cell": 2
   },
   "outputs": [],
   "source": [
    "# Let's see the model's architecture, in a jupyter notebook, you can use the variable name to display the model"
   ]
  },
  {
   "cell_type": "code",
   "execution_count": null,
   "id": "05f01e16",
   "metadata": {},
   "outputs": [],
   "source": [
    "# Let's see the tokenizer's architecture, in a jupyter notebook, you can use the variable name to display the tokenizer"
   ]
  }
 ],
 "metadata": {
  "jupytext": {
   "cell_metadata_filter": "-all",
   "main_language": "python",
   "notebook_metadata_filter": "-all"
  }
 },
 "nbformat": 4,
 "nbformat_minor": 5
}
