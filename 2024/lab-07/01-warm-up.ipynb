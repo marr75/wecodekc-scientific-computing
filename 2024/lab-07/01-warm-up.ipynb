{
 "cells": [
  {
   "cell_type": "markdown",
   "id": "a51fa251",
   "metadata": {},
   "source": [
    "# Visualizing Word Embeddings in English and Spanish\n",
    "\n",
    "In this notebook, we'll load two lists of the most common English and Spanish words, generate word embeddings, reduce\n",
    "their dimensionality, and visualize the results in a scatter plot."
   ]
  },
  {
   "cell_type": "markdown",
   "id": "7354f740",
   "metadata": {},
   "source": [
    "## Install Required Libraries\n",
    "We'll be using:\n",
    "- `sentence-transformers` to encode words into embeddings\n",
    "- `umap-learn` to reduce the dimensionality of the embeddings\n",
    "- `plotly` and `seaborn` to visualize the embeddings"
   ]
  },
  {
   "cell_type": "code",
   "execution_count": null,
   "id": "26771466",
   "metadata": {},
   "outputs": [],
   "source": [
    "!pip install sentence-transformers umap-learn plotly seaborn -q --upgrade\n",
    "!wget -q https://raw.githubusercontent.com/marr75/wecodekc-scientific-computing/main/2024/lab-07/english-words.txt\n",
    "!wget -q https://raw.githubusercontent.com/marr75/wecodekc-scientific-computing/main/2024/lab-07/spanish-words.txt"
   ]
  },
  {
   "cell_type": "code",
   "execution_count": null,
   "id": "ada804c0",
   "metadata": {},
   "outputs": [],
   "source": [
    "import sentence_transformers\n",
    "import umap\n",
    "import pandas as pd\n",
    "import plotly.express as px\n",
    "import seaborn as sns\n",
    "import matplotlib.pyplot as plt"
   ]
  },
  {
   "cell_type": "markdown",
   "id": "34956d1e",
   "metadata": {},
   "source": [
    "## Load Word Lists\n",
    "We'll load two files: one for English words and one for Spanish words."
   ]
  },
  {
   "cell_type": "code",
   "execution_count": null,
   "id": "1e705d7d",
   "metadata": {},
   "outputs": [],
   "source": [
    "# Load English and Spanish words from text files\n",
    "with open(\"english-words.txt\") as f:\n",
    "    english_words = [line.strip() for line in f.readlines()]\n",
    "\n",
    "with open(\"spanish-words.txt\") as f:\n",
    "    spanish_words = [line.strip() for line in f.readlines()]\n",
    "\n",
    "# Combine English and Spanish words for embedding\n",
    "words = english_words + spanish_words"
   ]
  },
  {
   "cell_type": "markdown",
   "id": "fd9266f5",
   "metadata": {},
   "source": [
    "## Generate Word Embeddings\n",
    "We'll use the pre-trained model `avsolatorio/GIST-small-Embedding-v0` from Hugging Face to generate embeddings for our words."
   ]
  },
  {
   "cell_type": "code",
   "execution_count": null,
   "id": "3f2e3072",
   "metadata": {},
   "outputs": [],
   "source": [
    "# Load the pre-trained model\n",
    "encoder = sentence_transformers.SentenceTransformer(\n",
    "    \"intfloat/multilingual-e5-small\", prompts={\"query\": \"query: \"}, default_prompt_name=\"query\"\n",
    ")\n",
    "\n",
    "# Encode the list of words\n",
    "embeddings = encoder.encode(words)"
   ]
  },
  {
   "cell_type": "markdown",
   "id": "bfb8ee26",
   "metadata": {},
   "source": [
    "## Dimensionality Reduction\n",
    "We'll use UMAP to reduce the dimensionality of the embeddings to 2D so that we can plot them."
   ]
  },
  {
   "cell_type": "code",
   "execution_count": null,
   "id": "e41ec007",
   "metadata": {},
   "outputs": [],
   "source": [
    "# Reduce dimensions of the embeddings\n",
    "reducer = umap.UMAP(n_components=2, random_state=42)\n",
    "embeddings_reduced = reducer.fit_transform(embeddings)"
   ]
  },
  {
   "cell_type": "markdown",
   "id": "b0865d81",
   "metadata": {},
   "source": [
    "## Create DataFrame for Visualization\n",
    "We'll label the words as either English or Spanish and store their reduced embeddings in a DataFrame."
   ]
  },
  {
   "cell_type": "code",
   "execution_count": null,
   "id": "cd0b6a3a",
   "metadata": {},
   "outputs": [],
   "source": [
    "# Create a DataFrame for easier plotting\n",
    "df = pd.DataFrame(embeddings_reduced, columns=[\"x\", \"y\"])\n",
    "df[\"language\"] = [\"English\"] * len(english_words) + [\"Spanish\"] * len(spanish_words)\n",
    "df[\"words\"] = words"
   ]
  },
  {
   "cell_type": "markdown",
   "id": "f9ed6f0b",
   "metadata": {},
   "source": [
    "## Visualization\n",
    "We'll create a scatter plot using Plotly, coloring the points based on language."
   ]
  },
  {
   "cell_type": "code",
   "execution_count": null,
   "id": "9704373a",
   "metadata": {},
   "outputs": [],
   "source": [
    "# Create a scatter plot\n",
    "fig = px.scatter(df, x=\"x\", y=\"y\", text=\"words\", color=\"language\", size_max=60, template=\"plotly_white\")\n",
    "\n",
    "# Enhance the plot with titles and labels\n",
    "fig.update_layout(\n",
    "    title=\"Word Embeddings Visualization (English vs. Spanish)\",\n",
    "    xaxis_title=\"Component 1\",\n",
    "    yaxis_title=\"Component 2\",\n",
    "    legend_title=\"Language\",\n",
    ")"
   ]
  },
  {
   "cell_type": "code",
   "execution_count": null,
   "id": "5229ba3c",
   "metadata": {},
   "outputs": [],
   "source": [
    "# Show the plot\n",
    "# fig.show()"
   ]
  },
  {
   "cell_type": "markdown",
   "id": "61832d2d",
   "metadata": {},
   "source": [
    "## Separate KDE Plots for English and Spanish Embeddings\n",
    "We'll generate separate KDE plots for each language."
   ]
  },
  {
   "cell_type": "code",
   "execution_count": null,
   "id": "bc4de229",
   "metadata": {},
   "outputs": [],
   "source": [
    "# Set up the matplotlib figure for English words\n",
    "plt.figure(figsize=(10, 8))\n",
    "\n",
    "# Plot KDE for English words\n",
    "sns.kdeplot(\n",
    "    x=df[df[\"language\"] == \"English\"][\"x\"],\n",
    "    y=df[df[\"language\"] == \"English\"][\"y\"],\n",
    "    cmap=\"Blues\",\n",
    "    shade=True,\n",
    "    bw_adjust=0.5,\n",
    ")\n",
    "\n",
    "# Enhance the plot for English words\n",
    "plt.title(\"KDE Plot for English Word Embeddings\")\n",
    "plt.xlabel(\"Component 1\")\n",
    "plt.ylabel(\"Component 2\")\n",
    "plt.grid(True)\n",
    "\n",
    "# Show the English plot\n",
    "plt.show()"
   ]
  },
  {
   "cell_type": "markdown",
   "id": "99f5810c",
   "metadata": {},
   "source": [
    "Now, we'll create a separate KDE plot for Spanish words."
   ]
  },
  {
   "cell_type": "code",
   "execution_count": null,
   "id": "161e046c",
   "metadata": {},
   "outputs": [],
   "source": [
    "# Set up the matplotlib figure for Spanish words\n",
    "plt.figure(figsize=(10, 8))\n",
    "\n",
    "# Plot KDE for Spanish words\n",
    "sns.kdeplot(\n",
    "    x=df[df[\"language\"] == \"Spanish\"][\"x\"],\n",
    "    y=df[df[\"language\"] == \"Spanish\"][\"y\"],\n",
    "    cmap=\"Reds\",\n",
    "    shade=True,\n",
    "    bw_adjust=0.5,\n",
    ")\n",
    "\n",
    "# Enhance the plot for Spanish words\n",
    "plt.title(\"KDE Plot for Spanish Word Embeddings\")\n",
    "plt.xlabel(\"Component 1\")\n",
    "plt.ylabel(\"Component 2\")\n",
    "plt.grid(True)\n",
    "\n",
    "# Show the Spanish plot\n",
    "plt.show()"
   ]
  }
 ],
 "metadata": {
  "jupytext": {
   "cell_metadata_filter": "-all",
   "main_language": "python",
   "notebook_metadata_filter": "-all"
  }
 },
 "nbformat": 4,
 "nbformat_minor": 5
}
