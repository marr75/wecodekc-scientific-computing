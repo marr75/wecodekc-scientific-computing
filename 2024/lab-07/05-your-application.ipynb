{
 "cells": [
  {
   "cell_type": "markdown",
   "id": "9a8bdd00",
   "metadata": {},
   "source": [
    "# Exploring Cross-Encoders: Your Own Application\n",
    "\n",
    "## What is a Cross-Encoder?\n",
    "\n",
    "A cross-encoder is like a super-smart reader that can understand and compare pieces of text. It's particularly good at:\n",
    "\n",
    "1. Figuring out how relevant a piece of text is to a question\n",
    "2. Ranking multiple texts based on how well they answer a question\n",
    "3. Understanding the context and meaning behind words\n",
    "\n",
    "## Real-World Example\n",
    "\n",
    "Remember when we asked the question \"Who wrote 'To Kill a Mockingbird' and what is it about?\" and gave the model several statements to rank? That's a cross-encoder in action!\n",
    "\n",
    "The model was able to:\n",
    "- Identify the most relevant and accurate answer\n",
    "- Rank partial or related information appropriately\n",
    "- Understand the context of the question and the content of the book\n",
    "\n",
    "## Why is this Important?\n",
    "\n",
    "This technology has many real-world applications:\n",
    "\n",
    "- Improving search engine results\n",
    "- Enhancing recommendation systems\n",
    "- Automating question-answering systems\n",
    "- Assisting in research and information retrieval\n",
    "\n",
    "## Your Challenge\n",
    "\n",
    "Now it's your turn to get creative! In this notebook, you'll:\n",
    "\n",
    "1. Practice and show your mastery of cross-encoders\n",
    "2. Come up with your own theoretical application for this technology\n",
    "3. Implement your idea using the cross-encoder model"
   ]
  },
  {
   "cell_type": "markdown",
   "id": "85c7a8dc",
   "metadata": {},
   "source": [
    "## First thing's first, document your idea here!"
   ]
  },
  {
   "cell_type": "code",
   "execution_count": null,
   "id": "65055b40",
   "metadata": {},
   "outputs": [],
   "source": [
    "!pip install sentence-transformers --upgrade -q"
   ]
  },
  {
   "cell_type": "code",
   "execution_count": null,
   "id": "3aba5928",
   "metadata": {},
   "outputs": [],
   "source": [
    "import sentence_transformers"
   ]
  },
  {
   "cell_type": "code",
   "execution_count": null,
   "id": "9ddd102d",
   "metadata": {},
   "outputs": [],
   "source": [
    "# Load the pre-trained model\n",
    "reranker = sentence_transformers.CrossEncoder(\"mixedbread-ai/mxbai-rerank-base-v1\")"
   ]
  },
  {
   "cell_type": "code",
   "execution_count": null,
   "id": "908cffa0",
   "metadata": {},
   "outputs": [],
   "source": [
    "# Experiment and test your idea in the rest of this notebook\n",
    "# Add code, data, and markdown cells as needed"
   ]
  }
 ],
 "metadata": {
  "jupytext": {
   "cell_metadata_filter": "-all",
   "main_language": "python",
   "notebook_metadata_filter": "-all"
  }
 },
 "nbformat": 4,
 "nbformat_minor": 5
}
