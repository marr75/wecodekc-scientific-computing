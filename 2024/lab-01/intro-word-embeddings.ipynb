{
 "cells": [
  {
   "cell_type": "markdown",
   "id": "b29f777e",
   "metadata": {},
   "source": [
    "# Introduction to Word Embeddings\n",
    "\n",
    "## Install Required Libraries\n",
    "We're going to use\n",
    "- sentence-transformers to encode words into embeddings\n",
    "- umap to reduce the dimensionality of the embeddings\n",
    "- plotly to visualize the embeddings\n",
    "So let's install them first!"
   ]
  },
  {
   "cell_type": "code",
   "execution_count": null,
   "id": "e3c67266",
   "metadata": {},
   "outputs": [],
   "source": [
    "!pip install sentence-transformers umap-learn plotly -q --upgrade"
   ]
  },
  {
   "cell_type": "code",
   "execution_count": null,
   "id": "fbf03299",
   "metadata": {},
   "outputs": [],
   "source": [
    "import sentence_transformers\n",
    "import umap\n",
    "import pandas as pd\n",
    "import plotly.express as px"
   ]
  },
  {
   "cell_type": "code",
   "execution_count": null,
   "id": "a13c4e67",
   "metadata": {},
   "outputs": [],
   "source": [
    "# Load the pre-trained model\n",
    "encoder = sentence_transformers.SentenceTransformer(\"avsolatorio/GIST-small-Embedding-v0\")\n",
    "# Encode a sentence\n",
    "encoder.encode(\"Hello, World!\")"
   ]
  },
  {
   "cell_type": "code",
   "execution_count": null,
   "id": "5c35c040",
   "metadata": {},
   "outputs": [],
   "source": [
    "# Encode a list of words\n",
    "words = [\"king\", \"queen\", \"man\", \"woman\", \"monarch\"]\n",
    "embeddings = encoder.encode(words)"
   ]
  },
  {
   "cell_type": "code",
   "execution_count": null,
   "id": "ef3b922a",
   "metadata": {},
   "outputs": [],
   "source": [
    "# Reduce dimensions of the embeddings\n",
    "reducer = umap.UMAP(n_components=2, random_state=42)\n",
    "reducer.fit(embeddings)\n",
    "embeddings_reduced = reducer.transform(embeddings)\n",
    "embeddings_reduced"
   ]
  },
  {
   "cell_type": "code",
   "execution_count": null,
   "id": "304938d5",
   "metadata": {},
   "outputs": [],
   "source": [
    "king, queen, man, woman, monarch = embeddings_reduced\n",
    "# Create a DataFrame for easier plotting with Plotly\n",
    "df = pd.DataFrame(embeddings_reduced, columns=[\"x\", \"y\"])\n",
    "df[\"words\"] = words\n",
    "df.loc[len(df.index)] = [*(king - man + woman), \"queen (computed)\"]"
   ]
  },
  {
   "cell_type": "code",
   "execution_count": null,
   "id": "a9ecb054",
   "metadata": {},
   "outputs": [],
   "source": [
    "# Create a scatter plot\n",
    "fig = px.scatter(df, x=\"x\", y=\"y\", text=\"words\", size_max=60, template=\"plotly_white\")\n",
    "\n",
    "# Enhance the plot with titles and labels\n",
    "fig.update_layout(\n",
    "    title=\"Word Embeddings Visualization\",\n",
    "    xaxis_title=\"Component 1\",\n",
    "    yaxis_title=\"Component 2\",\n",
    "    legend_title=\"Words\",\n",
    ")\n",
    "\n",
    "# Show the plot\n",
    "fig.show()"
   ]
  }
 ],
 "metadata": {
  "jupytext": {
   "cell_metadata_filter": "-all",
   "main_language": "python",
   "notebook_metadata_filter": "-all"
  }
 },
 "nbformat": 4,
 "nbformat_minor": 5
}
