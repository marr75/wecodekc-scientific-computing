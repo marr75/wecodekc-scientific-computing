{
  "cells": [
    {
      "cell_type": "code",
      "metadata": {},
      "source": [
        "# %% markdown\n",
        "# # Introduction to Word Embeddings\n",
        "#\n",
        "# ## Install Required Libraries\n",
        "# We're going to use\n",
        "# - sentence-transformers to encode words into embeddings\n",
        "# - umap to reduce the dimensionality of the embeddings\n",
        "# - plotly to visualize the embeddings\n",
        "# So let's install them first!\n",
        "# %%\n",
        "# !pip install sentence-transformers umap-learn plotly -q --upgrade"
      ],
      "outputs": [],
      "execution_count": null
    },
    {
      "cell_type": "code",
      "metadata": {},
      "source": [
        "import sentence_transformers\n",
        "import umap\n",
        "import pandas as pd\n",
        "import plotly.express as px"
      ],
      "outputs": [],
      "execution_count": null
    },
    {
      "cell_type": "code",
      "metadata": {},
      "source": [
        "# Load the pre-trained model\n",
        "encoder = sentence_transformers.SentenceTransformer(\"avsolatorio/GIST-small-Embedding-v0\")\n",
        "# Encode a sentence\n",
        "encoder.encode(\"Hello, World!\")"
      ],
      "outputs": [],
      "execution_count": null
    },
    {
      "cell_type": "code",
      "metadata": {},
      "source": [
        "# Encode a list of words\n",
        "words = [\"king\", \"queen\", \"man\", \"woman\", \"monarch\"]\n",
        "embeddings = encoder.encode(words)"
      ],
      "outputs": [],
      "execution_count": null
    },
    {
      "cell_type": "code",
      "metadata": {},
      "source": [
        "# Reduce dimensions of the embeddings\n",
        "reducer = umap.UMAP(n_components=2, random_state=42)\n",
        "reducer.fit(embeddings)\n",
        "embeddings_reduced = reducer.transform(embeddings)\n",
        "embeddings_reduced"
      ],
      "outputs": [],
      "execution_count": null
    },
    {
      "cell_type": "code",
      "metadata": {},
      "source": [
        "king, queen, man, woman, monarch = embeddings_reduced\n",
        "# Create a DataFrame for easier plotting with Plotly\n",
        "df = pd.DataFrame(embeddings_reduced, columns=[\"x\", \"y\"])\n",
        "df[\"words\"] = words\n",
        "df.loc[len(df.index)] = [*(king - man + woman), \"queen (computed)\"]"
      ],
      "outputs": [],
      "execution_count": null
    },
    {
      "cell_type": "code",
      "metadata": {},
      "source": [
        "# Create a scatter plot\n",
        "fig = px.scatter(df, x=\"x\", y=\"y\", text=\"words\", size_max=60, template=\"plotly_white\")\n",
        "\n",
        "# Enhance the plot with titles and labels\n",
        "fig.update_layout(\n",
        "    title=\"Word Embeddings Visualization\",\n",
        "    xaxis_title=\"Component 1\",\n",
        "    yaxis_title=\"Component 2\",\n",
        "    legend_title=\"Words\",\n",
        ")\n",
        "\n",
        "# Show the plot\n",
        "fig.show()\n"
      ],
      "outputs": [],
      "execution_count": null
    }
  ],
  "metadata": {
    "anaconda-cloud": {},
    "kernelspec": {
      "display_name": "Python 3",
      "language": "python",
      "name": "python3"
    },
    "language_info": {
      "codemirror_mode": {
        "name": "ipython",
        "version": 3
      },
      "file_extension": ".py",
      "mimetype": "text/x-python",
      "name": "python",
      "nbconvert_exporter": "python",
      "pygments_lexer": "ipython3",
      "version": "3.6.1"
    }
  },
  "nbformat": 4,
  "nbformat_minor": 4
}