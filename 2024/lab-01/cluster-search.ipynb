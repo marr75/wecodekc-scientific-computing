{
 "cells": [
  {
   "cell_type": "markdown",
   "id": "d72134c2",
   "metadata": {},
   "source": [
    "# Big Picture: Clustering and Search\n",
    "We can use word embeddings to perform clustering and search tasks.\n",
    "In this notebook, we will explore how to do this using a large word list."
   ]
  },
  {
   "cell_type": "code",
   "execution_count": null,
   "id": "ec7f409d",
   "metadata": {},
   "outputs": [],
   "source": [
    "!pip install sentence-transformers umap-learn plotly txtai -q --upgrade\n",
    "!wget -q https://raw.githubusercontent.com/marr75/wecodekc-scientific-computing/main/2024/lab-01/word_list.py"
   ]
  },
  {
   "cell_type": "code",
   "execution_count": null,
   "id": "493ad1d8",
   "metadata": {},
   "outputs": [],
   "source": [
    "# Import necessary libraries\n",
    "from txtai import embeddings\n",
    "import word_list"
   ]
  },
  {
   "cell_type": "code",
   "execution_count": null,
   "id": "17a09834",
   "metadata": {},
   "outputs": [],
   "source": [
    "embedding_config = {\"path\": \"avsolatorio/GIST-small-Embedding-v0\", \"content\": True}\n",
    "\n",
    "# Create embeddings model\n",
    "embedding_engine = embeddings.Embeddings(embedding_config)\n",
    "ids = list(range(len(word_list.all_words)))\n",
    "embedding_engine.index(word_list.all_words)"
   ]
  },
  {
   "cell_type": "code",
   "execution_count": null,
   "id": "6133e387",
   "metadata": {},
   "outputs": [],
   "source": [
    "# Search for items related to 'royal'\n",
    "embedding_engine.search(\"royal\", limit=5)"
   ]
  },
  {
   "cell_type": "code",
   "execution_count": null,
   "id": "a5b331ba",
   "metadata": {},
   "outputs": [],
   "source": [
    "# Search for items related to 'basketball'\n",
    "embedding_engine.search(\"basketball\", limit=5)"
   ]
  }
 ],
 "metadata": {
  "jupytext": {
   "cell_metadata_filter": "-all",
   "main_language": "python",
   "notebook_metadata_filter": "-all"
  }
 },
 "nbformat": 4,
 "nbformat_minor": 5
}
