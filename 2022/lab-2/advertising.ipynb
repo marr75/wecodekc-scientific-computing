{
 "cells": [
  {
   "cell_type": "code",
   "execution_count": null,
   "id": "cd8677dd-38c6-454f-9475-17c3e5182b8e",
   "metadata": {},
   "outputs": [],
   "source": [
    "import pandas as pd\n",
    "from autoviz.AutoViz_Class import AutoViz_Class\n",
    "%matplotlib inline\n",
    "# create a class\n",
    "AV = AutoViz_Class()"
   ]
  },
  {
   "cell_type": "code",
   "execution_count": null,
   "id": "f49e5c0b-9198-4264-987f-7a4315d1d833",
   "metadata": {},
   "outputs": [],
   "source": [
    "# load data and save it as csv\n",
    "ad_buys = pd.read_csv(\n",
    "    'advertising.csv',\n",
    ")\n",
    "display(\n",
    "    ad_buys.head(3),\n",
    "    ad_buys.describe(),\n",
    "    ad_buys.info(),\n",
    ")"
   ]
  },
  {
   "cell_type": "code",
   "execution_count": null,
   "id": "945e10b5-6fcd-4830-9f3a-00535834cb38",
   "metadata": {},
   "outputs": [],
   "source": [
    "dft = AV.AutoViz(\n",
    "    filename=\"\",\n",
    "    dfte=ad_buys,\n",
    "    depVar='Sales',\n",
    "    chart_format=\"bokeh\",\n",
    ")"
   ]
  },
  {
   "cell_type": "code",
   "execution_count": null,
   "id": "8f80aa97-2777-432b-aee7-f0d5d0939bad",
   "metadata": {},
   "outputs": [],
   "source": []
  }
 ],
 "metadata": {
  "kernelspec": {
   "display_name": "Python 3 (ipykernel)",
   "language": "python",
   "name": "python3"
  },
  "language_info": {
   "codemirror_mode": {
    "name": "ipython",
    "version": 3
   },
   "file_extension": ".py",
   "mimetype": "text/x-python",
   "name": "python",
   "nbconvert_exporter": "python",
   "pygments_lexer": "ipython3",
   "version": "3.9.2"
  }
 },
 "nbformat": 4,
 "nbformat_minor": 5
}
