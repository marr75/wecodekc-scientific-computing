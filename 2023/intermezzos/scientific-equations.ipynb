{
 "cells": [
  {
   "cell_type": "markdown",
   "source": [
    "# Tsiolkovsky Rocket Equation\n",
    "\n",
    "The **Tsiolkovsky rocket equation**, also known as the *ideal rocket equation*, is a fundamental principle in rocketry. It links the **change in velocity** (delta-V) of a rocket to several key parameters:\n",
    "\n",
    "- **Effective exhaust velocity** (ve)\n",
    "- **Initial mass** of the rocket (m0)\n",
    "- **Final mass** of the rocket (mf)\n",
    "\n",
    "## The Equation\n",
    "\n",
    "The equation is presented as follows:\n",
    "\n",
    "```\n",
    "Δv = ve * ln(m0 / mf)\n",
    "```\n",
    "\n",
    "Here is a breakdown of what each symbol represents:\n",
    "\n",
    "- `Δv`: The change in velocity\n",
    "- `ve`: The effective exhaust velocity (also known as specific impulse)\n",
    "- `m0`: The initial mass of the rocket (including propellant)\n",
    "- `mf`: The final mass of the rocket (after the propellant is burned)\n",
    "- `ln`: The natural logarithm function\n",
    "\n",
    "## Python Function for the Rocket Equation\n",
    "\n",
    "We can create a Python function to help us experiment with these parameters. This function would take three parameters and solve for the fourth, allowing for interactive learning and experimentation."
   ],
   "metadata": {
    "collapsed": false
   }
  },
  {
   "cell_type": "markdown",
   "source": [
    "### Pronunciation Guide: Tsiolkovsky\n",
    "\n",
    "**Konstantin Tsiolkovsky** was a Russian and Soviet rocket scientist and pioneer of astronautics. His surname, Tsiolkovsky, can be challenging for English speakers. Here is a simplified guide to pronouncing \"Tsiolkovsky\":\n",
    "\n",
    "**\"tsee-OL-kov-skee\"**\n",
    "\n",
    "Let's break that down:\n",
    "\n",
    "- **\"tsee\"**: Sounds like \"see\" but with a \"t\" at the start.\n",
    "- **\"OL\"**: Sounds like the \"ol\" in \"bowl\".\n",
    "- **\"kov\"**: Sounds like \"cove\".\n",
    "- **\"skee\"**: Sounds like \"ski\".\n",
    "\n",
    "When saying it all together: **\"tsee-OL-kov-skee\"**.\n",
    "\n",
    "This is an approximation and might not capture all the subtleties of the Russian pronunciation, but it's close enough for most English speakers."
   ],
   "metadata": {
    "collapsed": false
   }
  },
  {
   "cell_type": "code",
   "execution_count": null,
   "outputs": [],
   "source": [
    "import math\n",
    "\n",
    "import matplotlib.pyplot as plt"
   ],
   "metadata": {
    "collapsed": false
   }
  },
  {
   "cell_type": "code",
   "execution_count": null,
   "metadata": {
    "collapsed": true
   },
   "outputs": [],
   "source": [
    "def rocket_equation(delta_v=None, ve=None, m0=None, mf=None):\n",
    "    \"\"\"\n",
    "    Function to calculate and return parameters of the Tsiolkovsky rocket equation.\n",
    "    Pass in any three parameters to calculate the fourth.\n",
    "    All inputs and outputs are in SI units:\n",
    "    - delta_v and ve are in m/s,\n",
    "    - m0 and mf are in kg.\n",
    "    \"\"\"\n",
    "\n",
    "    # Number of arguments that are None\n",
    "    num_none = sum([x is None for x in [delta_v, ve, m0, mf]])\n",
    "\n",
    "    # Make sure exactly one argument is None\n",
    "    if num_none != 1:\n",
    "        raise ValueError(\"Exactly one argument must be None to solve for it.\")\n",
    "\n",
    "    if delta_v is None:\n",
    "        # Calculate delta_v\n",
    "        delta_v = ve * math.log(m0 / mf)\n",
    "        return delta_v\n",
    "\n",
    "    elif ve is None:\n",
    "        # Calculate ve\n",
    "        if delta_v != 0:\n",
    "            ve = delta_v / math.log(m0 / mf)\n",
    "            return ve\n",
    "        else:\n",
    "            raise ValueError(\"delta_v cannot be zero when solving for ve.\")\n",
    "\n",
    "    elif m0 is None:\n",
    "        # Calculate m0\n",
    "        m0 = mf * math.exp(delta_v / ve)\n",
    "        return m0\n",
    "\n",
    "    elif mf is None:\n",
    "        # Calculate mf\n",
    "        mf = m0 * math.exp(-delta_v / ve)\n",
    "        return mf"
   ]
  },
  {
   "cell_type": "markdown",
   "source": [
    "## SpaceX Falcon 9 First Stage\n",
    "\n",
    "- `ve` (effective exhaust velocity): For the Merlin 1D engine, this is approximately 3,050 m/s in vacuum.\n",
    "- `m0` (initial mass): The total mass of Falcon 9 at launch, including the second stage and payload, is about 549,054 kg.\n",
    "- `mf` (final mass): The dry mass of the first stage is about 22,200 kg. So, the mass of the rocket after the first stage is done firing (the final mass) would be the dry mass of the first stage plus the mass of the upper stage and payload. Let's assume it's around 130,000 kg (this includes second stage and a typical payload)."
   ],
   "metadata": {
    "collapsed": false
   }
  },
  {
   "cell_type": "code",
   "execution_count": null,
   "outputs": [],
   "source": [
    "falcon9_ve = ?\n",
    "falcon9_m0 = ?\n",
    "falcon9_mf = ?\n",
    "\n",
    "falcon9_dV = ?"
   ],
   "metadata": {
    "collapsed": false
   }
  },
  {
   "cell_type": "markdown",
   "source": [
    "## Saturn V - The rocket that took humans to the Moon during the Apollo missions.\n",
    "\n",
    "- `ve` (effective exhaust velocity): For the F-1 engines in the first stage, this is approximately 2,580 m/s in vacuum.\n",
    "- `m0` (initial mass): The total mass at launch was about 2,970,000 kg.\n",
    "- `mf` (final mass): The dry mass of the first stage is about 131,000 kg. When you add the upper stages and the Apollo spacecraft, let's estimate it as around 480,000 kg."
   ],
   "metadata": {
    "collapsed": false
   }
  },
  {
   "cell_type": "code",
   "execution_count": null,
   "outputs": [],
   "source": [
    "saturnV_ve = ?\n",
    "saturnV_m0 = ?\n",
    "saturnV_mf = ?\n",
    "\n",
    "saturnV_dV = ?"
   ],
   "metadata": {
    "collapsed": false,
    "is_executing": true
   }
  },
  {
   "cell_type": "code",
   "execution_count": null,
   "outputs": [],
   "source": [],
   "metadata": {
    "collapsed": false
   }
  },
  {
   "cell_type": "markdown",
   "source": [
    "## The Pythagorean Theorem\n",
    "\n",
    "### A Bit of History\n",
    "The Pythagorean theorem is named after the ancient Greek mathematician Pythagoras (around 570 – 495 BC), who is traditionally credited with its discovery. This theorem is fundamental to many fields of science, technology, engineering, and mathematics and was one of the earliest known geometric theorems. It has been used for thousands of years to calculate distances.\n",
    "\n",
    "It's important to note that even though it's named after Pythagoras, the concept was well-known to mathematicians before him, especially in ancient Egypt and Babylon.\n",
    "\n",
    "### What's the Theorem?\n",
    "\n",
    "The Pythagorean theorem states that in a right-angled triangle, the square of the length of the hypotenuse (the side opposite the right angle) is equal to the sum of the squares of the lengths of the other two sides. This can be written as:\n",
    "\n",
    "`a² + b² = c²`\n",
    "\n",
    "In this equation, `c` represents the length of the hypotenuse, and `a` and `b` represent the lengths of the other two sides.\n",
    "\n",
    "![Right triangle with sides a, b, and c](https://upload.wikimedia.org/wikipedia/commons/d/d2/Pythagorean.svg)\n",
    "\n",
    "This means that if you know the lengths of two sides of a right-angled triangle, you can use the Pythagorean theorem to find the length of the third side. It's a powerful tool in geometry!\n",
    "\n",
    "### Symbols and Their Meanings\n",
    "\n",
    "In the context of the Pythagorean theorem, the symbols `a`, `b`, and `c` are used to represent the lengths of the sides of a right-angled triangle. The `a` and `b` are the lengths of the two legs (the sides that form the right angle), and `c` is the length of the hypotenuse.\n",
    "\n",
    "In Python, we use these same symbols as variables. A variable is like a box in the computer's memory where we can store a single value. So in a Python program, we could have:\n",
    "\n",
    "```python\n",
    "a = 3\n",
    "b = 4\n",
    "c = (a**2 + b**2)**0.5  # This calculates the length of the hypotenuse using the Pythagorean theorem\n",
    "```\n",
    "\n",
    "In this code, `a`, `b`, and `c` are variables that store the lengths of the sides of a triangle. The `**` operator is used to raise a number to a power, and `**0.5` calculates the square root of a number."
   ],
   "metadata": {
    "collapsed": false
   }
  },
  {
   "cell_type": "code",
   "execution_count": null,
   "outputs": [],
   "source": [
    "def pythagorean(a=None, b=None, c=None):\n",
    "    # Ensure that at least two parameters are given\n",
    "    if [a, b, c].count(None) > 1:\n",
    "        raise ValueError(\"At least two parameters must be provided\")\n",
    "\n",
    "    if a is None:\n",
    "        # Calculate a\n",
    "        a = ?\n",
    "        return a\n",
    "    elif b is None:\n",
    "        # Calculate b\n",
    "        b = ?\n",
    "        return b\n",
    "    elif c is None:\n",
    "        # Calculate c\n",
    "        c = ?\n",
    "        return c"
   ],
   "metadata": {
    "collapsed": false
   }
  },
  {
   "cell_type": "code",
   "execution_count": null,
   "outputs": [],
   "source": [
    "def plot_func_over_range(func, **kwargs):\n",
    "    \"\"\"\n",
    "    Plots the output of a function over a range of values.\n",
    "\n",
    "    The function should take numeric inputs and return a numeric output.\n",
    "    kwargs should contain the parameters to pass to the function, with one parameter being an iterable.\n",
    "\n",
    "    If the value in kwargs matches the value in the python function, we'll use that value.\n",
    "\n",
    "    An example usage might be plot_func_over_range(func=f, x=10, y=range(0, 100), z=5).\n",
    "    \"\"\"\n",
    "\n",
    "    # Check that only one kwarg is iterable\n",
    "    iterables = [k for k, v in kwargs.items() if hasattr(v, \"__iter__\")]\n",
    "    if len(iterables) != 1:\n",
    "        raise ValueError(\"Exactly one argument should be an iterable\")\n",
    "\n",
    "    iterable_arg = iterables[0]\n",
    "    iterable_values = kwargs[iterable_arg]\n",
    "\n",
    "    # Calculate function values\n",
    "    y_values = []\n",
    "    for i in iterable_values:\n",
    "        # Replace the iterable argument with the current value\n",
    "        current_kwargs = kwargs.copy()\n",
    "        current_kwargs[iterable_arg] = i\n",
    "        y_values.append(func(**current_kwargs))\n",
    "\n",
    "    # Plot the function values\n",
    "    plt.figure(figsize=(10, 6))\n",
    "    plt.plot(iterable_values, y_values)\n",
    "    plt.title(f\"Function output with varying {iterable_arg}\")\n",
    "    plt.xlabel(iterable_arg)\n",
    "    plt.ylabel(\"Function output\")\n",
    "    plt.show()"
   ],
   "metadata": {
    "collapsed": false
   }
  }
 ],
 "metadata": {
  "kernelspec": {
   "display_name": "Python 3",
   "language": "python",
   "name": "python3"
  },
  "language_info": {
   "codemirror_mode": {
    "name": "ipython",
    "version": 2
   },
   "file_extension": ".py",
   "mimetype": "text/x-python",
   "name": "python",
   "nbconvert_exporter": "python",
   "pygments_lexer": "ipython2",
   "version": "2.7.6"
  }
 },
 "nbformat": 4,
 "nbformat_minor": 0
}
