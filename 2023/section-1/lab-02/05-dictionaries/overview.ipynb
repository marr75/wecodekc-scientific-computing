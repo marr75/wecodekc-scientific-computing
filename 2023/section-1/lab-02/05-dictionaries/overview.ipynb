{
 "cells": [
  {
   "cell_type": "markdown",
   "metadata": {},
   "source": [
    "# [Dictionaries](https://docs.python.org/3/library/stdtypes.html#dict) \n",
    "Collections of `key`-`value` pairs. "
   ]
  },
  {
   "cell_type": "code",
   "execution_count": null,
   "metadata": {},
   "outputs": [],
   "source": [
    "my_empty_dictn = {}  # alternative: my_empty_dictn = dict()\n",
    "print(f\"dictn: {my_empty_dictn}, type: {type(my_empty_dictn)}\")"
   ]
  },
  {
   "cell_type": "markdown",
   "metadata": {},
   "source": [
    "## Initialization"
   ]
  },
  {
   "cell_type": "code",
   "execution_count": null,
   "metadata": {},
   "outputs": [],
   "source": [
    "dictn1 = {\"value1\": 1.6, \"value2\": 10, \"name\": \"John Doe\"}\n",
    "dictn2 = dict(value1=1.6, value2=10, name=\"John Doe\")\n",
    "\n",
    "print(dictn1)\n",
    "print(dictn2)\n",
    "\n",
    "print(f\"equal: {dictn1 == dictn2}\")\n",
    "print(f\"length: {len(dictn1)}\")"
   ]
  },
  {
   "cell_type": "markdown",
   "metadata": {},
   "source": [
    "## `dict.keys(), dict.values(), dict.items()`"
   ]
  },
  {
   "cell_type": "code",
   "execution_count": null,
   "metadata": {},
   "outputs": [],
   "source": [
    "print(f\"keys: {dictn1.keys()}\")\n",
    "print(f\"values: {dictn1.values()}\")\n",
    "print(f\"items: {dictn1.items()}\")"
   ]
  },
  {
   "cell_type": "markdown",
   "metadata": {},
   "source": [
    "## Accessing and setting values"
   ]
  },
  {
   "cell_type": "code",
   "execution_count": null,
   "metadata": {},
   "outputs": [],
   "source": [
    "my_dictn = {}\n",
    "my_dictn[\"key1\"] = \"value1\"\n",
    "my_dictn[\"key2\"] = 99\n",
    "my_dictn[\"key1\"] = \"new value\"  # overriding existing value\n",
    "print(my_dictn)\n",
    "print(\"value of key1: {}\".format(my_dictn[\"key1\"]))"
   ]
  },
  {
   "cell_type": "markdown",
   "metadata": {},
   "source": [
    "Accessing a nonexistent key will raise `KeyError` (see [`dict.get()`](#dict_get) for workaround):"
   ]
  },
  {
   "cell_type": "code",
   "execution_count": null,
   "metadata": {},
   "outputs": [],
   "source": [
    "# print(my_dictn['nope'])"
   ]
  },
  {
   "cell_type": "markdown",
   "metadata": {},
   "source": [
    "## Deleting"
   ]
  },
  {
   "cell_type": "code",
   "execution_count": null,
   "metadata": {},
   "outputs": [],
   "source": [
    "my_dictn = {\"key1\": \"value1\", \"key2\": 99, \"keyX\": \"valueX\"}\n",
    "del my_dictn[\"keyX\"]\n",
    "print(my_dictn)\n",
    "\n",
    "# Usually better to make sure that the key exists (see also pop() and popitem())\n",
    "key_to_delete = \"my_key\"\n",
    "if key_to_delete in my_dictn:\n",
    "    del my_dictn[key_to_delete]\n",
    "else:\n",
    "    print(f\"{key_to_delete} is not in {my_dictn}\")"
   ]
  },
  {
   "cell_type": "markdown",
   "metadata": {},
   "source": [
    "## Dictionaries are mutable"
   ]
  },
  {
   "cell_type": "code",
   "execution_count": null,
   "metadata": {},
   "outputs": [],
   "source": [
    "my_dictn = {\"ham\": \"good\", \"carrot\": \"semi good\"}\n",
    "my_other_dictn = my_dictn\n",
    "my_other_dictn[\"carrot\"] = \"super tasty\"\n",
    "my_other_dictn[\"sausage\"] = \"best ever\"\n",
    "print(f\"my_dictn: {my_dictn}\\nother: {my_other_dictn}\")\n",
    "print(f\"equal: {my_dictn == my_other_dictn}\")"
   ]
  },
  {
   "cell_type": "markdown",
   "metadata": {},
   "source": [
    "Create a new `dict` if you want to have a copy:"
   ]
  },
  {
   "cell_type": "code",
   "execution_count": null,
   "metadata": {},
   "outputs": [],
   "source": [
    "my_dictn = {\"ham\": \"good\", \"carrot\": \"semi good\"}\n",
    "my_other_dictn = dict(my_dictn)\n",
    "my_other_dictn[\"beer\"] = \"decent\"\n",
    "print(f\"my_dict: {my_dictn}\\nother: {my_other_dictn}\")\n",
    "print(f\"equal: {my_dictn == my_other_dictn}\")"
   ]
  },
  {
   "cell_type": "markdown",
   "metadata": {},
   "source": [
    "<a id='dict_get'></a>\n",
    "## `dict.get()`\n",
    "Returns `None` if `key` is not in `dict`. However, you can also specify `default` return value which will be returned if `key` is not present in the `dict`. "
   ]
  },
  {
   "cell_type": "code",
   "execution_count": null,
   "metadata": {},
   "outputs": [],
   "source": [
    "my_dictn = {\"a\": 1, \"b\": 2, \"c\": 3}\n",
    "d = my_dictn.get(\"d\")\n",
    "print(f\"d: {d}\")\n",
    "\n",
    "d = my_dictn.get(\"d\", \"my default value\")\n",
    "print(f\"d: {d}\")"
   ]
  },
  {
   "cell_type": "markdown",
   "metadata": {},
   "source": [
    "## `dict.pop()`"
   ]
  },
  {
   "cell_type": "code",
   "execution_count": null,
   "metadata": {},
   "outputs": [],
   "source": [
    "my_dictn = dict(food=\"ham\", drink=\"beer\", sport=\"football\")\n",
    "print(f\"dictn before pops: {my_dictn}\")\n",
    "\n",
    "food = my_dictn.pop(\"food\")\n",
    "print(f\"food: {food}\")\n",
    "print(f\"dict after popping food: {my_dictn}\")\n",
    "\n",
    "food_again = my_dictn.pop(\"food\", \"default value for food\")\n",
    "print(f\"food again: {food_again}\")\n",
    "print(f\"dict after popping food again: {my_dictn}\")"
   ]
  },
  {
   "cell_type": "markdown",
   "metadata": {},
   "source": [
    "## `dict.setdefault()`\n",
    "Returns the `value` of `key` defined as first parameter. If the `key` is not present in the dict, adds `key` with default value (second parameter)."
   ]
  },
  {
   "cell_type": "code",
   "execution_count": null,
   "metadata": {},
   "outputs": [],
   "source": [
    "my_dictn = {\"a\": 1, \"b\": 2, \"c\": 3}\n",
    "a = my_dictn.setdefault(\"a\", \"my default value\")\n",
    "d = my_dictn.setdefault(\"d\", \"my default value\")\n",
    "print(f\"a: {a}\\nd: {d}\\nmy_dictn: {my_dictn}\")"
   ]
  },
  {
   "cell_type": "markdown",
   "metadata": {},
   "source": [
    "## `dict.update()`\n",
    "Merge two `dict`s"
   ]
  },
  {
   "cell_type": "code",
   "execution_count": null,
   "metadata": {},
   "outputs": [],
   "source": [
    "dictn1 = {\"a\": 1, \"b\": 2}\n",
    "dictn2 = {\"c\": 3}\n",
    "dictn1.update(dictn2)\n",
    "print(dictn1)\n",
    "\n",
    "# If they have same keys:\n",
    "dictn1.update({\"c\": 4})\n",
    "print(dictn1)"
   ]
  },
  {
   "cell_type": "markdown",
   "metadata": {},
   "source": [
    "## The keys of a `dict` have to be immutable"
   ]
  },
  {
   "cell_type": "markdown",
   "metadata": {},
   "source": [
    "Thus you can not use e.g. a `list` or a `dict` as key because they are mutable types\n",
    ":"
   ]
  },
  {
   "cell_type": "code",
   "execution_count": null,
   "metadata": {},
   "outputs": [],
   "source": [
    "# bad_dictn = {['my_list'], 'value'}  # Raises TypeError"
   ]
  },
  {
   "cell_type": "markdown",
   "metadata": {},
   "source": [
    "Values can be mutable"
   ]
  },
  {
   "cell_type": "code",
   "execution_count": null,
   "metadata": {},
   "outputs": [],
   "source": [
    "good_dictn = {\"my key\": [\"Python\", \"is\", \"still\", \"cool\"]}\n",
    "print(good_dictn)"
   ]
  },
  {
   "cell_type": "code",
   "execution_count": null,
   "outputs": [],
   "source": [],
   "metadata": {
    "collapsed": false
   }
  }
 ],
 "metadata": {
  "kernelspec": {
   "display_name": "Python 3",
   "language": "python",
   "name": "python3"
  },
  "language_info": {
   "codemirror_mode": {
    "name": "ipython",
    "version": 3
   },
   "file_extension": ".py",
   "mimetype": "text/x-python",
   "name": "python",
   "nbconvert_exporter": "python",
   "pygments_lexer": "ipython3",
   "version": "3.5.4"
  }
 },
 "nbformat": 4,
 "nbformat_minor": 2
}
