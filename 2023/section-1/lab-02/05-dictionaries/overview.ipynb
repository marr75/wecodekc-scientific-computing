{
 "cells": [
  {
   "cell_type": "markdown",
   "metadata": {},
   "source": [
    "# [Dictionaries](https://docs.python.org/3/library/stdtypes.html#dict) \n",
    "Collections of `key`-`value` pairs. "
   ]
  },
  {
   "cell_type": "code",
   "execution_count": 1,
   "metadata": {
    "ExecuteTime": {
     "end_time": "2023-05-20T14:54:44.120722Z",
     "start_time": "2023-05-20T14:54:44.105317Z"
    }
   },
   "outputs": [
    {
     "name": "stdout",
     "output_type": "stream",
     "text": [
      "dictn: {}, type: <class 'dict'>\n"
     ]
    }
   ],
   "source": [
    "my_empty_dictn = {}  # alternative: my_empty_dictn = dict()\n",
    "print(f\"dictn: {my_empty_dictn}, type: {type(my_empty_dictn)}\")"
   ]
  },
  {
   "cell_type": "markdown",
   "metadata": {},
   "source": [
    "## Initialization"
   ]
  },
  {
   "cell_type": "code",
   "execution_count": 2,
   "metadata": {
    "ExecuteTime": {
     "end_time": "2023-05-20T14:54:44.129097Z",
     "start_time": "2023-05-20T14:54:44.119061Z"
    }
   },
   "outputs": [
    {
     "name": "stdout",
     "output_type": "stream",
     "text": [
      "{'value1': 1.6, 'value2': 10, 'name': 'John Doe'}\n",
      "{'value1': 1.6, 'value2': 10, 'name': 'John Doe'}\n",
      "equal: True\n",
      "length: 3\n"
     ]
    }
   ],
   "source": [
    "dictn1 = {\"value1\": 1.6, \"value2\": 10, \"name\": \"John Doe\"}\n",
    "dictn2 = dict(value1=1.6, value2=10, name=\"John Doe\")\n",
    "\n",
    "print(dictn1)\n",
    "print(dictn2)\n",
    "\n",
    "print(f\"equal: {dictn1 == dictn2}\")\n",
    "print(f\"length: {len(dictn1)}\")"
   ]
  },
  {
   "cell_type": "markdown",
   "metadata": {},
   "source": [
    "## `dict.keys(), dict.values(), dict.items()`"
   ]
  },
  {
   "cell_type": "code",
   "execution_count": 3,
   "metadata": {
    "ExecuteTime": {
     "end_time": "2023-05-20T14:54:44.130213Z",
     "start_time": "2023-05-20T14:54:44.128535Z"
    }
   },
   "outputs": [
    {
     "name": "stdout",
     "output_type": "stream",
     "text": [
      "keys: dict_keys(['value1', 'value2', 'name'])\n",
      "values: dict_values([1.6, 10, 'John Doe'])\n",
      "items: dict_items([('value1', 1.6), ('value2', 10), ('name', 'John Doe')])\n"
     ]
    }
   ],
   "source": [
    "print(f\"keys: {dictn1.keys()}\")\n",
    "print(f\"values: {dictn1.values()}\")\n",
    "print(f\"items: {dictn1.items()}\")"
   ]
  },
  {
   "cell_type": "markdown",
   "metadata": {},
   "source": [
    "## Accessing and setting values"
   ]
  },
  {
   "cell_type": "code",
   "execution_count": 4,
   "metadata": {},
   "outputs": [
    {
     "name": "stdout",
     "output_type": "stream",
     "text": [
      "{'key1': 'new value', 'key2': 99}\n",
      "value of key1: new value\n"
     ]
    }
   ],
   "source": [
    "my_dictn = {}\n",
    "my_dictn[\"key1\"] = \"value1\"\n",
    "my_dictn[\"key2\"] = 99\n",
    "my_dictn[\"key1\"] = \"new value\"  # overriding existing value\n",
    "print(my_dictn)\n",
    "print(\"value of key1: {}\".format(my_dictn[\"key1\"]))"
   ]
  },
  {
   "cell_type": "markdown",
   "metadata": {},
   "source": [
    "Accessing a nonexistent key will raise `KeyError` (see [`dict.get()`](#dict_get) for workaround):"
   ]
  },
  {
   "cell_type": "code",
   "execution_count": 5,
   "metadata": {},
   "outputs": [],
   "source": [
    "# print(my_dictn['nope'])"
   ]
  },
  {
   "cell_type": "markdown",
   "metadata": {},
   "source": [
    "## Deleting"
   ]
  },
  {
   "cell_type": "code",
   "execution_count": 6,
   "metadata": {
    "ExecuteTime": {
     "end_time": "2023-05-20T14:54:44.324054Z",
     "start_time": "2023-05-20T14:54:44.160461Z"
    }
   },
   "outputs": [
    {
     "name": "stdout",
     "output_type": "stream",
     "text": [
      "{'key1': 'value1', 'key2': 99}\n",
      "my_key is not in {'key1': 'value1', 'key2': 99}\n"
     ]
    }
   ],
   "source": [
    "my_dictn = {\"key1\": \"value1\", \"key2\": 99, \"keyX\": \"valueX\"}\n",
    "del my_dictn[\"keyX\"]\n",
    "print(my_dictn)\n",
    "\n",
    "# Usually better to make sure that the key exists (see also pop() and popitem())\n",
    "key_to_delete = \"my_key\"\n",
    "if key_to_delete in my_dictn:\n",
    "    del my_dictn[key_to_delete]\n",
    "else:\n",
    "    print(f\"{key_to_delete} is not in {my_dictn}\")"
   ]
  },
  {
   "cell_type": "markdown",
   "metadata": {},
   "source": [
    "## Dictionaries are mutable"
   ]
  },
  {
   "cell_type": "code",
   "execution_count": 7,
   "metadata": {
    "ExecuteTime": {
     "end_time": "2023-05-20T14:54:44.324519Z",
     "start_time": "2023-05-20T14:54:44.170437Z"
    }
   },
   "outputs": [
    {
     "name": "stdout",
     "output_type": "stream",
     "text": [
      "my_dictn: {'ham': 'good', 'carrot': 'super tasty', 'sausage': 'best ever'}\n",
      "other: {'ham': 'good', 'carrot': 'super tasty', 'sausage': 'best ever'}\n",
      "equal: True\n"
     ]
    }
   ],
   "source": [
    "my_dictn = {\"ham\": \"good\", \"carrot\": \"semi good\"}\n",
    "my_other_dictn = my_dictn\n",
    "my_other_dictn[\"carrot\"] = \"super tasty\"\n",
    "my_other_dictn[\"sausage\"] = \"best ever\"\n",
    "print(f\"my_dictn: {my_dictn}\\nother: {my_other_dictn}\")\n",
    "print(f\"equal: {my_dictn == my_other_dictn}\")"
   ]
  },
  {
   "cell_type": "markdown",
   "metadata": {},
   "source": [
    "Create a new `dict` if you want to have a copy:"
   ]
  },
  {
   "cell_type": "code",
   "execution_count": 8,
   "metadata": {
    "ExecuteTime": {
     "end_time": "2023-05-20T14:54:44.325193Z",
     "start_time": "2023-05-20T14:54:44.179883Z"
    }
   },
   "outputs": [
    {
     "name": "stdout",
     "output_type": "stream",
     "text": [
      "my_dict: {'ham': 'good', 'carrot': 'semi good'}\n",
      "other: {'ham': 'good', 'carrot': 'semi good', 'beer': 'decent'}\n",
      "equal: False\n"
     ]
    }
   ],
   "source": [
    "my_dictn = {\"ham\": \"good\", \"carrot\": \"semi good\"}\n",
    "my_other_dictn = dict(my_dictn)\n",
    "my_other_dictn[\"milk\"] = \"decent\"\n",
    "print(f\"my_dict: {my_dictn}\\nother: {my_other_dictn}\")\n",
    "print(f\"equal: {my_dictn == my_other_dictn}\")"
   ]
  },
  {
   "cell_type": "markdown",
   "metadata": {},
   "source": [
    "<a id='dict_get'></a>\n",
    "## `dict.get()`\n",
    "Returns `None` if `key` is not in `dict`. However, you can also specify `default` return value which will be returned if `key` is not present in the `dict`. "
   ]
  },
  {
   "cell_type": "code",
   "execution_count": 9,
   "metadata": {
    "ExecuteTime": {
     "end_time": "2023-05-20T14:54:44.325838Z",
     "start_time": "2023-05-20T14:54:44.191638Z"
    }
   },
   "outputs": [
    {
     "name": "stdout",
     "output_type": "stream",
     "text": [
      "d: None\n",
      "d: my default value\n"
     ]
    }
   ],
   "source": [
    "my_dictn = {\"a\": 1, \"b\": 2, \"c\": 3}\n",
    "d = my_dictn.get(\"d\")\n",
    "print(f\"d: {d}\")\n",
    "\n",
    "d = my_dictn.get(\"d\", \"my default value\")\n",
    "print(f\"d: {d}\")"
   ]
  },
  {
   "cell_type": "markdown",
   "metadata": {},
   "source": [
    "## `dict.pop()`"
   ]
  },
  {
   "cell_type": "code",
   "execution_count": 10,
   "metadata": {
    "ExecuteTime": {
     "end_time": "2023-05-20T14:54:44.327324Z",
     "start_time": "2023-05-20T14:54:44.200371Z"
    }
   },
   "outputs": [
    {
     "name": "stdout",
     "output_type": "stream",
     "text": [
      "dictn before pops: {'food': 'ham', 'drink': 'beer', 'sport': 'football'}\n",
      "food: ham\n",
      "dict after popping food: {'drink': 'beer', 'sport': 'football'}\n",
      "food again: default value for food\n",
      "dict after popping food again: {'drink': 'beer', 'sport': 'football'}\n"
     ]
    }
   ],
   "source": [
    "my_dictn = dict(food=\"ham\", drink=\"milk\", sport=\"football\")\n",
    "print(f\"dictn before pops: {my_dictn}\")\n",
    "\n",
    "food = my_dictn.pop(\"food\")\n",
    "print(f\"food: {food}\")\n",
    "print(f\"dict after popping food: {my_dictn}\")\n",
    "\n",
    "food_again = my_dictn.pop(\"food\", \"default value for food\")\n",
    "print(f\"food again: {food_again}\")\n",
    "print(f\"dict after popping food again: {my_dictn}\")"
   ]
  },
  {
   "cell_type": "markdown",
   "metadata": {},
   "source": [
    "## `dict.setdefault()`\n",
    "Returns the `value` of `key` defined as first parameter. If the `key` is not present in the dict, adds `key` with default value (second parameter)."
   ]
  },
  {
   "cell_type": "code",
   "execution_count": 11,
   "metadata": {
    "ExecuteTime": {
     "end_time": "2023-05-20T14:54:44.327870Z",
     "start_time": "2023-05-20T14:54:44.209532Z"
    }
   },
   "outputs": [
    {
     "name": "stdout",
     "output_type": "stream",
     "text": [
      "a: 1\n",
      "d: my default value\n",
      "my_dictn: {'a': 1, 'b': 2, 'c': 3, 'd': 'my default value'}\n"
     ]
    }
   ],
   "source": [
    "my_dictn = {\"a\": 1, \"b\": 2, \"c\": 3}\n",
    "a = my_dictn.setdefault(\"a\", \"my default value\")\n",
    "d = my_dictn.setdefault(\"d\", \"my default value\")\n",
    "print(f\"a: {a}\\nd: {d}\\nmy_dictn: {my_dictn}\")"
   ]
  },
  {
   "cell_type": "markdown",
   "metadata": {},
   "source": [
    "## `dict.update()`\n",
    "Merge two `dict`s"
   ]
  },
  {
   "cell_type": "code",
   "execution_count": 12,
   "metadata": {
    "ExecuteTime": {
     "end_time": "2023-05-20T14:54:44.328245Z",
     "start_time": "2023-05-20T14:54:44.214326Z"
    }
   },
   "outputs": [
    {
     "name": "stdout",
     "output_type": "stream",
     "text": [
      "{'a': 1, 'b': 2, 'c': 3}\n",
      "{'a': 1, 'b': 2, 'c': 4}\n"
     ]
    }
   ],
   "source": [
    "dictn1 = {\"a\": 1, \"b\": 2}\n",
    "dictn2 = {\"c\": 3}\n",
    "dictn1.update(dictn2)\n",
    "print(dictn1)\n",
    "\n",
    "# If they have same keys:\n",
    "dictn1.update({\"c\": 4})\n",
    "print(dictn1)"
   ]
  },
  {
   "cell_type": "markdown",
   "metadata": {},
   "source": [
    "## The keys of a `dict` have to be immutable"
   ]
  },
  {
   "cell_type": "markdown",
   "metadata": {},
   "source": [
    "Thus you can not use e.g. a `list` or a `dict` as key because they are mutable types\n",
    ":"
   ]
  },
  {
   "cell_type": "code",
   "execution_count": 13,
   "metadata": {
    "ExecuteTime": {
     "end_time": "2023-05-20T14:54:44.328729Z",
     "start_time": "2023-05-20T14:54:44.219770Z"
    }
   },
   "outputs": [],
   "source": [
    "# bad_dictn = {['my_list'], 'value'}  # Raises TypeError"
   ]
  },
  {
   "cell_type": "markdown",
   "metadata": {},
   "source": [
    "Values can be mutable"
   ]
  },
  {
   "cell_type": "code",
   "execution_count": 14,
   "metadata": {
    "ExecuteTime": {
     "end_time": "2023-05-20T14:54:44.329039Z",
     "start_time": "2023-05-20T14:54:44.223660Z"
    }
   },
   "outputs": [
    {
     "name": "stdout",
     "output_type": "stream",
     "text": [
      "{'my key': ['Python', 'is', 'still', 'cool']}\n"
     ]
    }
   ],
   "source": [
    "good_dictn = {\"my key\": [\"Python\", \"is\", \"still\", \"cool\"]}\n",
    "print(good_dictn)"
   ]
  },
  {
   "cell_type": "code",
   "execution_count": 14,
   "outputs": [],
   "source": [],
   "metadata": {
    "collapsed": false,
    "ExecuteTime": {
     "end_time": "2023-05-20T14:54:44.329463Z",
     "start_time": "2023-05-20T14:54:44.227403Z"
    }
   }
  }
 ],
 "metadata": {
  "kernelspec": {
   "display_name": "Python 3",
   "language": "python",
   "name": "python3"
  },
  "language_info": {
   "codemirror_mode": {
    "name": "ipython",
    "version": 3
   },
   "file_extension": ".py",
   "mimetype": "text/x-python",
   "name": "python",
   "nbconvert_exporter": "python",
   "pygments_lexer": "ipython3",
   "version": "3.5.4"
  }
 },
 "nbformat": 4,
 "nbformat_minor": 2
}
