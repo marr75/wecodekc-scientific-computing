{
 "cells": [
  {
   "cell_type": "markdown",
   "metadata": {},
   "source": [
    "# IPython\n",
    "\n",
    "[IPython](https://ipython.org/) is the underlying platform backing Jupyter in several ways.\n",
    "* It's the basic architecture that connects Jupyter kernels (code interpreters) to notebooks\n",
    "* It provides formatting, rendering, and \"magic\" functions/extensions to kernels it is running\n",
    "* It provides special out of process and operating system functions\n",
    "* It empowers special features when you are using a python kernel\n",
    "\n",
    "[IPython's tutorial](https://ipython.readthedocs.io/en/stable/interactive/tutorial.html#introducing-ipython) is a bit involved and jumps around in its assumptions of your Python knowledge but it has some useful references and is good if for nothing else than to skim and become aware of the possibilities and tools available.\n",
    "\n",
    "Besides the concepts and commands discussed below, IPython supports:\n",
    "* [Tab Completion](https://ipython.readthedocs.io/en/stable/interactive/tutorial.html#tab-completion) - press `Tab` to see a list of suggested autocompletions for whatever you are currently typing\n",
    "* [In-line execution timing](https://ipython.readthedocs.io/en/stable/interactive/magics.html#magic-timeit), [Asynchronous and Parallel Tasks](https://ipython-books.github.io/510-interacting-with-asynchronous-parallel-tasks-in-ipython/), and in-line calls to other systems, languages, and operating system facilities through a robust process management and communication architecture"
   ]
  },
  {
   "cell_type": "markdown",
   "metadata": {},
   "source": [
    "## The four most helpful commands\n",
    "The tutorial linked above describes the following commands:\n",
    "* `?` Introduction and overview of IPython’s features.\n",
    "* `%quickref` Quick reference.\n",
    "* `help` Python’s own help system.\n",
    "* `object?` Details about ‘object’, use ‘object??’ for extra details.\n",
    "As the most useful IPython commands (at least for getting started) and some of these commands will be helpful in making other notebooks self descriptive.\n",
    "\n",
    "A bonus \"fifth most helpful command\" - in my opinion - is `display`. It is implicitly called upon the last expression of a cell, if that expression produces a value and you may call it to display just about any Python object - usually in a readable format."
   ]
  },
  {
   "cell_type": "markdown",
   "metadata": {},
   "source": [
    "## ? -> Introduction and overview of IPython’s features\n",
    "* execute the next cell\n",
    "* read its output\n",
    "* create a new cell below it\n",
    "* use the iPython features you read about to:\n",
    "  * Call the `ls` shell command\n",
    "  * Call a function (i.e. `print('Hello', 'World!')` ) with the auto-parentheses and auto-quote functionality"
   ]
  },
  {
   "cell_type": "code",
   "execution_count": null,
   "metadata": {},
   "outputs": [],
   "source": [
    "?"
   ]
  },
  {
   "cell_type": "code",
   "execution_count": null,
   "metadata": {},
   "outputs": [],
   "source": [
    "!ls\n",
    "!echo \"Hello World!\"\n",
    "print(\"Hello World!\")\n",
    "print(\"Hello, World!\")\n",
    "print(\"Hello\", \"World!\")\n",
    "print(\"Hello World!\")"
   ]
  },
  {
   "cell_type": "markdown",
   "metadata": {},
   "source": [
    "### _Now that you have called functions without using parantheses and created strings without using quotes, don't do either of those things in the future. They will introduce unnecessary bugs and difficulty reading scripts. They should only be used in the most exploratory and temporary code and they don't save you much if any typing anyway._"
   ]
  },
  {
   "cell_type": "markdown",
   "metadata": {},
   "source": [
    "## Display the last 3 outputs using `_` output caching commands in a new empty cell below"
   ]
  },
  {
   "cell_type": "code",
   "execution_count": null,
   "metadata": {},
   "outputs": [],
   "source": [
    "_, __, ___"
   ]
  },
  {
   "cell_type": "markdown",
   "metadata": {},
   "source": [
    "## Display the last 3 inputs using `_i` input caching commands in a new empty cell below"
   ]
  },
  {
   "cell_type": "code",
   "execution_count": null,
   "metadata": {},
   "outputs": [],
   "source": [
    "_i, _ii, _iii"
   ]
  },
  {
   "cell_type": "markdown",
   "metadata": {},
   "source": [
    "## %quickref and object? -> Quick reference and object help.\n",
    "\n",
    "* execute the next cell\n",
    "* read its output (don't spend too much time on the long listing of magic functions, definitions of \"magic\" seem to vary wildly...)\n",
    "* in a new cell for each, use the iPython features you read about to:\n",
    "  * get help (`?`) for the `dict` class/initializer\n",
    "  * create a new dictionary with 3 keys/values without assigning it to anything (i.e. `dict(a=1, b=2, c=3)`)\n",
    "  * use output caching to get help (`?`) on the dictionary instance you created above\n",
    "  * list names in the `dict` class containing `key` in them"
   ]
  },
  {
   "cell_type": "code",
   "execution_count": null,
   "metadata": {},
   "outputs": [],
   "source": [
    "%quickref"
   ]
  },
  {
   "cell_type": "code",
   "execution_count": null,
   "metadata": {},
   "outputs": [],
   "source": [
    "?dict"
   ]
  },
  {
   "cell_type": "code",
   "execution_count": null,
   "metadata": {},
   "outputs": [],
   "source": [
    "dict(a=1, b=2, c=3)"
   ]
  },
  {
   "cell_type": "code",
   "execution_count": null,
   "metadata": {},
   "outputs": [],
   "source": [
    "?_"
   ]
  },
  {
   "cell_type": "code",
   "execution_count": null,
   "metadata": {},
   "outputs": [],
   "source": [
    "%psearch dict.*key*"
   ]
  },
  {
   "cell_type": "markdown",
   "metadata": {},
   "source": [
    "## help -> Python's built-in help\n",
    "* execute the next 2 cells\n",
    "* observe their output - it's differently formatted and a little more verbose than the IPython helper (`?`), the method docs are pretty comparable, though"
   ]
  },
  {
   "cell_type": "code",
   "execution_count": null,
   "metadata": {},
   "outputs": [],
   "source": [
    "help(dict)"
   ]
  },
  {
   "cell_type": "code",
   "execution_count": null,
   "metadata": {},
   "outputs": [],
   "source": [
    "# Note: IPython has decided that the stream they print the documentation from `?` commands\n",
    "# will be displayed after whatever the python interpreter would have displayed.\n",
    "# In this case, despite executing `?` then `help`, they are displayed `help` output then `?` output\n",
    "dict.setdefault?\n",
    "help(dict.setdefault)"
   ]
  },
  {
   "cell_type": "markdown",
   "metadata": {},
   "source": [
    "## Magic IPython commands\n",
    "\n",
    "One useful magic example is demonstrated below. Frankly, not a lot of these are installed/exist in the old \"IPython Way\" (mostly because Jupyter has more or less eaten IPython) and there are \"dead\" magic extensions littering the internet. If you find a magic extension "
   ]
  },
  {
   "cell_type": "markdown",
   "metadata": {},
   "source": [
    "## Storage Magic\n",
    "\n",
    "Stores and retrieves variables in and across sessions/notebooks"
   ]
  },
  {
   "cell_type": "code",
   "execution_count": null,
   "metadata": {},
   "outputs": [],
   "source": [
    "example = dict(a=1, b=2, c=3)\n",
    "%store example\n",
    "\n",
    "example = dict(something=\"else\")\n",
    "%store -r example\n",
    "\n",
    "example"
   ]
  },
  {
   "cell_type": "markdown",
   "metadata": {},
   "source": [
    "## The next notebook is `lab-and-filesystem.ipynb`"
   ]
  }
 ],
 "metadata": {
  "kernelspec": {
   "display_name": "Python 3",
   "language": "python",
   "name": "python3"
  },
  "language_info": {
   "codemirror_mode": {
    "name": "ipython",
    "version": 3
   },
   "file_extension": ".py",
   "mimetype": "text/x-python",
   "name": "python",
   "nbconvert_exporter": "python",
   "pygments_lexer": "ipython3",
   "version": "3.7.3"
  }
 },
 "nbformat": 4,
 "nbformat_minor": 4
}
