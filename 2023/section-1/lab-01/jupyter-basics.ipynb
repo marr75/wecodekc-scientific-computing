{
 "cells": [
  {
   "cell_type": "markdown",
   "metadata": {},
   "source": [
    "# Jupyter Notebooks\n",
    "Notebooks are files that store source code, documentation, and output together. The Jupyter server also associates \"kernels\" with notebooks that actually run the code and produce the output. These features combined mean that notebooks are a great way to work on problems with long run times, complex steps, multi-disciplinary teams, and remote/asynchronous work among multiple team members.\n",
    "\n",
    "The sub-unit of a notebook is a \"cell\". Cells have a type (i.e. code, markdown, raw text), contents, and an output (though the output might be empty). They execute and hold on to their output independently from one another but code in the cell will most likely alter the \"global\" context available to other cells (for example, defining variables, populating data, etc.).\n",
    "\n",
    "Most of our notebooks are written in python but there are other kernels available (R, Node, etc.) and there are extensions that when loaded allow for mixed languages in the same notebook, powerful visual rendering, and interactive experiences.\n",
    "\n",
    "For a little bit more on the mechanics of a notebook, [see this post](https://www.dataquest.io/blog/jupyter-notebook-tutorial/).\n",
    "\n",
    "Your mouse and keyboard will work about the way you would imagine they would and `Shift + Enter` will execute the currently highlighted cell before moving the highlight to the next cell. This includes \"markdown cells\" and \"code cells\" both, though the \"markdown cells\" aren't going to do anything interesting when executed. It's also useful to know that you hotkeys respond to your current focus in a notebook. Many hotkeys are cell specific, some apply to the whole notebook, and most only work when outside of a cell (\"Command Mode\") rather than editing the text or source inside a cell.\n",
    "\n",
    "Other useful key combinations (capitalization irrelevant and only used for readability):\n",
    "- While outside of a specific cell:\n",
    "  - `A` will create a new cell above the current cell and move your focus outside of that new cell\n",
    "  - `B` will create a new cell below the current cell and move your focus outside of that new cell\n",
    "  - `D, D` will delete the current cell and move your focus outside of the next cell\n",
    "  - `M` will convert the cell type to markdown without changing its contents\n",
    "  - `R` will convert the cell type to raw without changing its contents\n",
    "  - `Y` will convert the cell type back to code (the default) without changing its contents\n",
    "  - `Enter` will enter the cell to edit its content\n",
    "- While outside any cell:\n",
    "  - `Z` will undo a cell operation\n",
    "  - `Shift + Z` will redo an undone cell operation\n",
    "  - `Shift + M` will merge the content of multiple selected cells\n",
    "  - `Shift + L` will toggle line numbers\n",
    "  - `00` will restart the notebook's kernel (after a brief confirmation, `Enter` will accept the confirmation dialogue)\n",
    "- While inside any cell:\n",
    "  - `Ctrl + M` will activate \"Command Mode\" (exiting the cell but leaving it highlighted/selected)"
   ]
  },
  {
   "cell_type": "markdown",
   "metadata": {},
   "source": [
    "# Follow the instructions present within the markdown below"
   ]
  },
  {
   "cell_type": "markdown",
   "metadata": {},
   "source": [
    "## Do the following\n",
    "* Enter this cell\n",
    "* Corec† it's many tiepos\n",
    "* Add your favrite emoji here\n",
    "* Execute it so that it shows as markdown"
   ]
  },
  {
   "cell_type": "markdown",
   "metadata": {},
   "source": [
    "## Create and leave empty cells A-bove and B-elow this one by using command mode(`Ctrl + M`), `A`, and `B` hotkeys."
   ]
  },
  {
   "cell_type": "markdown",
   "metadata": {},
   "source": [
    "## Fill the blank cell you just created above this cell with some text and then convert the cell to markdown and execute it with `Shift + Enter`"
   ]
  },
  {
   "cell_type": "markdown",
   "metadata": {},
   "source": [
    "## D-elete the nonsense cell below this one with the `D, D` hotkey combination"
   ]
  },
  {
   "cell_type": "code",
   "execution_count": null,
   "metadata": {},
   "outputs": [],
   "source": [
    "I'm not python code, I'm nonsense!"
   ]
  },
  {
   "cell_type": "markdown",
   "metadata": {},
   "source": [
    "## Convert the cell below this one with `Y` to code (in this case python code because this is a python notebook) and execute it"
   ]
  },
  {
   "cell_type": "markdown",
   "metadata": {},
   "source": [
    "# I'm not markdown! I'm valid python code!\n",
    "def hello(subject='World'):\n",
    "    print(f'Hello, {subject}!')\n",
    "    \n",
    "curried = lambda: hello('Drew')\n",
    "curried()"
   ]
  },
  {
   "cell_type": "markdown",
   "metadata": {},
   "source": [
    "## Merge this cell (`Shift + M`) with the one below it..."
   ]
  },
  {
   "cell_type": "code",
   "execution_count": null,
   "metadata": {},
   "outputs": [],
   "source": [
    "... and they'll both become happy little markdown cells! Merging works with other types of cells (i.e. code cells), too!"
   ]
  },
  {
   "cell_type": "markdown",
   "metadata": {},
   "source": [
    "## Toggle on line numbers with `Shift + L`, enter this cell, and then write down the word on line 11 of this cell in a new cell below this one\n",
    "\n",
    "* adjustment\n",
    "* angle\n",
    "* wave\n",
    "* tail\n",
    "* bashful\n",
    "* pen\n",
    "* plot\n",
    "* pocket\n",
    "* current\n",
    "* absorbed\n",
    "* bathe\n",
    "* disappear"
   ]
  },
  {
   "cell_type": "markdown",
   "metadata": {},
   "source": [
    "## Use columnar selection (Hold `Option` while clicking and dragging your mouse) to add an asterisk (`*`) in front of the random words in the cell below and make them into an unordered list"
   ]
  },
  {
   "cell_type": "markdown",
   "metadata": {},
   "source": [
    "dolls\n",
    "chin\n",
    "notebook\n",
    "bomb\n",
    "roof\n",
    "quixotic\n",
    "cute\n",
    "lean\n",
    "berry\n",
    "snotty\n",
    "attempt\n",
    "careful"
   ]
  },
  {
   "cell_type": "markdown",
   "metadata": {},
   "source": [
    "## Now you have the basics of working with a notebook document in Jupyter(Lab)!\n",
    "\n",
    "These hotkeys and techniques will you a lot faster when editing and using notebooks and, with practice, will become \"muscle memory\" so that you're not interrupting your deeper cognitive processes to do mundane things like navigate around your notebooks, merge or otherwise edit cells, change cell types, or restart the interpreter. Speaking of which, restart the interpreter from command mode by double pressing the numeric zero key, `0, 0`. This will put whatever kernel/interpreter you're using in a clean state. This is generally helpful when you've made changes and you want to verify the script works in a clean state or if you've made a mistake affecting the interpreter state that you wish to undo.\n",
    "\n",
    "In the last few cells of this notebook we'll focus more on how the notebook environment interacts with python code. First, let's run a little python code to prime the pump. Execute (`Shift + Enter`) the next few cells. Since you just restarted the kernel, they'll be executing against a blank canvas."
   ]
  },
  {
   "cell_type": "code",
   "execution_count": null,
   "metadata": {},
   "outputs": [],
   "source": [
    "# Import some really common libraries\n",
    "import math, random, itertools, collections"
   ]
  },
  {
   "cell_type": "code",
   "execution_count": null,
   "metadata": {},
   "outputs": [],
   "source": [
    "# Call a function that returns an output.\n",
    "# Jupyter and IPython handle the last expression of a cell in a special manner.\n",
    "# First, by displaying it. Second, by storing it in the output cache (which we'll learn more about later)\n",
    "random.randint(0, 20)"
   ]
  },
  {
   "cell_type": "code",
   "execution_count": null,
   "metadata": {},
   "outputs": [],
   "source": [
    "# The random number from above will be in the output cache with the special variable name `_`\n",
    "_"
   ]
  },
  {
   "cell_type": "code",
   "execution_count": null,
   "metadata": {},
   "outputs": [],
   "source": [
    "# Let's declare a couple of other items just to better illustrate the next point\n",
    "foo = [1, 2, 3]\n",
    "bar = {'a': 1, 'b': 2, 'c': 3}\n",
    "\n",
    "def fu(baz):\n",
    "    pass\n",
    "\n",
    "class Demo: pass"
   ]
  },
  {
   "cell_type": "code",
   "execution_count": null,
   "metadata": {},
   "outputs": [],
   "source": [
    "# To see behind the curtain, let's call the python built-in function `globals()`\n",
    "globals()"
   ]
  },
  {
   "cell_type": "markdown",
   "metadata": {},
   "source": [
    "## The Jupyter IPython environment\n",
    "\n",
    "In a standard python REPL or standalone .py file, we could expect to see a `__name__` with a value of `__main__`, a key value pair for each of the items we imported, and keys and values for each of the variables we declared. But we would not expect to see any of the input or output cache items (which we'll learn about in the next notebook), the populated docstring (`__doc__`) or a few of the convenience functions IPython adds. To make this more stark we'll list all of the keys in `globals()` that are added or populated by working in this context. This will create a great context to learn more about IPython in the next notebook."
   ]
  },
  {
   "cell_type": "code",
   "execution_count": null,
   "metadata": {},
   "outputs": [],
   "source": [
    "# let's make a set of the keys we would always expect to see in globals given our circumstances\n",
    "we_expect = {\n",
    "    'math', 'random', 'itertools', 'collections', # our imported modules\n",
    "    'foo', 'bar', 'fu', 'Demo', # the variables we declared\n",
    "    'we_expect', # lil' self reference for the key we're adding here\n",
    "    '__name__', # we always have this\n",
    "}\n",
    "\n",
    "# now let's subtract that from the set of keys actually globals, IPython/Jupyter will print the expression's result\n",
    "globals().keys() - we_expect"
   ]
  },
  {
   "cell_type": "markdown",
   "metadata": {},
   "source": [
    "### The next notebook is `ipython-basics.ipynb`"
   ]
  }
 ],
 "metadata": {
  "kernelspec": {
   "display_name": "Python 3",
   "language": "python",
   "name": "python3"
  },
  "language_info": {
   "codemirror_mode": {
    "name": "ipython",
    "version": 3
   },
   "file_extension": ".py",
   "mimetype": "text/x-python",
   "name": "python",
   "nbconvert_exporter": "python",
   "pygments_lexer": "ipython3",
   "version": "3.7.3"
  }
 },
 "nbformat": 4,
 "nbformat_minor": 4
}
