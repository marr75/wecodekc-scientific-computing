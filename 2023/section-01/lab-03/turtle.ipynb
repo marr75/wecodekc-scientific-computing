{
 "nbformat": 4,
 "nbformat_minor": 0,
 "metadata": {
  "colab": {
   "provenance": []
  },
  "kernelspec": {
   "name": "python3",
   "display_name": "Python 3"
  },
  "language_info": {
   "name": "python"
  }
 },
 "cells": [
  {
   "cell_type": "code",
   "execution_count": null,
   "metadata": {
    "id": "UBryQoDzISol"
   },
   "source": [
    "!pip3 install ColabTurtle\n",
    "from ColabTurtle.Turtle import *"
   ],
   "outputs": []
  },
  {
   "cell_type": "code",
   "source": [
    "initializeTurtle()"
   ],
   "metadata": {
    "id": "TCSPSll_JtIR"
   },
   "execution_count": null,
   "outputs": []
  },
  {
   "cell_type": "markdown",
   "source": [
    "## Basic Commands:\n",
    "\n",
    "- `forward(distance)`: moves the turtle forward by the specified- `distance.\n",
    "- `backward(distance)`: moves the turtle backward by the specified- `distance.\n",
    "- `right(degrees)`: turns the turtle clockwise.\n",
    "- `left(degrees)`: turns the turtle counter-clockwise.\n",
    "- `penup()`: lifts the pen, so the turtle doesn't draw.\n",
    "- `pendown()`: puts the pen down, so the turtle draws.\n",
    "- `penwidth(width)`: sets the width of the lines drawn.\n",
    "- `pencolor(color)`: sets the color of the pen. The color can be a string (like \"blue\") or an RGB tuple.\n",
    "- `clear()`: reset the turtle"
   ],
   "metadata": {
    "id": "TcEsdbopKVtv"
   }
  },
  {
   "cell_type": "code",
   "source": [
    "forward(100)\n",
    "backward(50)"
   ],
   "metadata": {
    "id": "6Bf_f-OtIZPM"
   },
   "execution_count": null,
   "outputs": []
  },
  {
   "cell_type": "markdown",
   "source": [
    "## Let's Start Simple: Drawing a Square\n",
    "\n",
    "Before we dive into more complex shapes, let's start with something familiar to all of us — a square! 🟦\n",
    "\n",
    "A square has four equal sides and four right angles (each angle is 90 degrees). We're going to make our turtle draw a square by moving forward and turning right, step by step.\n",
    "\n",
    "But first, let's think about it:\n",
    "- How many sides does a square have?\n",
    "- What's the angle between two adjacent sides?\n",
    "\n",
    "Got the answers? Great, let's code it out! 🐢💻"
   ],
   "metadata": {
    "id": "K1S4Dw-7ROaR"
   }
  },
  {
   "cell_type": "code",
   "source": [
    "forward(100)\n",
    "right(REPLACE_THIS_WITH_ANGLE_BETWEEN_SIDES)\n",
    "\n",
    "forward(100)\n",
    "right(REPLACE_THIS_WITH_ANGLE_BETWEEN_SIDES)\n",
    "\n",
    "forward(100)\n",
    "right(REPLACE_THIS_WITH_ANGLE_BETWEEN_SIDES)\n",
    "\n",
    "forward(100)\n",
    "right(REPLACE_THIS_WITH_ANGLE_BETWEEN_SIDES)"
   ],
   "metadata": {
    "id": "1X616Ub6Io9-"
   },
   "execution_count": null,
   "outputs": []
  },
  {
   "cell_type": "markdown",
   "source": [
    "## Great Job on Your First Square!\n",
    "\n",
    "Look at that perfect square you've drawn! 🎉 By using a loop, you made the turtle move forward and turn right 90 degrees, not just once, but four times — one for each side of the square.\n",
    "\n",
    "But what if we want to draw another square or a bigger one? 🤔 Do we have to write the same commands all over again? Nope! That's where **functions** come in.\n",
    "\n",
    "Functions are like little machines: you set them up once, and then you can use them over and over again just by calling their name and maybe giving them some new information (like how big the next square should be)."
   ],
   "metadata": {
    "id": "r_hQGUhXQ771"
   }
  },
  {
   "cell_type": "markdown",
   "source": [
    "## Drawing a Square with functions\n",
    "\n",
    "Let's turn our square-drawing code into a function. We'll call it `draw_square`. This way, whenever we want to draw a square, we can just call `draw_square()` and let it do the work! 🏭✨\n",
    "\n",
    "### Here's the Plan:\n",
    "- Our function needs to know how big to make the square, so we'll give it one piece of information (parameter), `size`, which will tell it how long each side should be.\n",
    "- Inside the function, we'll still do the same steps: move forward by `size` and turn right by 90 degrees, four times in total.\n",
    "\n",
    "Ready to build this handy tool? Let's get coding!\n"
   ],
   "metadata": {
    "id": "1L5KcCvqRunt"
   }
  },
  {
   "cell_type": "code",
   "source": [
    "def draw_square(side_length):\n",
    "    for n in range(REPLACE_THIS_WITH_NUMBER_OF_SIDES):\n",
    "        forward(side_length)\n",
    "        right(REPLACE_THIS_WITH_ANGLE_BETWEEN_SIDES)\n",
    "\n",
    "draw_square(100)"
   ],
   "metadata": {
    "id": "4m-7ZVjJLkTM"
   },
   "execution_count": null,
   "outputs": []
  },
  {
   "cell_type": "code",
   "source": [
    "clear()\n",
    "draw_square(100)"
   ],
   "metadata": {
    "id": "142yhZAQL5-W"
   },
   "execution_count": null,
   "outputs": []
  },
  {
   "cell_type": "markdown",
   "source": [
    "## Level Up: A Square of Many Colors 🟥🟦🟩⬜\n",
    "\n",
    "You've just mastered drawing a square and using functions. Now, let's make things more exciting by adding a variety of colors to our square! Instead of drawing with one color, what if each side of our square could be a different color? 🤩🎨\n",
    "\n",
    "In this challenge, we're going to upgrade our `draw_square` function. We'll create a new function named `draw_square_with_colors` that takes in two parameters:\n",
    "- `side_length`: the length of each side of the square.\n",
    "- `colors`: a list of colors that we want our square sides to be.\n",
    "\n",
    "### Here's What You'll Do:\n",
    "1. Loop through a set of actions four times (because a square has four sides, remember?).\n",
    "2. For each side, pick a color from our list of colors and tell the turtle to use that color.\n",
    "3. Move the turtle forward by `side_length` units.\n",
    "4. Turn the turtle 90 degrees to prepare for drawing the next side.\n",
    "\n",
    "**Ready to create a colorful masterpiece?** Let's dive into the code!\n",
    "\n",
    "**Note**: This time, we're preparing the function for you. Your task is to understand how it's constructed and then fill in the missing parts. Look for the comments in the code below; they'll guide you on what to do in each step. And don't forget to remove the `pass` statement once you start writing your code inside the function!\n"
   ],
   "metadata": {
    "id": "4TroTLTzSCvj"
   }
  },
  {
   "cell_type": "code",
   "source": [
    "def draw_square_with_colors(side_length, colors):\n",
    "    for n in range(4):\n",
    "        # Get the color from your list of colors\n",
    "        # Set the pen color to the color you just got\n",
    "        # Move the turtle by side_length units\n",
    "        # Turn the turtle 90 degrees\n",
    "        pass # Delete this line\n",
    "\n",
    "\n",
    "clear()\n",
    "draw_square_with_colors(100, [\"red\", \"blue\", \"green\", \"white\"])"
   ],
   "metadata": {
    "id": "6kPsr227MK2E"
   },
   "execution_count": null,
   "outputs": []
  },
  {
   "cell_type": "markdown",
   "source": [
    "## Drawing a Colorful Polygon\n",
    "\n",
    "Now, let's make our drawings more colorful! 🎨 We're going to create a function called `draw_polygon_with_colors`. This function will draw a polygon with a specific number of sides, just like before. But this time, each side will have a different color!\n",
    "\n",
    "Here's what our function needs:\n",
    "- `n_sides`: The number of sides (or edges) our polygon will have. The more sides, the closer it looks to a circle!\n",
    "- `side_length`: How long each side of the polygon should be.\n",
    "- `colors`: A list of colors that our turtle will use to draw. Each side of the polygon will be one of these colors.\n",
    "\n",
    "**Note**: For this first try, we're going to assume that we have the same number of colors as the sides. That means if our polygon has 5 sides, we'll need 5 colors!\n"
   ],
   "metadata": {
    "id": "vxsebjBwQZEM"
   }
  },
  {
   "cell_type": "code",
   "source": [
    "def draw_polygon_with_colors(n_sides, side_length, colors):\n",
    "    # Determine the angle to turn based on the number of sides\n",
    "    # Define a loop for the correct number of sides\n",
    "    # Get the color from the list of colors\n",
    "    # Set the turtle to use the color\n",
    "    # Move the turtle the correct side_length\n",
    "    # Turn the turtle the correct angle\n",
    "    pass\n",
    "\n",
    "clear()\n",
    "draw_polygon_with_colors(3, 100, [\"red\", \"green\", \"blue\"])"
   ],
   "metadata": {
    "id": "VXcP-asFNF6n"
   },
   "execution_count": null,
   "outputs": []
  },
  {
   "cell_type": "markdown",
   "source": [
    "## 🧠 Challenge Time!\n",
    "\n",
    "Did you notice something in our previous function? We assumed that the number of colors provided would always match the number of sides. But what if we have more sides than colors? 🤔 We don't want our program to stop working, so we need to think of a solution!\n",
    "\n",
    "### Your Task:\n",
    "Can you modify the `draw_polygon_with_colors` function so that if there are fewer colors than sides, it will start reusing colors from the beginning of the list?\n",
    "\n",
    "**Hint**: There's a math trick called \"modulo\" that might help you here. The modulo operation finds the remainder of division of one number by another. In Python, we use `%` for modulo.\n"
   ],
   "metadata": {
    "id": "MaPuuPS_QlIM"
   }
  },
  {
   "cell_type": "code",
   "source": [
    "def draw_polygon_with_colors(n_sides, side_length, colors):\n",
    "    # Determine the angle to turn based on the number of sides\n",
    "    # Define a loop for the correct number of sides\n",
    "    # Find a way to safely cycle through the list of colors\n",
    "    # Get the color from the list of colors\n",
    "    # Set the turtle to use the color\n",
    "    # Move the turtle the correct side_length\n",
    "    # Turn the turtle the correct angle\n",
    "    pass # Delete this line"
   ],
   "metadata": {
    "id": "OdwqYweSOrah"
   },
   "execution_count": null,
   "outputs": []
  },
  {
   "cell_type": "markdown",
   "source": [
    "## Stellar Challenge: Draw a Star! 🌟\n",
    "\n",
    "Who doesn't like looking at the stars? Let's code our turtle to draw a perfect star for us. A star is a bit different from polygons — it has intersecting lines!\n",
    "\n",
    "### Your Task:\n",
    "Write a function called `draw_star` that takes one parameter:\n",
    "- `length`: the length of each side of the star.\n",
    "\n",
    "Think about how many sides a star has and the angles you'll need to turn your turtle to get those perfect points!\n"
   ],
   "metadata": {
    "id": "YQiIu2tjSMuy"
   }
  },
  {
   "cell_type": "code",
   "source": [
    "def draw_star(length):\n",
    "    # Your code here\n",
    "    pass\n",
    "\n",
    "clear()\n",
    "draw_star(100)"
   ],
   "metadata": {
    "id": "PfRsjRiQSOfp"
   },
   "execution_count": null,
   "outputs": []
  },
  {
   "cell_type": "markdown",
   "source": [
    "## Hypnotic Spirals! 🌀\n",
    "\n",
    "Spirals are fascinating! They start at one point and keep going around and around, getting bigger and bigger! Can you make the turtle draw a spiral?\n",
    "\n",
    "### Your Task:\n",
    "Write a function called `draw_spiral` that takes two parameters:\n",
    "- `initial_length`: the length of the first line of the spiral.\n",
    "- `increase`: how much longer each subsequent line should be compared to the previous one.\n",
    "\n",
    "**Hint**: You'll need to use a loop for this, and remember to turn the turtle a bit after each line!\n"
   ],
   "metadata": {
    "id": "2Iy7ONKmSbIh"
   }
  },
  {
   "cell_type": "code",
   "source": [
    "def draw_spiral(initial_length, increase):\n",
    "    # Your code here\n",
    "    pass\n",
    "\n",
    "clear()\n",
    "draw_spiral(3, 3)"
   ],
   "metadata": {
    "id": "_Gn3l2S0STcL"
   },
   "execution_count": null,
   "outputs": []
  },
  {
   "cell_type": "markdown",
   "source": [
    "## Create Your Art Gallery! 🖼️🎨\n",
    "\n",
    "Congratulations, young artists and coders! You've learned how to command your turtle to draw squares, colorful polygons, stars, and even mesmerizing spirals! But, can we create a whole picture with all these elements? Of course, we can! It's time for you to create your very own art gallery on the turtle canvas. 🌟\n",
    "\n",
    "### Imagine This:\n",
    "What if your canvas is a night sky, and you can place stars, moons (circles?), and even flying saucers (spirals?) wherever you want? Or perhaps it's a garden with flowers (colorful polygons?) and trees (triangles for conifers)? You're the artist here, so you decide!\n",
    "\n",
    "### Your Task:\n",
    "1. Use the `penup()` and `goto(x, y)` functions to move your turtle around the canvas without drawing anything.\n",
    "2. Decide where you want to place a shape (like a star, a spiral, or a polygon) and use `pendown()` to start drawing there.\n",
    "3. Combine different shapes and colors to create a beautiful picture. Don't forget, you can use all the functions you've written so far!\n",
    "\n",
    "**🌟 BONUS CHALLENGE 🌟**: Can you create a function that draws a whole picture? This function could call the other functions (like `draw_star`, `draw_spiral`, etc.) and use `penup()`, `pendown()`, and `goto(x, y)` to create a complex scene!\n",
    "\n",
    "Ready to become a turtle-art maestro? Grab your turtle and start creating! And don't forget to share your artwork with everyone. 🐢🎨✨\n"
   ],
   "metadata": {
    "id": "NJo2qSm7TZbx"
   }
  },
  {
   "cell_type": "code",
   "source": [
    "def draw_scene():\n",
    "    # Start the \"canvas\" over and set it to white\n",
    "    initializeTurtle(initial_speed=10)\n",
    "    bgcolor(\"white\")\n",
    "\n",
    "    # Draw a star in the top-left corner of the canvas\n",
    "    penup()\n",
    "    goto(250, 250)  # Position depends on the size of your canvas\n",
    "    pendown()\n",
    "    pencolor(\"gold\")\n",
    "    draw_star(100)  # Assuming you have a 'draw_star' function defined\n",
    "\n",
    "    # Draw a triangle (polygon with 3 sides) in the bottom-right corner of the canvas\n",
    "    penup()\n",
    "    goto(400, 400)  # Position depends on the size of your canvas\n",
    "    pendown()\n",
    "    draw_polygon_with_colors(3, 50, [\"red\", \"blue\", \"green\"])  # Assuming you have a 'draw_polygon_with_colors' function defined\n",
    "\n",
    "# Draw the scene\n",
    "draw_scene()"
   ],
   "metadata": {
    "id": "_ZrMEaFBUQ59"
   },
   "execution_count": null,
   "outputs": []
  },
  {
   "cell_type": "code",
   "source": [],
   "metadata": {
    "id": "4jDy7SrAUU_G"
   },
   "execution_count": null,
   "outputs": []
  }
 ]
}
