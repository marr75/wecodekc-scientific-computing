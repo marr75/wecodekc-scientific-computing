{
 "nbformat": 4,
 "nbformat_minor": 0,
 "metadata": {
  "colab": {
   "provenance": [],
   "gpuType": "T4"
  },
  "kernelspec": {
   "name": "python3",
   "display_name": "Python 3"
  },
  "language_info": {
   "name": "python"
  },
  "accelerator": "GPU"
 },
 "cells": [
  {
   "cell_type": "markdown",
   "source": [
    "# MusicGen Gradio Demo\n",
    "\n",
    "Just run the next cell, wait for the link to appear (the one after `Running on public URL:`) and click to play with the demo.\n",
    "\n",
    "**WARNING:** Do NOT restart when asked to do so (e.g. \"You must restart the runtime in order to use newly installed versions.\"), **just ignore this :)**\n",
    "\n",
    "First run a model will be slower because of the model download. Melody model should take 30 seconds for 15 seconds of audio.\n",
    "\n",
    "This gradio app lets you upload music to generate a new song with the melody from the uploaded track. Check https://pixabay.com/music/ for royalty and copyright free music you can download."
   ],
   "metadata": {
    "id": "efhHAvBOgMnL"
   }
  },
  {
   "cell_type": "code",
   "source": [
    "%cd /content\n",
    "!git clone https://github.com/facebookresearch/audiocraft\n",
    "%cd /content/audiocraft\n",
    "!pip install -r requirements.txt --quiet\n",
    "# Click on the gradio link that appears.\n",
    "!python app.py --share"
   ],
   "metadata": {
    "id": "ku0ui5lKwpF7",
    "outputId": "c2e9444a-6da3-4205-f3a2-745877a53dc1",
    "colab": {
     "base_uri": "https://localhost:8080/",
     "height": 1000
    }
   },
   "execution_count": null,
   "outputs": []
  }
 ]
}
