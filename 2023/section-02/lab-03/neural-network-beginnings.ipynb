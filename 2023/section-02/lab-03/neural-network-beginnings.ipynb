{
 "cells": [
  {
   "cell_type": "code",
   "execution_count": null,
   "metadata": {
    "collapsed": true
   },
   "outputs": [],
   "source": [
    "import numpy\n",
    "import pytorch_lightning\n",
    "import torch\n",
    "import torch.nn as nn\n",
    "import torch.nn.functional as F\n",
    "from sklearn.model_selection import train_test_split\n",
    "from torch.utils.data import DataLoader, TensorDataset"
   ]
  },
  {
   "cell_type": "code",
   "execution_count": null,
   "outputs": [],
   "source": [
    "class Perceptron(pytorch_lightning.LightningModule):\n",
    "    def __init__(self):\n",
    "        super().__init__()\n",
    "        # Define the single linear layer (4 input features, 1 output)\n",
    "        self.layer = nn.Linear(4, 1)\n",
    "\n",
    "    def forward(self, x):\n",
    "        # Pass the input through the linear layer\n",
    "        # then through the sigmoid activation function\n",
    "        return torch.relu(self.layer(x))\n",
    "\n",
    "    def training_step(self, batch, batch_idx):\n",
    "        x, y = batch\n",
    "        y_hat = self(x)\n",
    "        loss = F.binary_cross_entropy(y_hat, y.view(-1, 1).float())\n",
    "        self.log(\"train_loss\", loss)  # Logging the loss\n",
    "        return loss\n",
    "\n",
    "    def configure_optimizers(self):\n",
    "        # We will use the Adam optimizer\n",
    "        return torch.optim.Adam(self.parameters(), lr=0.001)"
   ],
   "metadata": {
    "collapsed": false
   }
  },
  {
   "cell_type": "code",
   "execution_count": null,
   "outputs": [],
   "source": [
    "# Generate synthetic data for the example\n",
    "numpy.random.seed(42)\n",
    "N = 1000\n",
    "temp = numpy.random.uniform(0, 100, N)\n",
    "rain = numpy.random.randint(0, 2, N)\n",
    "ride = numpy.random.randint(0, 2, N)\n",
    "friends = numpy.random.randint(0, 2, N)\n",
    "X = numpy.vstack([temp, rain, ride, friends]).T\n",
    "# Assume that the individual will go to the zoo if there is a ride and friends are going\n",
    "Y = (ride & friends).astype(numpy.float32)\n",
    "\n",
    "# Split the data into training and validation sets\n",
    "X_train, X_val, Y_train, Y_val = train_test_split(X, Y, test_size=0.2, random_state=42)"
   ],
   "metadata": {
    "collapsed": false
   }
  },
  {
   "cell_type": "code",
   "execution_count": null,
   "outputs": [],
   "source": [
    "# Create TensorDatasets and DataLoaders\n",
    "train_data = TensorDataset(\n",
    "    torch.tensor(X_train, dtype=torch.float32),\n",
    "    torch.tensor(Y_train, dtype=torch.float32),\n",
    ")\n",
    "val_data = TensorDataset(\n",
    "    torch.tensor(X_val, dtype=torch.float32), torch.tensor(Y_val, dtype=torch.float32)\n",
    ")\n",
    "train_loader = DataLoader(train_data, batch_size=32, num_workers=4)\n",
    "val_loader = DataLoader(val_data, batch_size=32, num_workers=4)"
   ],
   "metadata": {
    "collapsed": false
   }
  },
  {
   "cell_type": "code",
   "execution_count": null,
   "outputs": [],
   "source": [
    "# Start TensorBoard.\n",
    "%load_ext tensorboard\n",
    "%tensorboard --logdir lightning_logs/"
   ],
   "metadata": {
    "collapsed": false
   }
  },
  {
   "cell_type": "code",
   "execution_count": null,
   "outputs": [],
   "source": [
    "# Train the model\n",
    "model = Perceptron()\n",
    "trainer = pytorch_lightning.Trainer(max_epochs=50, log_every_n_steps=3)\n",
    "trainer.fit(model, train_loader)"
   ],
   "metadata": {
    "collapsed": false,
    "is_executing": true
   }
  },
  {
   "cell_type": "code",
   "execution_count": null,
   "outputs": [],
   "source": [
    "# Generate some new data to test\n",
    "test_temp = numpy.array([75, 85, 60, 90, 72])\n",
    "test_rain = numpy.array([0, 1, 0, 1, 0])\n",
    "test_ride = numpy.array([1, 0, 1, 0, 1])\n",
    "test_friends = numpy.array([1, 1, 0, 0, 1])\n",
    "X_test = numpy.vstack([test_temp, test_rain, test_ride, test_friends]).T\n",
    "\n",
    "# Convert to a PyTorch tensor\n",
    "X_test_tensor = torch.tensor(X_test, dtype=torch.float32)\n",
    "\n",
    "# Make predictions\n",
    "with torch.no_grad():\n",
    "    predictions = model(X_test_tensor)\n",
    "\n",
    "# Print predictions\n",
    "for i, pred in enumerate(predictions):\n",
    "    print(\n",
    "        f\"Conditions: {X_test[i]} | Probability of going to the zoo: {pred.item():.4f}\"\n",
    "    )"
   ],
   "metadata": {
    "collapsed": false
   }
  },
  {
   "cell_type": "code",
   "execution_count": null,
   "outputs": [],
   "source": [],
   "metadata": {
    "collapsed": false
   }
  }
 ],
 "metadata": {
  "kernelspec": {
   "display_name": "Python 3",
   "language": "python",
   "name": "python3"
  },
  "language_info": {
   "codemirror_mode": {
    "name": "ipython",
    "version": 2
   },
   "file_extension": ".py",
   "mimetype": "text/x-python",
   "name": "python",
   "nbconvert_exporter": "python",
   "pygments_lexer": "ipython2",
   "version": "2.7.6"
  }
 },
 "nbformat": 4,
 "nbformat_minor": 0
}
