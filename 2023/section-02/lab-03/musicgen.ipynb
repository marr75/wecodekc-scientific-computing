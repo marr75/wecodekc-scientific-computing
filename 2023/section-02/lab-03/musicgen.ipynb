{
 "nbformat": 4,
 "nbformat_minor": 0,
 "metadata": {
  "colab": {
   "provenance": [],
   "gpuType": "T4"
  },
  "kernelspec": {
   "name": "python3",
   "display_name": "Python 3"
  },
  "language_info": {
   "name": "python"
  },
  "accelerator": "GPU"
 },
 "cells": [
  {
   "cell_type": "markdown",
   "source": [
    "# Audiocraft/MusicGen\n",
    "Audiocraft is a library for audio processing and music generation. It is built on top of PyTorch and torchaudio.\n",
    "MusicGen is the first model in the Audiocraft library. It is a music generation model that can generate music from a text description.\n",
    "\n",
    "## Installation\n",
    "Let's start by installing audiocraft and its dependencies.\n",
    "Remember that `!` is a special command in Jupyter notebooks that allows you to run shell commands.\n",
    "`pip install` will install any libraries we list after it.\n",
    "`-U` means upgrade, so we will upgrade any libraries that are already installed but might benefit from a newer version."
   ],
   "metadata": {
    "collapsed": false
   }
  },
  {
   "cell_type": "code",
   "source": [
    "!pip install -U audiocraft"
   ],
   "metadata": {
    "id": "ku0ui5lKwpF7",
    "outputId": "4d5b3acf-2564-46c6-f475-541df63385cb",
    "colab": {
     "base_uri": "https://localhost:8080/"
    }
   },
   "execution_count": null,
   "outputs": []
  },
  {
   "cell_type": "markdown",
   "source": [
    "## Getting ready\n",
    "Now that we have installed Audiocraft, let's import it and check that it is working."
   ],
   "metadata": {
    "collapsed": false
   }
  },
  {
   "cell_type": "code",
   "source": [
    "from audiocraft.models import musicgen\n",
    "from audiocraft.utils.notebook import display_audio\n",
    "\n",
    "display(audiocraft.__version__)"
   ],
   "metadata": {
    "id": "YVgeUMjoZaJH"
   },
   "execution_count": null,
   "outputs": []
  },
  {
   "cell_type": "markdown",
   "source": [
    "## Initializing the model\n",
    "The interface to MusicGen is VERY simple. Like many transformer models, pretrained versions are available on huggingface (a website for sharing AI models) and can be loaded with a single line of code."
   ],
   "metadata": {
    "collapsed": false
   }
  },
  {
   "cell_type": "code",
   "source": [
    "model = musicgen.MusicGen.get_pretrained('medium', device='cuda')"
   ],
   "metadata": {
    "id": "yc_FYhbWZufi"
   },
   "execution_count": null,
   "outputs": []
  },
  {
   "cell_type": "markdown",
   "source": [
    "## Generating music\n",
    "Now that we have a model, let's generate some music!\n",
    "\n",
    "In the first line, we're setting an 8-second duration for the generated music (that way we won't have to wait long).\n",
    "Then we're generating music from a list of text descriptions by passing them to `model.generate()`.\n",
    "Remember, in path we wrap text in quotes `\"` and lists in square brackets `[]`. We separate the items in lists with commas `,`.\n",
    "\n",
    "Finally, we'll call `display_audio`, a convenient function provided by audiocraft, to listen to the generated music."
   ],
   "metadata": {
    "collapsed": false
   }
  },
  {
   "cell_type": "code",
   "source": [
    "model.set_generation_params(duration=8)\n",
    "results = model.generate(\n",
    "    [\n",
    "        'crazy EDM, heavy bang',\n",
    "        'classic reggae track with an electronic guitar solo',\n",
    "        'lofi slow bpm electro chill with organic samples',\n",
    "        'rock with saturated guitars, a heavy bass line and crazy drum break and fills.',\n",
    "        'earthy tones, environmentally conscious, ukulele-infused, harmonic, breezy, easygoing, organic instrumentation, gentle grooves',\n",
    "    ],\n",
    "    progress=True,\n",
    ")\n",
    "display_audio(results, 32000)"
   ],
   "metadata": {
    "id": "32g-tH7IZz5N",
    "outputId": "5b26a835-dd69-4683-a862-57552df61d5b",
    "colab": {
     "base_uri": "https://localhost:8080/",
     "height": 236
    }
   },
   "execution_count": null,
   "outputs": []
  },
  {
   "cell_type": "markdown",
   "source": [
    "## Now it's your turn!\n",
    "Try generating some music from your own text description. Let's make this one a little longer, say 30 seconds.\n",
    "\n",
    "Replace `SET_THE_DURATION_HERE` with an integer representing the number of seconds you want the generated music to be. Make it generate 30 seconds of music.\n",
    "\n",
    "Replace `SET_THE_DESCRIPTION_HERE` with a text description of the music you want to generate. How about something you could relax or study to."
   ],
   "metadata": {
    "collapsed": false
   }
  },
  {
   "cell_type": "code",
   "source": [
    "model.set_generation_params(duration=SET_THE_DURATION_HERE)\n",
    "results = model.generate(\n",
    "    [\n",
    "        \"SET_THE_DESCRIPTION_HERE\",\n",
    "    ],\n",
    "    progress=True,\n",
    ")\n",
    "display_audio(results, 32000)"
   ],
   "metadata": {
    "id": "LMEhDDBWo-BS"
   },
   "execution_count": null,
   "outputs": []
  },
  {
   "cell_type": "markdown",
   "source": [
    "## Keep going\n",
    "\n",
    "Let's try generating some music from a list of text descriptions. This time, we'll generate 10 seconds of music for each description.\n",
    "\n",
    "Replace `_____` with the correct function name to generate music from a list of text descriptions.\n",
    "\n",
    "Replace `DEFINE_YOUR_OWN_LIST_OF_TEXT_DESCRIPTIONS_HERE` with a list of text descriptions of the music you want to generate. How about music for different social occasions. A birthday, a party, hanging out with friends on the weekend, etc."
   ],
   "metadata": {
    "collapsed": false
   }
  },
  {
   "cell_type": "code",
   "source": [
    "model.set_generation_params(duration=10)\n",
    "text_descriptions = DEFINE_YOUR_OWN_LIST_OF_TEXT_DESCRIPTIONS_HERE\n",
    "results = model._____(text_descriptions, progress=True)\n",
    "display_audio(results, 32000)"
   ],
   "metadata": {
    "id": "rojR90c5xFMY"
   },
   "execution_count": null,
   "outputs": []
  },
  {
   "cell_type": "markdown",
   "source": [
    "## Make your masterpiece\n",
    "\n",
    "Now that you've got the hang of it, let's generate a full song. We'll generate 3 minutes of music from a single text description. Go ahead and write a long description that describes the music you want to generate. Look back at the first time we generated music or talk to your labmates for inspiration.\n",
    "\n",
    "Only comments are in the next cell, use what you've learned (and copy pasting if you'd like) to generate your own music."
   ],
   "metadata": {
    "collapsed": false
   }
  },
  {
   "cell_type": "code",
   "execution_count": null,
   "outputs": [],
   "source": [
    "# Set the duration to 3 minutes\n",
    "\n",
    "# Describe the music you want to generate (put it in a string in a list)\n",
    "\n",
    "# Call the generate function and store the results in a variable\n",
    "\n",
    "# Display the results with display_audio (don't forget to pass the sample rate)\n"
   ],
   "metadata": {
    "collapsed": false
   }
  },
  {
   "cell_type": "markdown",
   "source": [
    "## More to try\n",
    "\n",
    "The next notebook will host the MusicGen model in a lightweight web app. You'll be able to generate music from your browser and share it with your friends. You can also upload sample tracks to the app and the generated music will incorporate the style of the sample tracks along with your text description."
   ],
   "metadata": {
    "collapsed": false
   }
  },
  {
   "cell_type": "code",
   "execution_count": null,
   "outputs": [],
   "source": [],
   "metadata": {
    "collapsed": false
   }
  }
 ]
}
