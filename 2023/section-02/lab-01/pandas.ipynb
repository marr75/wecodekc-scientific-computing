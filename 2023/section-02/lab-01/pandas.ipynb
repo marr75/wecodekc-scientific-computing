{
 "cells": [
  {
   "cell_type": "markdown",
   "source": [
    "# Introduction to pandas\n",
    "Today, we'll be diving into an important part of scientific computing with Python - the pandas library.\n",
    "\n",
    "pandas (derived from \"panel data\", an econometrics term for data sets that include observations over multiple time periods for the same individuals) is a powerful, open source data manipulation library for Python. It provides data structures and functions needed to manipulate structured data, and is one of the most essential tools in the data scientist's toolbox.\n",
    "\n",
    "## Why use pandas?\n",
    "\n",
    "1. **Handling data**: pandas provides robust tools for reading and writing data in a multitude of formats including CSV, Excel, SQL databases, and more.\n",
    "\n",
    "2. **Data manipulation**: pandas makes it easy to filter, select, and transform data. It also allows for merging and reshaping datasets in a straightforward manner.\n",
    "\n",
    "3. **Data analysis**: pandas provides easy-to-use data structures and data manipulation functions along with capabilities for descriptive statistics, aggregation, handling missing data, and more.\n",
    "\n",
    "4. **Compatibility**: pandas is built on top of Python and is integrated well with other libraries in the scientific Python ecosystem like NumPy, Matplotlib, and scikit-learn.\n",
    "\n",
    "In this lesson, we'll explore the power of pandas using a dataset of rocket engines. We'll be using a `DataFrame` object in pandas, which is a two-dimensional tabular, column-oriented data structure with both row and column labels. If you've ever worked with data in Excel or SQL, you can think of a `DataFrame` as being similar to a spreadsheet or a SQL table.\n",
    "\n",
    "Our goal is to get you comfortable with using pandas to load, manipulate, and analyze data. By the end of this lesson, you'll have the foundational knowledge you need to start using pandas in your own scientific computing projects."
   ],
   "metadata": {
    "collapsed": false
   }
  },
  {
   "cell_type": "code",
   "execution_count": null,
   "outputs": [],
   "source": [
    "import pandas"
   ],
   "metadata": {
    "collapsed": false
   }
  },
  {
   "cell_type": "code",
   "execution_count": null,
   "outputs": [],
   "source": [
    "# Create a dictionary representing the data\n",
    "data = {\n",
    "    \"Rocket Engine\": [\n",
    "        \"F-1\",\n",
    "        \"J-2\",\n",
    "        \"SSME (RS-25)\",\n",
    "        \"Merlin 1D\",\n",
    "        \"Raptor\",\n",
    "        \"RD-180\",\n",
    "        \"RD-191\",\n",
    "        \"YF-100\",\n",
    "        \"LE-7A\",\n",
    "        \"Vikas\",\n",
    "        \"Vulcain 2\",\n",
    "    ],\n",
    "    \"Used in Mission\": [\n",
    "        \"Saturn V\",\n",
    "        \"Saturn V\",\n",
    "        \"Space Shuttle\",\n",
    "        \"Falcon 9\",\n",
    "        \"Starship\",\n",
    "        \"Atlas V\",\n",
    "        \"Angara\",\n",
    "        \"Long March 5, 6, 7\",\n",
    "        \"H-II\",\n",
    "        \"PSLV, GSLV\",\n",
    "        \"Ariane 5\",\n",
    "    ],\n",
    "    \"Country\": [\n",
    "        \"USA\",\n",
    "        \"USA\",\n",
    "        \"USA\",\n",
    "        \"USA\",\n",
    "        \"USA\",\n",
    "        \"Russia\",\n",
    "        \"Russia\",\n",
    "        \"China\",\n",
    "        \"Japan\",\n",
    "        \"India\",\n",
    "        \"Europe\",\n",
    "    ],\n",
    "    \"Manufacturer\": [\n",
    "        \"Rocketdyne\",\n",
    "        \"Rocketdyne\",\n",
    "        \"Rocketdyne\",\n",
    "        \"SpaceX\",\n",
    "        \"SpaceX\",\n",
    "        \"NPO Energomash\",\n",
    "        \"NPO Energomash\",\n",
    "        \"Academy of Aerospace Liquid Propulsion Technology\",\n",
    "        \"Mitsubishi Heavy Industries\",\n",
    "        \"ISRO\",\n",
    "        \"ArianeGroup\",\n",
    "    ],\n",
    "    \"Type\": [\n",
    "        \"Liquid\",\n",
    "        \"Liquid\",\n",
    "        \"Liquid\",\n",
    "        \"Liquid\",\n",
    "        \"Liquid\",\n",
    "        \"Liquid\",\n",
    "        \"Liquid\",\n",
    "        \"Liquid\",\n",
    "        \"Liquid\",\n",
    "        \"Liquid\",\n",
    "        \"Liquid\",\n",
    "    ],\n",
    "    \"Thrust (kN)\": [6770, 1033, 1860, 914, 2200, 4152, 1923, 1200, 1098, 799.43, 1350],\n",
    "    \"Specific Impulse (s)\": [\n",
    "        \"263 (Sea Level), 304 (Vacuum)\",\n",
    "        \"421 (Vacuum)\",\n",
    "        \"366 (Sea Level), 452 (Vacuum)\",\n",
    "        \"311 (Sea Level), 348 (Vacuum)\",\n",
    "        \"330 (Sea Level), 380 (Vacuum)\",\n",
    "        \"311 (Sea Level), 338 (Vacuum)\",\n",
    "        \"311 (Sea Level), 337.5 (Vacuum)\",\n",
    "        \"300 (Sea Level), 335 (Vacuum)\",\n",
    "        \"440 (Vacuum)\",\n",
    "        \"293 (Sea Level)\",\n",
    "        \"431 (Vacuum)\",\n",
    "    ],\n",
    "    \"Fuel\": [\n",
    "        \"RP-1/LOX\",\n",
    "        \"LH2/LOX\",\n",
    "        \"LH2/LOX\",\n",
    "        \"RP-1/LOX\",\n",
    "        \"CH4/LOX\",\n",
    "        \"RP-1/LOX\",\n",
    "        \"RP-1/LOX\",\n",
    "        \"RP-1/LOX\",\n",
    "        \"LH2/LOX\",\n",
    "        \"UH25/N2O4\",\n",
    "        \"LH2/LOX\",\n",
    "    ],\n",
    "}\n",
    "\n",
    "# Create a DataFrame\n",
    "rocket_df = pandas.DataFrame(data)\n",
    "\n",
    "# Print the DataFrame\n",
    "display(rocket_df)"
   ],
   "metadata": {
    "collapsed": false
   }
  },
  {
   "cell_type": "code",
   "execution_count": null,
   "outputs": [],
   "source": [
    "# Summarize the dataframe with .describe and .info\n",
    "display(\n",
    "    rocket_df.info(),\n",
    "    rocket_df.describe(),\n",
    ")"
   ],
   "metadata": {
    "collapsed": false
   }
  },
  {
   "cell_type": "code",
   "execution_count": null,
   "outputs": [],
   "source": [
    "# Select the 'Rocket Engine' column\n",
    "rocket_df[\"Rocket Engine\"]"
   ],
   "metadata": {
    "collapsed": false
   }
  },
  {
   "cell_type": "code",
   "execution_count": null,
   "outputs": [],
   "source": [
    "# Select the row with index 3\n",
    "rocket_df.loc[3]"
   ],
   "metadata": {
    "collapsed": false
   }
  },
  {
   "cell_type": "code",
   "execution_count": null,
   "outputs": [],
   "source": [
    "# Convert 'Thrust (kN)' to 'Thrust (N)' by multiplying by 1000\n",
    "rocket_df[\"Thrust (N)\"] = rocket_df[\"Thrust (kN)\"].apply(lambda x: x * 1000)"
   ],
   "metadata": {
    "collapsed": false
   }
  },
  {
   "cell_type": "code",
   "execution_count": null,
   "outputs": [],
   "source": [
    "# Split 'Specific Impulse (s)' into two separate columns for 'Specific Impulse Sea Level (s)' and 'Specific Impulse Vacuum (s)'\n",
    "rocket_df[\n",
    "    [\"Specific Impulse Sea Level (s)\", \"Specific Impulse Vacuum (s)\"]\n",
    "] = rocket_df[\"Specific Impulse (s)\"].str.split(\",\", expand=True)\n",
    "# Remove the descriptor from each new column and convert to float\n",
    "rocket_df[\"Specific Impulse Sea Level (s)\"] = (\n",
    "    rocket_df[\"Specific Impulse Sea Level (s)\"]\n",
    "    .str.extract(\"(\\d+)\", expand=False)\n",
    "    .astype(\"float\")\n",
    ")\n",
    "rocket_df[\"Specific Impulse Vacuum (s)\"] = (\n",
    "    rocket_df[\"Specific Impulse Vacuum (s)\"]\n",
    "    .str.extract(\"(\\d+)\", expand=False)\n",
    "    .astype(\"float\")\n",
    ")\n",
    "# Drop the original 'Specific Impulse (s)' column\n",
    "rocket_df = rocket_df.drop(columns=[\"Specific Impulse (s)\"])"
   ],
   "metadata": {
    "collapsed": false
   }
  },
  {
   "cell_type": "markdown",
   "source": [
    "## Applying Functions to DataFrames with Right Triangle Examples\n",
    "\n",
    "Now, we are going to see how to apply a function to a DataFrame. Applying functions can be extremely useful for carrying out complex calculations on datasets. We are going to demonstrate this using the example of a right triangle.\n",
    "\n",
    "As we know, in a right triangle, the square of the length of the hypotenuse (side `c`) is equal to the sum of the squares of the other two sides (sides `a` and `b`). This is known as the Pythagorean theorem and can be written as c² = a² + b².\n",
    "\n",
    "In this exercise, we have a dataset of right triangles with the lengths of sides `a` and `b`. We will create a function to calculate the length of side `c` (the hypotenuse) and then use the `apply` function in pandas to apply this calculation to our DataFrame.\n",
    "\n",
    "This will give us a practical example of how you can use pandas to easily apply complex mathematical formulas to large datasets."
   ],
   "metadata": {
    "collapsed": false
   }
  },
  {
   "cell_type": "code",
   "execution_count": null,
   "outputs": [],
   "source": [
    "# Prepare data for right triangles\n",
    "triangle_data = {\n",
    "    \"Triangle\": [\"Triangle 1\", \"Triangle 2\", \"Triangle 3\", \"Triangle 4\", \"Triangle 5\"],\n",
    "    \"a\": [3, 5, 9, 12, 7],\n",
    "    \"b\": [4, 12, 40, 5, 24],\n",
    "}\n",
    "\n",
    "# Convert the dictionary into DataFrame\n",
    "df_triangles = pandas.DataFrame(triangle_data)"
   ],
   "metadata": {
    "collapsed": false
   }
  },
  {
   "cell_type": "markdown",
   "source": [
    "## Exercise\n",
    "In the cell below, correct the code to calculate the length of side `c` (the hypotenuse) and then use the `apply` function in pandas to apply this calculation to our DataFrame.\n",
    "\n",
    "```python\n",
    "def ____(____):\n",
    "    return ____\n",
    "\n",
    "df_triangles['c'] = df_triangles._____(____, axis=__)\n",
    "```"
   ],
   "metadata": {
    "collapsed": false
   }
  },
  {
   "cell_type": "code",
   "execution_count": null,
   "outputs": [],
   "source": [
    "# Define a function to calculate the length of side c (the hypotenuse)\n",
    "def ____(____):\n",
    "    return ____\n",
    "\n",
    "\n",
    "df_triangles[\"c\"] = df_triangles._____(____, axis=__)"
   ],
   "metadata": {
    "collapsed": false
   }
  },
  {
   "cell_type": "code",
   "execution_count": null,
   "outputs": [],
   "source": [],
   "metadata": {
    "collapsed": false
   }
  }
 ],
 "metadata": {
  "kernelspec": {
   "display_name": "Python 3",
   "language": "python",
   "name": "python3"
  },
  "language_info": {
   "codemirror_mode": {
    "name": "ipython",
    "version": 2
   },
   "file_extension": ".py",
   "mimetype": "text/x-python",
   "name": "python",
   "nbconvert_exporter": "python",
   "pygments_lexer": "ipython2",
   "version": "2.7.6"
  }
 },
 "nbformat": 4,
 "nbformat_minor": 0
}
