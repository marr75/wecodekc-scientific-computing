{
 "cells": [
  {
   "cell_type": "code",
   "execution_count": null,
   "metadata": {
    "collapsed": true
   },
   "outputs": [],
   "source": [
    "!pip install autoviz > /dev/null"
   ]
  },
  {
   "cell_type": "code",
   "execution_count": null,
   "outputs": [],
   "source": [
    "import pandas\n",
    "from autoviz.AutoViz_Class import AutoViz_Class\n",
    "\n",
    "%matplotlib inline\n",
    "# create a class\n",
    "AV = AutoViz_Class()"
   ],
   "metadata": {
    "collapsed": false
   }
  },
  {
   "cell_type": "code",
   "execution_count": null,
   "outputs": [],
   "source": [
    "names = [\n",
    "    \"best-selling-playstation4-games\",\n",
    "    \"netflix-content\",\n",
    "    \"student-skillsets\",\n",
    "    \"world-happiness\",\n",
    "    \"world-population\",\n",
    "]\n",
    "urls = [\n",
    "    f\"https://raw.githubusercontent.com/marr75/wecodekc-scientific-computing/main/2023/section-02/lab-01/data/{name}.csv\"\n",
    "    for name in names\n",
    "]\n",
    "my_data = pandas.read_csv(urls[___])"
   ],
   "metadata": {
    "collapsed": false
   }
  },
  {
   "cell_type": "code",
   "execution_count": 1,
   "outputs": [],
   "source": [
    "# Perform any necessary data cleaning here"
   ],
   "metadata": {
    "collapsed": false,
    "ExecuteTime": {
     "end_time": "2023-07-01T13:19:28.487945500Z",
     "start_time": "2023-07-01T13:19:28.480461900Z"
    }
   }
  },
  {
   "cell_type": "code",
   "execution_count": null,
   "outputs": [],
   "source": [
    "# Visualize the data\n",
    "default_viz = AV.AutoViz(\n",
    "    filename=\"\",\n",
    "    dfte=my_data,\n",
    "    chart_format=\"matplotlib\",\n",
    ")"
   ],
   "metadata": {
    "collapsed": false
   }
  }
 ],
 "metadata": {
  "kernelspec": {
   "display_name": "Python 3",
   "language": "python",
   "name": "python3"
  },
  "language_info": {
   "codemirror_mode": {
    "name": "ipython",
    "version": 2
   },
   "file_extension": ".py",
   "mimetype": "text/x-python",
   "name": "python",
   "nbconvert_exporter": "python",
   "pygments_lexer": "ipython2",
   "version": "2.7.6"
  }
 },
 "nbformat": 4,
 "nbformat_minor": 0
}
