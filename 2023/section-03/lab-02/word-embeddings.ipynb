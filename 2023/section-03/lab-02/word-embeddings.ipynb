{
 "cells": [
  {
   "cell_type": "code",
   "execution_count": null,
   "id": "initial_id",
   "metadata": {
    "collapsed": true
   },
   "outputs": [],
   "source": [
    "!pip install -q condacolab\n",
    "import condacolab\n",
    "condacolab.install() # expect a kernel restart"
   ]
  },
  {
   "cell_type": "code",
   "execution_count": null,
   "outputs": [],
   "source": [
    "!mamba install sentence-transformers faiss wikipedia pandas -yq"
   ],
   "metadata": {
    "collapsed": false
   },
   "id": "4112102b71339160"
  },
  {
   "cell_type": "code",
   "execution_count": null,
   "outputs": [],
   "source": [
    "import wikipedia\n",
    "import sentence_transformers\n",
    "import faiss\n",
    "import numpy"
   ],
   "metadata": {
    "collapsed": false
   },
   "id": "d7f81068be2c970d"
  },
  {
   "cell_type": "code",
   "execution_count": null,
   "outputs": [],
   "source": [
    "topics = ['Earth', 'Computer Science', 'Artificial Intelligence', 'Python (programming language)', 'Leonardo da Vinci', 'Eiffel Tower', 'Global Warming']\n",
    "def create_index(topics):\n",
    "    # Step 1: Fetch articles\n",
    "    articles = {topic: wikipedia.page(topic).content for topic in topics}\n",
    "\n",
    "    # Step 2: Preprocess text\n",
    "    # (assuming simple preprocessing for demonstration)\n",
    "    processed_articles = {title: content.replace('\\n', ' ') for title, content in articles.items()}\n",
    "\n",
    "    # Step 3: Generate embeddings\n",
    "    model = sentence_transformers.SentenceTransformer('BAAI/bge-base-en-v1.5')  # Example transformer model\n",
    "    article_embeddings = {title: model.encode(content) for title, content in processed_articles.items()}\n",
    "\n",
    "    # Step 4: Indexing with FAISS\n",
    "    dimension = article_embeddings[next(iter(article_embeddings))].shape[0]  # Get the size of the embeddings\n",
    "    index = faiss.IndexFlatL2(dimension)  # Use the L2 norm for the index\n",
    "\n",
    "    # You need to convert the embeddings dictionary to a list of embeddings\n",
    "    embeddings_matrix = numpy.array([embedding for embedding in article_embeddings.values()])\n",
    "    index.add(embeddings_matrix)  # Add embeddings to the index\n",
    "\n",
    "    # return the results\n",
    "    return index"
   ],
   "metadata": {
    "collapsed": false
   },
   "id": "8a365f8a1de040ce"
  }
 ],
 "metadata": {
  "kernelspec": {
   "display_name": "Python 3",
   "language": "python",
   "name": "python3"
  },
  "language_info": {
   "codemirror_mode": {
    "name": "ipython",
    "version": 2
   },
   "file_extension": ".py",
   "mimetype": "text/x-python",
   "name": "python",
   "nbconvert_exporter": "python",
   "pygments_lexer": "ipython2",
   "version": "2.7.6"
  }
 },
 "nbformat": 4,
 "nbformat_minor": 5
}
