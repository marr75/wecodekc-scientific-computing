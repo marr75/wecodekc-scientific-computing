{
 "cells": [
  {
   "cell_type": "code",
   "execution_count": 1,
   "id": "0783f72a-a93e-46dc-b600-61509497d460",
   "metadata": {},
   "outputs": [],
   "source": [
    "import math"
   ]
  },
  {
   "cell_type": "code",
   "execution_count": 5,
   "id": "96de2624-4836-425f-be11-633c2cf4138f",
   "metadata": {},
   "outputs": [],
   "source": [
    "def get_radius(gravity, seconds):\n",
    "    return 9.8 * g * s**2 / (4 * math.pi**2)\n",
    "\n",
    "\n",
    "def get_gravity(radius, seconds):\n",
    "    return 4 * math.pi * math.pi * r / 9.8 / s**2\n",
    "\n",
    "\n",
    "def get_seconds(radius, gravity):\n",
    "    return 2 * math.pi / (9.8 * g / r) ** 0.5"
   ]
  },
  {
   "cell_type": "code",
   "execution_count": 8,
   "id": "21eb5572-cb91-4c46-8554-f9bf581fa96f",
   "metadata": {},
   "outputs": [],
   "source": [
    "r_of_gs = lambda g, s: 9.8 * g * s**2 / (4 * math.pi**2)\n",
    "g_of_rs = lambda r, s: 4 * math.pi * math.pi * r / 9.8 / s**2\n",
    "s_of_rg = lambda r, g: 2 * math.pi / (9.8 * g / r) ** 0.5"
   ]
  },
  {
   "cell_type": "code",
   "execution_count": 14,
   "id": "ef2b5314-12f7-4c2c-bfe3-751ae54f99a5",
   "metadata": {},
   "outputs": [
    {
     "data": {
      "text/plain": [
       "7.149222717803354"
      ]
     },
     "execution_count": 14,
     "metadata": {},
     "output_type": "execute_result"
    }
   ],
   "source": [
    "r_of_gs(0.2, 12)"
   ]
  },
  {
   "cell_type": "code",
   "execution_count": null,
   "id": "da5e739c-80cc-41d2-aa10-01ed26fcfc88",
   "metadata": {},
   "outputs": [],
   "source": []
  }
 ],
 "metadata": {
  "kernelspec": {
   "display_name": "Python 3 (ipykernel)",
   "language": "python",
   "name": "python3"
  },
  "language_info": {
   "codemirror_mode": {
    "name": "ipython",
    "version": 3
   },
   "file_extension": ".py",
   "mimetype": "text/x-python",
   "name": "python",
   "nbconvert_exporter": "python",
   "pygments_lexer": "ipython3",
   "version": "3.7.12"
  }
 },
 "nbformat": 4,
 "nbformat_minor": 5
}
