{
 "cells": [
  {
   "cell_type": "markdown",
   "id": "df4c8ff9-2758-43a0-becf-759b431d3f60",
   "metadata": {},
   "source": [
    "# Using Python to create and solve equations\n",
    "\n",
    "Part of python's popularity for scientific computing is how easy it is to enter, read, and solve math equations and the large number of libraries supporting math and science equations. We'll check these capabilities out today!\n",
    "\n",
    "A number of operators are native to python but some useful constants and functions are in the `math` module of the standard library (the set of modules that comes with every python install)."
   ]
  },
  {
   "cell_type": "markdown",
   "id": "bdc8c6af-0be8-4c55-9e41-67531e795d12",
   "metadata": {},
   "source": [
    "## Basic operators\n",
    "There are 7 basic python math operators\n",
    "- add\n",
    "- subtract\n",
    "- multiply\n",
    "- divide\n",
    "- power\n",
    "- floor division\n",
    "- and modulus"
   ]
  },
  {
   "cell_type": "code",
   "execution_count": null,
   "id": "e21a19c3-bc66-433d-b46d-bb6dcbec454e",
   "metadata": {},
   "outputs": [],
   "source": [
    "print(\n",
    "    f\"\"\"\n",
    "    2 + 2 = {2 + 2}\n",
    "    2 - 1 = {2 - 1}\n",
    "    3 * 3 = {3 * 3}\n",
    "    5 / 2 = {5 / 2}\n",
    "    4 ** 2 = {4 ** 2}\n",
    "    16 ** .5 = {16 ** .5}\n",
    "    16 // 5 = {16 // 5}\n",
    "    16 % 5 = {16 % 5}\n",
    "    \"\"\"\n",
    ")"
   ]
  },
  {
   "cell_type": "markdown",
   "id": "b665dcfe-048b-4a52-97f5-ea6f957e5128",
   "metadata": {},
   "source": [
    "## Let's take a second to explore those operators in the cells below"
   ]
  },
  {
   "cell_type": "code",
   "execution_count": null,
   "id": "42f91c4b-674d-40c3-8b73-8b5317b6a095",
   "metadata": {},
   "outputs": [],
   "source": []
  },
  {
   "cell_type": "markdown",
   "id": "de4baa16-6d90-40db-a9c3-0a86ce291807",
   "metadata": {},
   "source": [
    "## Comparison operators\n",
    "Python has 6 comparison operators.\n",
    "- \\==\n",
    "- \\!=\n",
    "- \\>\n",
    "- \\<\n",
    "- \\>=\n",
    "- \\<="
   ]
  },
  {
   "cell_type": "code",
   "execution_count": null,
   "id": "15e4d9e2-1480-45a9-b423-7120e328f013",
   "metadata": {},
   "outputs": [],
   "source": [
    "print(\n",
    "    f\"\"\"\n",
    "    6 == 6 = {6 == 6}\n",
    "    3 != 2 = {3 != 2}\n",
    "    8 > 7 = {8 > 7}\n",
    "    2 < 5 = {2 < 5}\n",
    "    8 >= 7 {8 >= 7}\n",
    "    2 <= 5 {2 <= 5}\n",
    "    \"\"\"\n",
    ")"
   ]
  },
  {
   "cell_type": "markdown",
   "id": "66cc372d-377b-4669-afc4-f5d9d6f6e07d",
   "metadata": {},
   "source": [
    "## There are also assignment, logical, and bitwise operators\n",
    "These are generally useful but not math specific so we'll cover them as they come up"
   ]
  },
  {
   "cell_type": "markdown",
   "id": "1cf30504-fae8-4362-8e61-54c686f947a0",
   "metadata": {},
   "source": [
    "## Let's look at the contents of the math library"
   ]
  },
  {
   "cell_type": "code",
   "execution_count": null,
   "id": "4fcae087-3676-43be-ac88-2f9ef0fb6741",
   "metadata": {},
   "outputs": [],
   "source": [
    "import math\n",
    "\n",
    "help(math)"
   ]
  },
  {
   "cell_type": "markdown",
   "id": "42fde7b0-5b6d-44f7-9b59-2d80ddf45d41",
   "metadata": {},
   "source": [
    "## There's a lot of geometry and trigonemetry functionality in there!\n",
    "There's also useful constants, functions for dealing with decimals and fractions, exponents, and logarithms\n",
    "\n",
    "Let's take a look at the constants in an equation!"
   ]
  },
  {
   "cell_type": "code",
   "execution_count": null,
   "id": "0c17ab1d-b8c9-4839-87b8-28ad4cab66d3",
   "metadata": {},
   "outputs": [],
   "source": [
    "# Physical qualities of a circle\n",
    "r = 3\n",
    "diameter = 2 * r\n",
    "circumference = 2 * math.pi * r\n",
    "area = math.pi * (r**2)\n",
    "\n",
    "print(\n",
    "    f\"\"\"\n",
    "    Circle with r={r}\n",
    "    Circumference = 2 * math.pi * r = {circumference}\n",
    "    Area = math.pi * (r ** 2) = {area}\n",
    "    \"\"\"\n",
    ")"
   ]
  },
  {
   "cell_type": "code",
   "execution_count": null,
   "id": "9ffc8337-cefe-41cc-ad89-4802d595139d",
   "metadata": {},
   "outputs": [],
   "source": []
  }
 ],
 "metadata": {
  "kernelspec": {
   "display_name": "Python 3 (ipykernel)",
   "language": "python",
   "name": "python3"
  },
  "language_info": {
   "codemirror_mode": {
    "name": "ipython",
    "version": 3
   },
   "file_extension": ".py",
   "mimetype": "text/x-python",
   "name": "python",
   "nbconvert_exporter": "python",
   "pygments_lexer": "ipython3",
   "version": "3.7.12"
  }
 },
 "nbformat": 4,
 "nbformat_minor": 5
}
