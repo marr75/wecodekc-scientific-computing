{
 "cells": [
  {
   "cell_type": "code",
   "execution_count": null,
   "id": "d96e552d-b892-4610-9571-ff67fb3c0903",
   "metadata": {},
   "outputs": [],
   "source": [
    "import pandas as pd\n",
    "from autoviz.AutoViz_Class import AutoViz_Class\n",
    "\n",
    "%matplotlib inline\n",
    "# create a class\n",
    "AV = AutoViz_Class()"
   ]
  },
  {
   "cell_type": "code",
   "execution_count": null,
   "id": "99becfc0-2047-4415-abd5-17cc108b9d51",
   "metadata": {},
   "outputs": [],
   "source": [
    "# load data and save it as csv\n",
    "car_designs = pd.read_csv(\n",
    "    \"car-designs.csv\",\n",
    ")\n",
    "display(\n",
    "    car_designs.head(3),\n",
    "    car_designs.describe(),\n",
    "    car_designs.info(),\n",
    ")"
   ]
  },
  {
   "cell_type": "code",
   "execution_count": null,
   "id": "087e4e24-ca30-472e-bdb9-ccf3bc8d6a8f",
   "metadata": {},
   "outputs": [],
   "source": [
    "car_designs[\"highway-mpg\"] = pd.to_numeric(\n",
    "    car_designs[\"highway-mpg\"], errors=\"coerce\"\n",
    ").astype(\"float64\")\n",
    "car_designs[\"horsepower\"] = pd.to_numeric(car_designs[\"horsepower\"], errors=\"coerce\")\n",
    "car_designs[\"peak-rpm\"] = pd.to_numeric(car_designs[\"peak-rpm\"], errors=\"coerce\")\n",
    "car_designs[\"price\"] = pd.to_numeric(car_designs[\"price\"], errors=\"coerce\")\n",
    "car_designs.info()"
   ]
  },
  {
   "cell_type": "code",
   "execution_count": null,
   "id": "b3445e34-bbf7-4571-a7d8-07a9cc255a70",
   "metadata": {},
   "outputs": [],
   "source": [
    "dft = AV.AutoViz(\n",
    "    filename=\"\",\n",
    "    dfte=car_designs,\n",
    "    chart_format=\"bokeh\",\n",
    ")"
   ]
  },
  {
   "cell_type": "code",
   "execution_count": null,
   "id": "04570bfd-3b77-44eb-9355-f1fb777ee90d",
   "metadata": {},
   "outputs": [],
   "source": [
    "dft = AV.AutoViz(\n",
    "    filename=\"\",\n",
    "    dfte=car_designs,\n",
    "    depVar=\"price\",\n",
    "    chart_format=\"bokeh\",\n",
    ")"
   ]
  },
  {
   "cell_type": "code",
   "execution_count": null,
   "id": "7e134ec8-6484-4f4a-9d0e-d556fb0b2c54",
   "metadata": {},
   "outputs": [],
   "source": []
  }
 ],
 "metadata": {
  "kernelspec": {
   "display_name": "Python 3 (ipykernel)",
   "language": "python",
   "name": "python3"
  },
  "language_info": {
   "codemirror_mode": {
    "name": "ipython",
    "version": 3
   },
   "file_extension": ".py",
   "mimetype": "text/x-python",
   "name": "python",
   "nbconvert_exporter": "python",
   "pygments_lexer": "ipython3",
   "version": "3.9.2"
  }
 },
 "nbformat": 4,
 "nbformat_minor": 5
}
