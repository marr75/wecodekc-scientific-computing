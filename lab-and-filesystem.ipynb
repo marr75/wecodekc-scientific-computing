{
 "cells": [
  {
   "cell_type": "markdown",
   "metadata": {},
   "source": [
    "# Lab Basics\n",
    "\n",
    "Let's start with the layout of the lab interface. As you read about each area of functionality, hover, left-click, right-click, and interact with that element to develop your experience and comfort with the interface.\n",
    "\n",
    "![Lab layout](images/lab-layout.png)"
   ]
  },
  {
   "cell_type": "markdown",
   "metadata": {},
   "source": [
    "A: URL - while the url bar is not - strictly speaking - a part of JupyterLab, it's noteworthy that JupyterLab is a web app and uses common web app concepts for greater accessibility/adoption and easier engineering/architectural decisions. URLs can be used to share links to specific notebooks/assets, save and retrieve workspaces (as exampled here), and change between different Jupyter interfaces (Lab vs the classic interface).\n",
    "\n",
    "B: Tabs (and Launcher) - JupyterLab provides a tabbed interface to notebooks and other assets it is serving. There are hotkeys for quickly navigating forward through tabs (`Ctrl + Shift + ]`), backward through tabs (`Ctrl + Shift + [`), and activating a previously used tab regardless of its order in the list (`Command + Shift + '`). It can be confusing to use a tabbed browser interface AND a tabbed JupyterLab interface. This confusion will improve with time but it can be helpful to operate a single JupyterLab tab in a browser window alone and use other windows for standard tabbed browsing. This points to another important element of JupyterLab work (and complex scripting/app development work in general), multiple monitor setups. More screen real estate allows you to see more at once and form a richer mental model of your workflow. You'll have less work to do to access the information you need and you'll have less context switching to do. I **strongly recommend** performing most of your workflows in a location you have an attached monitor, a separate keyboard, and a separate mouse. Your producitivity will be substantially compromised without. The launcher interface will appear whenever there are no tabs available or when you click the plus (+) sign in the Toolbar to the left. The launcher offers grouped options detailed below. Note that the launcher shows you what path any new notebook or other asset would be created at.\n",
    "\n",
    "C: New Notebooks Group - create a new, blank, untitled notebook with code cells that execute using the Kernel you select (here we have Python 3, Julia, NodeJS, and R)\n",
    "\n",
    "D: New Consoles Group - Similar to the New Notebooks Group with 3 key differences: nothing will be persisted once the console is terminated, there's no notebook functionality (i.e. Markdown cells, notebook hotkeys, editing old cells, etc.) because this is a purely IPython hosted (even for the other kernels) REPL without the notebook system running, and the execution prompt is at the bottom of the page and pushes older executed inputs and outputs toward the top. This functionality is good for testing snippets and small pieces of code, quickly executing bits of utility code, etc.\n",
    "\n",
    "E: Other - anything besides a notebook or console (including a shell terminal). \"Text File\" is a catch all for any blank file that JupyterLab doesn't have a richer relationship with. JSON, CSV, SQL, etc. will receive some special rendering and/or editing treatment but JupyterLab considers them all text formats.\n",
    "\n",
    "F: File Browser and Directory Listing - access to files and directories with some JupyterLab conveniences wrapped around them such as a green circle to indicate a notebook has an active kernel. You can open, rename, move, delete, download, get paths/links to a file/directory, copy, paste, and duplicate from this interface but none of these facilities is as powerful as the operating system or scripting interface and many of these functions won't be a part of efficient multi-file or large file workflows. This is some of the weakest functionality in JupyterLab compared to needs/expectations of the end user.\n",
    "\n",
    "G: Toolbar - icons to open a new launcher at the current directory, create a new folder in the current directory, upload to the current directory (which also supports drag and drop so I've never really used), and refresh the current directory (because the File Browser doesn't have a realtime view of the filesystem). Simple stuff. Your standard dropdown menus are just above the toolbar, we've gone over some of the most important functions as hotkeys and icon functionality but please familiarize yourself with the general content of these dropdowns, too. You'll use them more as you advance in using JupyterLab and take on more complex projects.\n",
    "\n",
    "H: Sidebar - tabs represented by icons for the file browser (folder), the process browser (stop or go symbol), the command palette (artist's palette), the notebook cell tools (wrench), and the tab manager (box in a box?)."
   ]
  },
  {
   "cell_type": "markdown",
   "metadata": {},
   "source": [
    "# Filesystem\n",
    "\n",
    "There's a lot more content we could go into about the filesystem than we'll ever have time for so we'll keep it to the shortcuts and basics. \n",
    "As mentioned above, JupyterLab's web interface is pretty weak at interacting with the filesystem but that's a minor inconvience given the powerful shell and scripting tools available to us.\n",
    "We'll start by looking at some useful shell commands (one we've already seen).\n",
    "Then we'll use a high level python module for working with the shell for system manipulations, it's called [shutil](https://docs.python.org/3/library/shutil.html) and it's fun to say.\n",
    "Finally, we'll talk about my favorite tools for interacting with the filesystem, the [path library](https://pathpy.readthedocs.io/en/stable/api.html)."
   ]
  },
  {
   "cell_type": "markdown",
   "metadata": {},
   "source": [
    "## Shell commands\n",
    "\n",
    "Creating a new cell below for each of the following tasks, use shell commands to:\n",
    "* List (`ls`) the contents of the current directory, use a long listing format, don't ignore hidden (pre-pended with . or ..) entries, and with human readable filesizes. See [explainshell on ls](https://explainshell.com/explain?cmd=ls) and [explainshell on specific arguments](https://explainshell.com/explain?cmd=ls+-lah)\n",
    "* Create a new directory (`mkdir`) titled `some-dir-name` in the current directory. See [explainshell on mkdir](https://explainshell.com/explain?cmd=mkdir+some-dir-name)\n",
    "* Search the file `delete-me/last-request.txt` for lines containing the string `\"sister\"` using `grep`. See [explainshell on grep](https://explainshell.com/explain?cmd=grep+%22sister%22+delete-me%2Flast-request.txt)\n",
    "* Delete (`rm`) the directory `delete-me` from the current directory, do so recursively, without prompting, and verbosely. See [explainshell on rm](https://explainshell.com/explain?cmd=rm+-rfv+delete-me)\n",
    "\n",
    "I've provided [\"explain shell\"](https://explainshell.com/explain) links for each example. Also remember that prefixing a command with the exclamation point (`!`) will execute it as a shell command (which is what you will need to do here)."
   ]
  },
  {
   "cell_type": "markdown",
   "metadata": {},
   "source": [
    "## `shutil`\n",
    "\n",
    "`shutil` is a python module that provides a high level interface to some common shell operations. The most useful ones in my experience are listed below\n",
    "\n",
    "* [make_archive](https://docs.python.org/3/library/shutil.html#shutil.make_archive) - make an archive (like a zip file or tarball)\n",
    "* [unpack_archive](https://docs.python.org/3/library/shutil.html#shutil.unpack_archive) - unpack an archive\n",
    "* [copytree](https://docs.python.org/3/library/shutil.html#shutil.copytree) - duplicate a directory structure in another location, obeys wildcard patterns and custom functions for ignoring files and directories\n",
    "* [rmtree](https://docs.python.org/3/library/shutil.html#shutil.rmtree) - recursively remove a directory structure, obeys wildcard patterns and custom functions for ignoring files and directories\n",
    "\n",
    "As stated earlier, JupyterLab's interface isn't great at bulk file operations but those 4 commands can help you prepare large numbers of files for download/transfer, unpack multiple files you've uploaded, copy multiple files with special patterns for including/excluding files and directories to copy, and delete multiple files with similar special patterns for including/excluding files and directories to delete.\n",
    "\n",
    "In the cell below, there's code importing `shutil` and showing documentation for `shutil.make_archive`.\n",
    "\n",
    "In a new cell below that one, use `shutil.make_archive` to create a `gztar` formatted archive of everything in the current directory."
   ]
  },
  {
   "cell_type": "code",
   "execution_count": null,
   "metadata": {},
   "outputs": [],
   "source": [
    "import shutil\n",
    "shutil.make_archive?"
   ]
  },
  {
   "cell_type": "markdown",
   "metadata": {},
   "source": [
    "## Path.py\n",
    "\n",
    "The [path library](https://pathpy.readthedocs.io/en/stable/api.html) is a nicely documented, neatly organized library that provides high level and object oriented interfaces to operating system and file system operations and queries. The main entree to using these facilities is one class, `path.Path`. It represents a filesystem path (if you can believe it) and provides a slew of object oriented methods and even useful operator overloads. We can use the IPython features we learned in `ipython-basics.ipynb` to learn more about these."
   ]
  },
  {
   "cell_type": "code",
   "execution_count": null,
   "metadata": {},
   "outputs": [],
   "source": [
    "# Import the module\n",
    "import path\n",
    "\n",
    "# Show it's documentation\n",
    "path.Path?"
   ]
  },
  {
   "cell_type": "code",
   "execution_count": null,
   "metadata": {},
   "outputs": [],
   "source": [
    "# Get the documentation for getcwd\n",
    "path.Path.getcwd?\n",
    "\n",
    "# The \"current working directory\" is the directory we started this notebook in\n",
    "cwd = path.Path.getcwd()\n",
    "# This is python, so good objects play nicely with sensible \"duck-typing\", in this case, Path instances cooperate when they are asked to act like a string\n",
    "print(cwd)"
   ]
  },
  {
   "cell_type": "code",
   "execution_count": null,
   "metadata": {},
   "outputs": [],
   "source": [
    "# Path instances also override the `/` operator such that you can combine Path instances and strings using an intuitive syntax\n",
    "images_path = cwd / 'images'\n",
    "display(images_path) # if you display it, it's obviously a Path instance...\n",
    "print(images_path) # ...but if you print it, it acts like a string, because a string is what the print method expects"
   ]
  },
  {
   "cell_type": "markdown",
   "metadata": {},
   "source": [
    "## Making use of Paths\n",
    "\n",
    "Perform each of the following in a new cell you create below this cell (hopefully using the appropriate hotkeys to do so). Any paths mentioned are relative (to the current working directory).\n",
    "* Check for the existence of a file or directory at a Path instance. Check the following paths: ipython-basics.ipynb, images, this-path-doesnt-exist. If the Path exists, check to see if it is a file and then check to see if it is a directory. [Docs on existence](https://pathpy.readthedocs.io/en/stable/api.html#path.Path.exists) [Docs on is a file](https://pathpy.readthedocs.io/en/stable/api.html#path.Path.isfile) [Docs on is a directory](https://pathpy.readthedocs.io/en/stable/api.html#path.Path.isdir)\n",
    "* `display` the text of `untitled.txt`. [Docs on text](https://pathpy.readthedocs.io/en/stable/api.html#path.Path.text)\n",
    "* `display` the path of all files in the current working directory recursively. [Docs on walkfiles](https://pathpy.readthedocs.io/en/stable/api.html#path.Path.walkfiles)\n",
    "* `display` the path of all `.png` files in the current working directory recursively. Hint: `walkfiles` accepts wildcard patterns.\n",
    "* Use `write_text` to write whatever text you'd like to the path `mine.txt`. [Docs on writetext](https://pathpy.readthedocs.io/en/stable/api.html#path.Path.write_text)"
   ]
  },
  {
   "cell_type": "markdown",
   "metadata": {},
   "source": [
    "## Other fun Path tricks\n",
    "\n",
    "As discussed previously, a Path instance will _usually_ act the way you want it to if you pass it into a function that expects a string describing a path, an open file handle, etc. You can also call `open` on a `Path` instance the same way you would using the python open built-in function, but in an object oriented manner where `open` is a method of the `Path` instance. This is demonstrated in the cell below."
   ]
  },
  {
   "cell_type": "code",
   "execution_count": null,
   "metadata": {},
   "outputs": [],
   "source": [
    "textfile_path = cwd / 'untitled.txt'\n",
    "\n",
    "with open(textfile_path, 'r') as readmode_open_file:\n",
    "    text1 = readmode_open_file.read()\n",
    "    \n",
    "with textfile_path.open('r') as readmode_open_file:\n",
    "    text2 = readmode_open_file.read()\n",
    "    \n",
    "text3 = textfile_path.text()\n",
    "\n",
    "assert text1 == text2 and text2 == text3, 'Those strings should have been the same...'\n",
    "\n",
    "display(text1)\n",
    "print(text1)"
   ]
  },
  {
   "cell_type": "markdown",
   "metadata": {},
   "source": [
    "### The next notebook is `formats.ipynb`"
   ]
  }
 ],
 "metadata": {
  "kernelspec": {
   "display_name": "Python 3",
   "language": "python",
   "name": "python3"
  },
  "language_info": {
   "codemirror_mode": {
    "name": "ipython",
    "version": 3
   },
   "file_extension": ".py",
   "mimetype": "text/x-python",
   "name": "python",
   "nbconvert_exporter": "python",
   "pygments_lexer": "ipython3",
   "version": "3.7.3"
  }
 },
 "nbformat": 4,
 "nbformat_minor": 4
}
